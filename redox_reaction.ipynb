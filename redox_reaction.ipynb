{
 "cells": [
  {
   "cell_type": "code",
   "execution_count": 1,
   "id": "2009dd92",
   "metadata": {},
   "outputs": [],
   "source": [
    "from compound import Compound\n",
    "from equations import ChemicalEquation"
   ]
  },
  {
   "cell_type": "markdown",
   "id": "d1166fe1",
   "metadata": {},
   "source": [
    "# Redox reaction example\n",
    "![image.png](images/kemiske-reaktioner-question-2.png)"
   ]
  },
  {
   "cell_type": "markdown",
   "id": "35658edb",
   "metadata": {},
   "source": [
    "We start by looking at the change in oxidation numbers in the reaction.\n",
    "\n",
    "| Species        | Br | Cr | O  |\n",
    "| -------------- | -- | -- | -- |\n",
    "| **Left side**  | –1 | +6 | –2 |\n",
    "| **Right side** | 0  | +3 | —  |\n",
    "\n",
    "* Br goes from –1 → 0 (oxidation; loss of 1 $e^-$)\n",
    "* Cr goes from +6 → +3 (reduction; gain of $3 e^-$ per Cr)\n",
    "\n",
    "We now know that 1 Br atom is oxidized and 3 Cr atoms are reduced. This means that we need 3 $Br_2$ to the right side balance the reaction and therefore 6 to the left.\n",
    "\n",
    "The reaction becomes:\n",
    "$$\n",
    "6 \\text{Br}^- + \\text{Cr}_2\\text{O}_7^{2-} \\rightarrow 3 \\text{Br}_2 + 2\\text{Cr}^{3+}\n",
    "$$\n",
    "\n",
    "We can now balance the reaction by adding $H^+$ (acidic medium) or $OH^-$ (basic medium) to balance the charges and atoms. We add 14 $H^+$ to the left side to balance the 6 $Br^- + \\text{Cr}_2\\text{O}_7^{2-}$ and 2 $Cr^{3+}$ on the right side.\n",
    "$$\n",
    "6 \\text{Br}^- + \\text{Cr}_2\\text{O}_7^{2-} + 14 \\text{H}^+ \\rightarrow 3 \\text{Br}_2 + 2\\text{Cr}^{3+}\n",
    "$$\n"
   ]
  },
  {
   "cell_type": "markdown",
   "id": "c601030c",
   "metadata": {},
   "source": [
    "Now we can make a table for how much water we need to add to balance the reaction:\n",
    "| Species        | H  | O  |\n",
    "| -------------- | -- | -- |\n",
    "| **Left side**  | 14 | 7  |\n",
    "| **Right side** | 0  | 0  |\n",
    "| **Diff**        | 14 | 7  |\n",
    "| **Count H2O**  | 7  |\n",
    "\n",
    "We can now add 7 $H_2O$ to the right side of the equation:\n",
    "$$\n",
    "6 \\text{Br}^- + \\text{Cr}_2\\text{O}_7^{2-} + 14 \\text{H}^+ \\rightarrow 3 \\text{Br}_2 + 2\\text{Cr}^{3+} + 7 \\text{H}_2\\text{O}\n",
    "$$\n"
   ]
  },
  {
   "cell_type": "markdown",
   "id": "64e2ed05",
   "metadata": {},
   "source": [
    "# Net ionic reaction"
   ]
  },
  {
   "cell_type": "code",
   "execution_count": 2,
   "id": "2ba26554",
   "metadata": {},
   "outputs": [
    {
     "name": "stdout",
     "output_type": "stream",
     "text": [
      "Reaction type: Single Displacement\n",
      "Molecular: SnCl2(aq) + Fe(s) -> FeCl2(aq) + Sn(s)\n",
      "Ionic:     Sn(aq)^2+ + 2Cl(aq)^- + Fe(s) -> Fe(aq)^2+ + 2Cl(aq)^- + Sn(s)\n",
      "Net ionic: Sn(aq)^2+ + Fe(s) -> Fe(aq)^2+ + Sn(s)\n"
     ]
    }
   ],
   "source": [
    "sncl2 = Compound(\"SnCl2\"); sncl2.phase = \"aq\"\n",
    "fe = Compound(\"Fe\"); fe.phase = \"s\"\n",
    "fecl2 = Compound(\"FeCl2\"); fecl2.phase = \"aq\"\n",
    "sn = Compound(\"Sn\"); sn.phase = \"s\"\n",
    "\n",
    "equation = ChemicalEquation([sncl2, fe], [fecl2, sn])\n",
    "\n",
    "print(equation)\n"
   ]
  },
  {
   "cell_type": "code",
   "execution_count": null,
   "id": "9567ad24",
   "metadata": {},
   "outputs": [],
   "source": []
  }
 ],
 "metadata": {
  "kernelspec": {
   "display_name": "KEMI",
   "language": "python",
   "name": "python3"
  },
  "language_info": {
   "codemirror_mode": {
    "name": "ipython",
    "version": 3
   },
   "file_extension": ".py",
   "mimetype": "text/x-python",
   "name": "python",
   "nbconvert_exporter": "python",
   "pygments_lexer": "ipython3",
   "version": "3.13.5"
  }
 },
 "nbformat": 4,
 "nbformat_minor": 5
}
