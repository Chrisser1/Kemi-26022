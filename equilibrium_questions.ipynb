{
 "cells": [
  {
   "cell_type": "code",
   "execution_count": 4,
   "id": "e90eed97",
   "metadata": {},
   "outputs": [],
   "source": [
    "import equilibrium as eq\n",
    "from compound import Compound\n",
    "from equations import ChemicalEquation"
   ]
  },
  {
   "cell_type": "markdown",
   "id": "6b8bc486",
   "metadata": {},
   "source": [
    "# Calculates the equilibrium constant Kp from equilibrium partial pressures"
   ]
  },
  {
   "cell_type": "code",
   "execution_count": 5,
   "id": "8d4dab13",
   "metadata": {},
   "outputs": [
    {
     "name": "stdout",
     "output_type": "stream",
     "text": [
      "The value of Kp is 1.09\n"
     ]
    }
   ],
   "source": [
    "\n",
    "\n",
    "# --- 1. Define the compounds and the reaction ---\n",
    "pcl3 = Compound(\"CO\"); pcl3.phase = 'g'\n",
    "cl2 = Compound(\"Cl2\"); cl2.phase = 'g'\n",
    "cocl2 = Compound(\"COCl2\"); cocl2.phase = 'g'\n",
    "\n",
    "reaction = ChemicalEquation(reactants=[pcl3, cl2], products=[cocl2])\n",
    "\n",
    "# --- 2. Define the dictionary of equilibrium partial pressures ---\n",
    "pressures = {\n",
    "    pcl3: 1.55,\n",
    "    cl2: 1.10,\n",
    "    cocl2: 1.85\n",
    "}\n",
    "\n",
    "# --- 3. Calculation ---\n",
    "kp_value = eq.calculate_kp(reaction, pressures)\n",
    "\n",
    "print(f\"The value of Kp is {kp_value:.2f}\")"
   ]
  },
  {
   "cell_type": "markdown",
   "id": "0fa8b019",
   "metadata": {},
   "source": [
    "# value of K_c based on original value"
   ]
  },
  {
   "cell_type": "code",
   "execution_count": 6,
   "id": "cc2721fb",
   "metadata": {},
   "outputs": [
    {
     "name": "stdout",
     "output_type": "stream",
     "text": [
      "The new equilibrium constant is 0.417\n"
     ]
    }
   ],
   "source": [
    "# --- Given values ---\n",
    "k_original = 5.76\n",
    "\n",
    "# --- Manipulations ---\n",
    "# 1. The reaction was reversed.\n",
    "# 2. The reaction was multiplied by 1/2.\n",
    "new_k = eq.manipulate_equilibrium_constant(\n",
    "    original_k=k_original,\n",
    "    is_reversed=True,\n",
    "    multiplier=0.5\n",
    ")\n",
    "\n",
    "print(f\"The new equilibrium constant is {new_k:.3f}\")"
   ]
  },
  {
   "cell_type": "code",
   "execution_count": 7,
   "id": "73538188",
   "metadata": {},
   "outputs": [
    {
     "name": "stdout",
     "output_type": "stream",
     "text": [
      "The new equilibrium constant is 3.975422e-04\n"
     ]
    }
   ],
   "source": [
    "# --- Given values ---\n",
    "k_original = 13.6\n",
    "\n",
    "# --- Manipulations ---\n",
    "# 1. The reaction was reversed.\n",
    "# 2. The reaction was multiplied by 3.\n",
    "new_k = eq.manipulate_equilibrium_constant(\n",
    "    original_k=k_original,\n",
    "    is_reversed=True,\n",
    "    multiplier=3\n",
    ")\n",
    "\n",
    "print(f\"The new equilibrium constant is {new_k:e}\")"
   ]
  },
  {
   "cell_type": "code",
   "execution_count": 8,
   "id": "fbbb5c55",
   "metadata": {},
   "outputs": [
    {
     "name": "stdout",
     "output_type": "stream",
     "text": [
      "The new equilibrium constant is 2.246760e+03\n"
     ]
    }
   ],
   "source": [
    "# --- Given values ---\n",
    "k_original = 47.4\n",
    "\n",
    "# --- Manipulations ---\n",
    "# 1. The reaction was multiplied by 2.\n",
    "new_k = eq.manipulate_equilibrium_constant(\n",
    "    original_k=k_original,\n",
    "    is_reversed=False,\n",
    "    multiplier=2\n",
    ")\n",
    "\n",
    "print(f\"The new equilibrium constant is {new_k:e}\")"
   ]
  },
  {
   "cell_type": "code",
   "execution_count": 9,
   "id": "b1eb16d1",
   "metadata": {},
   "outputs": [
    {
     "name": "stdout",
     "output_type": "stream",
     "text": [
      "The new equilibrium constant is 1.000000e-10\n"
     ]
    }
   ],
   "source": [
    "# --- Given values ---\n",
    "k_original = 1.00e-5\n",
    "\n",
    "# --- Manipulations ---\n",
    "# 1. The reaction was multiplied by 2.\n",
    "new_k = eq.manipulate_equilibrium_constant(\n",
    "    original_k=k_original,\n",
    "    is_reversed=False,\n",
    "    multiplier=2\n",
    ")\n",
    "\n",
    "print(f\"The new equilibrium constant is {new_k:e}\")"
   ]
  },
  {
   "cell_type": "markdown",
   "id": "87267597",
   "metadata": {},
   "source": [
    "# Value of Kc based on concentrations"
   ]
  },
  {
   "cell_type": "code",
   "execution_count": 10,
   "id": "8d85793f",
   "metadata": {},
   "outputs": [
    {
     "name": "stdout",
     "output_type": "stream",
     "text": [
      "The value of Kc is 0.664\n"
     ]
    }
   ],
   "source": [
    "# --- 1. Define the compounds and the reaction ---\n",
    "co = Compound(\"NH4HS\"); co.phase = 's'\n",
    "cl2 = Compound(\"NH3\"); cl2.phase = 'g'\n",
    "caco3 = Compound(\"H2S\"); caco3.phase = 'g'\n",
    "\n",
    "reaction = ChemicalEquation(reactants=[co], products=[cl2, caco3])\n",
    "\n",
    "# --- 2. Define the dictionary of equilibrium concentrations ---\n",
    "concentrations = {\n",
    "    cl2: 0.974,\n",
    "    caco3: 0.682\n",
    "    # NH4HS is omitted as its concentration is not needed\n",
    "}\n",
    "\n",
    "# --- 3. Calculation ---\n",
    "kc_value = eq.calculate_kc(reaction, concentrations)\n",
    "\n",
    "print(f\"The value of Kc is {kc_value:.3f}\")"
   ]
  },
  {
   "cell_type": "code",
   "execution_count": 11,
   "id": "ca42f936",
   "metadata": {},
   "outputs": [
    {
     "name": "stdout",
     "output_type": "stream",
     "text": [
      "The value of Kc is 400.000\n"
     ]
    }
   ],
   "source": [
    "# --- 1. Define the compounds and the reaction ---\n",
    "cao = Compound(\"CaO\"); cao.phase = 's'\n",
    "co2 = Compound(\"CO2\"); co2.phase = 'g'\n",
    "caco3 = Compound(\"CaCO3\"); caco3.phase = 's'\n",
    "\n",
    "reaction = ChemicalEquation(reactants=[cao, co2], products=[caco3])\n",
    "\n",
    "# --- 2. Define the dictionary of equilibrium concentrations ---\n",
    "concentrations = {\n",
    "    cao: 59.8, # M\n",
    "    co2: 2.5e-3, # M\n",
    "    caco3: 27.1 # M\n",
    "}\n",
    "\n",
    "# --- 3. Calculation ---\n",
    "kc_value = eq.calculate_kc(reaction, concentrations)\n",
    "\n",
    "print(f\"The value of Kc is {kc_value:.3f}\")"
   ]
  },
  {
   "cell_type": "code",
   "execution_count": 12,
   "id": "0a1ef871",
   "metadata": {},
   "outputs": [
    {
     "name": "stdout",
     "output_type": "stream",
     "text": [
      "The value of Ksp is 5.0e-05\n"
     ]
    }
   ],
   "source": [
    "# --- 1. Define the compounds and the reaction ---\n",
    "al_oh_3 = Compound(\"Al(OH)3\"); al_oh_3.phase = 's'\n",
    "al_ion = Compound(\"Al\"); al_ion.phase = 'aq'; al_ion.charge = 3\n",
    "oh_ion = Compound(\"OH\"); oh_ion.phase = 'aq'; oh_ion.charge = -1\n",
    "\n",
    "reaction = ChemicalEquation(reactants=[al_oh_3], products=[al_ion, oh_ion])\n",
    "\n",
    "# --- 2. Define the dictionary of equilibrium concentrations ---\n",
    "concentrations = {\n",
    "    al_ion: 5.0e-2,\n",
    "    oh_ion: 0.10\n",
    "}\n",
    "\n",
    "# --- 3. Calculation ---\n",
    "# The calculate_kc function automatically excludes the solid reactant\n",
    "ksp_value = eq.calculate_kc(reaction, concentrations)\n",
    "\n",
    "print(f\"The value of Ksp is {ksp_value:.1e}\")"
   ]
  },
  {
   "cell_type": "markdown",
   "id": "cd76f30d",
   "metadata": {},
   "source": [
    "# Calculate the equilibrium concentration based on K and concentration"
   ]
  },
  {
   "cell_type": "code",
   "execution_count": 13,
   "id": "5f56b681",
   "metadata": {},
   "outputs": [
    {
     "name": "stdout",
     "output_type": "stream",
     "text": [
      "The equilibrium concentration of HN₃ is 1.4 M\n"
     ]
    }
   ],
   "source": [
    "# --- 1. Define the compounds and the reaction ---\n",
    "hn3 = Compound(\"HN3\"); hn3.phase = 'aq'\n",
    "h2o = Compound(\"H2O\"); h2o.phase = 'l'\n",
    "n3 = Compound(\"N3\"); n3.phase = 'aq'; n3.charge = -1\n",
    "h3o = Compound(\"H3O\"); h3o.phase = 'aq'; h3o.charge = 1\n",
    "\n",
    "reaction = ChemicalEquation(reactants=[hn3, h2o], products=[n3, h3o])\n",
    "\n",
    "# --- 2. Define the known values ---\n",
    "k_val = 2.5e-5\n",
    "known_concs = {\n",
    "    n3: 6.0e-3,\n",
    "    h3o: 6.0e-3\n",
    "}\n",
    "\n",
    "# --- 3. Calculation ---\n",
    "hn3_conc = eq.solve_for_equilibrium_concentration(reaction, k_val, known_concs)\n",
    "\n",
    "print(f\"The equilibrium concentration of HN₃ is {hn3_conc:.1f} M\")\n"
   ]
  },
  {
   "cell_type": "code",
   "execution_count": 14,
   "id": "dce24782",
   "metadata": {},
   "outputs": [
    {
     "name": "stdout",
     "output_type": "stream",
     "text": [
      "The equilibrium concentration of H₂S is 5.38e-02 M\n"
     ]
    }
   ],
   "source": [
    "# --- 1. Define the compounds and the reaction ---\n",
    "co = Compound(\"NH4HS\"); co.phase = 's'\n",
    "cl2 = Compound(\"NH3\"); cl2.phase = 'g'\n",
    "cocl2 = Compound(\"H2S\"); cocl2.phase = 'g'\n",
    "\n",
    "reaction = ChemicalEquation(reactants=[co], products=[cl2, cocl2])\n",
    "\n",
    "# --- 2. Define the known values ---\n",
    "k_val = 0.293\n",
    "known_concs = {\n",
    "    cl2: 5.45\n",
    "    # The unknown, H₂S, is omitted from the dictionary\n",
    "}\n",
    "\n",
    "# --- 3. Calculation ---\n",
    "h2s_conc = eq.solve_for_equilibrium_concentration(reaction, k_val, known_concs)\n",
    "\n",
    "print(f\"The equilibrium concentration of H₂S is {h2s_conc:.2e} M\")"
   ]
  },
  {
   "cell_type": "code",
   "execution_count": 15,
   "id": "25714f22",
   "metadata": {},
   "outputs": [
    {
     "name": "stdout",
     "output_type": "stream",
     "text": [
      "The equilibrium concentration of H₂S is 4.30e+00 M\n"
     ]
    }
   ],
   "source": [
    "# --- 1. Define the compounds and the reaction ---\n",
    "co = Compound(\"CO\"); co.phase = 'g'\n",
    "cl2 = Compound(\"Cl2\"); cl2.phase = 'g'\n",
    "cocl2 = Compound(\"COCl2\"); cocl2.phase = 'g'\n",
    "\n",
    "reaction = ChemicalEquation(reactants=[co, cl2], products=[cocl2])\n",
    "\n",
    "# --- 2. Define the known values ---\n",
    "k_val = 12.6\n",
    "known_concs = {\n",
    "    co: 0.525,\n",
    "    cl2: 0.65\n",
    "    # The unknown, H₂S, is omitted from the dictionary\n",
    "}\n",
    "\n",
    "# --- 3. Calculation ---\n",
    "h2s_conc = eq.solve_for_equilibrium_concentration(reaction, k_val, known_concs)\n",
    "\n",
    "print(f\"The equilibrium concentration of H₂S is {h2s_conc:.2e} M\")"
   ]
  },
  {
   "cell_type": "markdown",
   "id": "c10b4b2f",
   "metadata": {},
   "source": [
    "# Concentration based on K_sp"
   ]
  },
  {
   "cell_type": "code",
   "execution_count": 16,
   "id": "0b53c67c",
   "metadata": {},
   "outputs": [
    {
     "name": "stdout",
     "output_type": "stream",
     "text": [
      "The molar solubility (and [Ba²⁺]) is 7.2e-04 M\n"
     ]
    }
   ],
   "source": [
    "# --- Given values ---\n",
    "formula = \"Ba(IO3)2\" # Note: our simple parser won't handle this well.\n",
    "ksp_value = 1.5e-9\n",
    "\n",
    "# The parser is simple, so we'll treat Ba(IO3)2 as a generic AB2 salt for the calculation\n",
    "# Where A=Ba (coeff 1) and B=IO3 (coeff 2)\n",
    "# Ksp = (s) * (2s)^2 = 4s^3\n",
    "s = (ksp_value / 4)**(1/3)\n",
    "\n",
    "print(f\"The molar solubility (and [Ba²⁺]) is {s:.1e} M\")\n"
   ]
  },
  {
   "cell_type": "markdown",
   "id": "03b8712f",
   "metadata": {},
   "source": [
    "# Value of K_c based on K_p\n"
   ]
  },
  {
   "cell_type": "code",
   "execution_count": 23,
   "id": "5c36d009",
   "metadata": {},
   "outputs": [
    {
     "name": "stdout",
     "output_type": "stream",
     "text": [
      "The value of Kc is 3.66e+06\n"
     ]
    }
   ],
   "source": [
    "# --- Given values ---\n",
    "kp = 1.12\n",
    "temp_C = 245\n",
    "\n",
    "# --- Manually determine Δn for Ni(s) + 4CO(g) ⇌ Ni(CO)₄(g) ---\n",
    "moles_gas_products = 1\n",
    "moles_gas_reactants = 5\n",
    "delta_n = moles_gas_products - moles_gas_reactants  # Should be -3\n",
    "\n",
    "# --- Calculation ---\n",
    "temp_K = temp_C + 273.15\n",
    "kc = eq.convert_kp_to_kc(kp, temp_K, delta_n)\n",
    "\n",
    "print(f\"The value of Kc is {kc:.2e}\")"
   ]
  },
  {
   "cell_type": "code",
   "execution_count": 24,
   "id": "bf12e031",
   "metadata": {},
   "outputs": [
    {
     "name": "stdout",
     "output_type": "stream",
     "text": [
      "The value of Kc is 1.29e+03\n"
     ]
    }
   ],
   "source": [
    "# --- Given values ---\n",
    "kp = 2.45e-3\n",
    "temp_K = 985\n",
    "\n",
    "# --- Manually determine Δn for 4Ag(s) + O₂(g) ⇌ 2Ag₂O(s) ---\n",
    "moles_gas_products = 2\n",
    "moles_gas_reactants = 5\n",
    "delta_n = moles_gas_products - moles_gas_reactants  # Should be -1\n",
    "\n",
    "# --- Calculation ---\n",
    "kc = eq.convert_kp_to_kc(kp, temp_K, delta_n)\n",
    "\n",
    "print(f\"The value of Kc is {kc:.2e}\")"
   ]
  },
  {
   "cell_type": "code",
   "execution_count": 25,
   "id": "ccd08a48",
   "metadata": {},
   "outputs": [
    {
     "name": "stdout",
     "output_type": "stream",
     "text": [
      "The value of Kc is 3.34e-05\n"
     ]
    }
   ],
   "source": [
    "# --- Given values ---\n",
    "kp = 8.18e-4\n",
    "temp_C = 25.0\n",
    "\n",
    "# --- Manually determine Δn for the reaction PCl₅ ⇌ PCl₃ + Cl₂ ---\n",
    "moles_gas_products = 1 + 1\n",
    "moles_gas_reactants = 1\n",
    "delta_n = moles_gas_products - moles_gas_reactants  # 1\n",
    "\n",
    "# --- Calculation ---\n",
    "temp_K = temp_C + 273.15\n",
    "kc = eq.convert_kp_to_kc(kp, temp_K, delta_n)\n",
    "\n",
    "print(f\"The value of Kc is {kc:.2e}\")"
   ]
  },
  {
   "cell_type": "markdown",
   "id": "661d2abb",
   "metadata": {},
   "source": [
    "# Value of K_p based on K_c\n"
   ]
  },
  {
   "cell_type": "code",
   "execution_count": 20,
   "id": "4a7a2f1d",
   "metadata": {},
   "outputs": [
    {
     "name": "stdout",
     "output_type": "stream",
     "text": [
      "The value of Kp is 0.0269\n"
     ]
    }
   ],
   "source": [
    "# --- Given values ---\n",
    "kc = 45.8\n",
    "temp = 496  # K\n",
    "\n",
    "# --- Manually determine Δn for the specific reaction 4NO₂ ⇌ 2N₂O₄ ---\n",
    "moles_gas_products = 2\n",
    "moles_gas_reactants = 4\n",
    "delta_n = moles_gas_products - moles_gas_reactants  # -2\n",
    "\n",
    "# --- Calculation ---\n",
    "kp = eq.convert_kc_to_kp(kc, temp, delta_n)\n",
    "\n",
    "print(f\"The value of Kp is {kp:.4f}\")"
   ]
  },
  {
   "cell_type": "markdown",
   "id": "d9e7d4f8",
   "metadata": {},
   "source": [
    "# Calculate partial pressure based on equilibrium constant and pressure "
   ]
  },
  {
   "cell_type": "code",
   "execution_count": 21,
   "id": "e8715928",
   "metadata": {},
   "outputs": [
    {
     "name": "stdout",
     "output_type": "stream",
     "text": [
      "The partial pressure of phosgene is 4.30 atm\n"
     ]
    }
   ],
   "source": [
    "# --- 1. Define the compounds and the reaction ---\n",
    "co = Compound(\"CO\"); co.phase = 'g'\n",
    "cl2 = Compound(\"Cl2\"); cl2.phase = 'g'\n",
    "cocl2 = Compound(\"COCl2\"); cocl2.phase = 'g'\n",
    "\n",
    "reaction = ChemicalEquation(reactants=[co, cl2], products=[cocl2])\n",
    "\n",
    "# --- 2. Define the known values ---\n",
    "kp_val = 12.6\n",
    "known_pressures = {\n",
    "    co: 0.525,\n",
    "    cl2: 0.650\n",
    "}\n",
    "\n",
    "# --- 3. Calculation ---\n",
    "cocl2_pressure = eq.solve_for_equilibrium_pressure(reaction, kp_val, known_pressures)\n",
    "\n",
    "print(f\"The partial pressure of phosgene is {cocl2_pressure:.2f} atm\")"
   ]
  },
  {
   "cell_type": "code",
   "execution_count": null,
   "id": "22a46c10",
   "metadata": {},
   "outputs": [],
   "source": []
  }
 ],
 "metadata": {
  "kernelspec": {
   "display_name": "KEMI",
   "language": "python",
   "name": "python3"
  },
  "language_info": {
   "codemirror_mode": {
    "name": "ipython",
    "version": 3
   },
   "file_extension": ".py",
   "mimetype": "text/x-python",
   "name": "python",
   "nbconvert_exporter": "python",
   "pygments_lexer": "ipython3",
   "version": "3.13.5"
  }
 },
 "nbformat": 4,
 "nbformat_minor": 5
}
