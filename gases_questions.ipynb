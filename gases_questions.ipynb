{
 "cells": [
  {
   "cell_type": "code",
   "execution_count": 1,
   "id": "1fcbec38",
   "metadata": {},
   "outputs": [],
   "source": [
    "from compound import *\n",
    "import gases"
   ]
  },
  {
   "cell_type": "markdown",
   "id": "ef78556e",
   "metadata": {},
   "source": [
    "# Examples from the self assessment of the Kemi-26022 course\n",
    "![image.png](images/gases-question-7.png)"
   ]
  },
  {
   "cell_type": "code",
   "execution_count": 2,
   "id": "c901a503",
   "metadata": {},
   "outputs": [
    {
     "name": "stdout",
     "output_type": "stream",
     "text": [
      "Volume of 1 mole of gas at 25°C and 1 bar: 24.8 L\n"
     ]
    }
   ],
   "source": [
    "V = gases.ideal_gas_volume(n=1.0, T=25.0, p=1.0)\n",
    "print(f\"Volume of 1 mole of gas at 25°C and 1 bar: {V:.1f} L\")"
   ]
  },
  {
   "cell_type": "markdown",
   "id": "660bdb73",
   "metadata": {},
   "source": [
    "![image.png](images/gases-question-8.png)"
   ]
  },
  {
   "cell_type": "code",
   "execution_count": 3,
   "id": "c7f8c5c6",
   "metadata": {},
   "outputs": [
    {
     "name": "stdout",
     "output_type": "stream",
     "text": [
      "241 L\n"
     ]
    }
   ],
   "source": [
    "he = Compound(\"He\")\n",
    "he.set_moles(10)\n",
    "print(f\"{he.volume(20, 1, p_unit='atm'):.0f} L\")"
   ]
  },
  {
   "cell_type": "markdown",
   "id": "1eeecea6",
   "metadata": {},
   "source": [
    "![image.png](images/gases-question-9.png)"
   ]
  },
  {
   "cell_type": "code",
   "execution_count": 4,
   "id": "7c91957c",
   "metadata": {},
   "outputs": [
    {
     "name": "stdout",
     "output_type": "stream",
     "text": [
      "34.18902236077254 bar\n"
     ]
    }
   ],
   "source": [
    "o2 = Compound(\"O2\")\n",
    "o2.set_mass(1000)\n",
    "print(f\"{o2.pressure(T=-10, V=20, p_unit='bar')} bar\")"
   ]
  },
  {
   "cell_type": "markdown",
   "id": "06845869",
   "metadata": {},
   "source": [
    "![image.png](images/gases-question-10.png)"
   ]
  },
  {
   "cell_type": "code",
   "execution_count": 5,
   "id": "1abd2a93",
   "metadata": {},
   "outputs": [
    {
     "name": "stdout",
     "output_type": "stream",
     "text": [
      "CO₂ partial pressure: 11.3 bar\n",
      "Total pressure:       12.3 bar\n"
     ]
    }
   ],
   "source": [
    "p_initial_atm = 1.0\n",
    "p_initial_bar = gases._to_bar(p_initial_atm, \"atm\")\n",
    "\n",
    "co2 = Compound(\"CO2\")\n",
    "co2.set_mass(10)\n",
    "P_co2_bar = co2.pressure(T=25, V=0.5, p_unit='bar')\n",
    "\n",
    "P_total_bar = p_initial_bar + P_co2_bar\n",
    "\n",
    "print(f\"CO₂ partial pressure: {P_co2_bar:.1f} bar\")\n",
    "print(f\"Total pressure:       {P_total_bar:.1f} bar\")"
   ]
  },
  {
   "cell_type": "markdown",
   "id": "1aade054",
   "metadata": {},
   "source": [
    "![image.png](images/gases-question-11.png)"
   ]
  },
  {
   "cell_type": "code",
   "execution_count": 6,
   "id": "2f0c4a7c",
   "metadata": {},
   "outputs": [
    {
     "name": "stdout",
     "output_type": "stream",
     "text": [
      "Amount of gas: 807 mol\n"
     ]
    }
   ],
   "source": [
    "V = 100\n",
    "P = 200\n",
    "T = 25\n",
    "\n",
    "n = gases.ideal_gas_amount(\n",
    "    P=P, T=T, V=V, p_unit='bar', T_unit='C', V_unit='L'\n",
    ")\n",
    "print(f\"Amount of gas: {n:.0f} mol\")"
   ]
  },
  {
   "cell_type": "markdown",
   "id": "75f0cd85",
   "metadata": {},
   "source": [
    "![image.png](images/gases-question-12.png)"
   ]
  },
  {
   "cell_type": "code",
   "execution_count": 7,
   "id": "1fa3fd3e",
   "metadata": {},
   "outputs": [
    {
     "name": "stdout",
     "output_type": "stream",
     "text": [
      "P_total = 0.90 atm\n",
      "x_N2 = 0.667\n",
      "x_O2 = 0.333\n"
     ]
    }
   ],
   "source": [
    "partials = {\"N2\": 0.6, \"O2\": 0.3}\n",
    "P_tot, mole_fracs = gases.total_pressure_and_mole_fractions(\n",
    "    partials=partials, p_unit='atm'\n",
    ")\n",
    "\n",
    "print(f\"P_total = {P_tot:.2f} atm\")\n",
    "for sp, x in mole_fracs.items():\n",
    "    print(f\"x_{sp} = {x:.3f}\")"
   ]
  },
  {
   "cell_type": "markdown",
   "id": "0e07417e",
   "metadata": {},
   "source": [
    "![image.png](images/gases-question-13.png)"
   ]
  },
  {
   "cell_type": "code",
   "execution_count": 8,
   "id": "53cc5666",
   "metadata": {},
   "outputs": [
    {
     "name": "stdout",
     "output_type": "stream",
     "text": [
      "T = 315.3 °C\n"
     ]
    }
   ],
   "source": [
    "V = 12.51 # m3\n",
    "O2 = Compound(\"O2\"); O2.set_moles(5423.0)\n",
    "P = 21.21 # bar\n",
    "\n",
    "print(f\"T = {O2.temperature(P=P, V=V, p_unit='bar', V_unit='m3'):.1f} °C\")\n"
   ]
  },
  {
   "cell_type": "markdown",
   "id": "a0573d2b",
   "metadata": {},
   "source": [
    "![image.png](images/gases-question-14.png)"
   ]
  },
  {
   "cell_type": "code",
   "execution_count": 9,
   "id": "f15d2300",
   "metadata": {},
   "outputs": [
    {
     "name": "stdout",
     "output_type": "stream",
     "text": [
      "T = -21 °C\n"
     ]
    }
   ],
   "source": [
    "V = 3 # cm3\n",
    "He = Compound(\"He\")\n",
    "mol = 1 # mmol\n",
    "He.set_moles(mol / 1000)  # Convert mmol to mol\n",
    "P = 7 # bar\n",
    "print(f\"T = {He.temperature(P=P, V=V, p_unit='bar', V_unit='cm3'):.0f} °C\")"
   ]
  },
  {
   "cell_type": "markdown",
   "id": "97baeb86",
   "metadata": {},
   "source": [
    "![image.png](images/gases-question-15.png)"
   ]
  },
  {
   "cell_type": "code",
   "execution_count": 10,
   "id": "164713df",
   "metadata": {},
   "outputs": [
    {
     "name": "stdout",
     "output_type": "stream",
     "text": [
      "Amount of CH₄: 0.04 mol\n"
     ]
    }
   ],
   "source": [
    "V = 3.2 # L\n",
    "T = 20 # °C\n",
    "partials = {\"CH4\": 0.28, \"C2H6\": 0.40, \"C3H8\": 0.11}\n",
    "\n",
    "P_tot = sum(partials.values())\n",
    "\n",
    "n_tot = gases.ideal_gas_amount(\n",
    "    P=P_tot, T=T, V=V, p_unit='atm', T_unit='C', V_unit='L'\n",
    ")\n",
    "\n",
    "x_CH4 = partials[\"CH4\"] / P_tot\n",
    "n_CH4 = x_CH4 * n_tot\n",
    "\n",
    "print(f\"Amount of CH₄: {n_CH4:.2f} mol\")"
   ]
  },
  {
   "cell_type": "markdown",
   "id": "9ea21eba",
   "metadata": {},
   "source": [
    "![image.png](images/gases-question-16.png)"
   ]
  },
  {
   "cell_type": "code",
   "execution_count": 11,
   "id": "5fceaca5",
   "metadata": {},
   "outputs": [
    {
     "name": "stdout",
     "output_type": "stream",
     "text": [
      "Temperature of 1 ton CH₄ in 10 L at 200 atm: 117.9 °C\n"
     ]
    }
   ],
   "source": [
    "ch4 = Compound(\"CH4\")\n",
    "ch4.set_mass(1e6) # 1 ton\n",
    "V = 10_000 # L\n",
    "P = 200 # atm\n",
    "\n",
    "T = ch4.temperature(\n",
    "    P=P, V=V, p_unit='atm', V_unit='L', T_unit='C'\n",
    ")\n",
    "\n",
    "print(f\"Temperature of 1 ton CH₄ in 10 L at 200 atm: {T:.1f} °C\")"
   ]
  },
  {
   "cell_type": "markdown",
   "id": "f8ddf4ae",
   "metadata": {},
   "source": [
    "![image.png](images/gases-question-extra-1.png)"
   ]
  },
  {
   "cell_type": "code",
   "execution_count": 12,
   "id": "b25a213d",
   "metadata": {},
   "outputs": [
    {
     "name": "stdout",
     "output_type": "stream",
     "text": [
      "Number of moles of He in 0.845 L at 25 °C: 0.213 mol\n"
     ]
    }
   ],
   "source": [
    "he = Compound(\"He\")\n",
    "he.set_moles(0.0894)\n",
    "V = 0.355 # L\n",
    "V2 = 0.845 # L\n",
    "\n",
    "# If there is no change in temperature or pressure, determine the final nuber of moles of He\n",
    "\n",
    "P = he.pressure(T=25, V=V, p_unit='atm', V_unit='L')\n",
    "\n",
    "n2 = gases.ideal_gas_moles(\n",
    "    P, V2, 25,\n",
    "    p_unit=\"atm\", V_unit=\"L\", T_unit=\"C\"\n",
    ")\n",
    "\n",
    "print(f\"Number of moles of He in 0.845 L at 25 °C: {n2:.3f} mol\")"
   ]
  },
  {
   "cell_type": "code",
   "execution_count": 13,
   "id": "303ec9af",
   "metadata": {},
   "outputs": [
    {
     "name": "stdout",
     "output_type": "stream",
     "text": [
      "Initial volume of the sample: 9.45 L\n"
     ]
    }
   ],
   "source": [
    "mol_start = 15.0\n",
    "mol_end = 10.0\n",
    "V_end = 6.3 # L\n",
    "\n",
    "# If the gas was removed under constant temperature and pressure, what was the initial volume of the sample?\n",
    "# We use the formula v1 / n1 = v2 / n2\n",
    "V_start = V_end * (mol_start / mol_end)\n",
    "print(f\"Initial volume of the sample: {V_start:.2f} L\")"
   ]
  },
  {
   "cell_type": "code",
   "execution_count": null,
   "id": "759e76b6",
   "metadata": {},
   "outputs": [],
   "source": []
  }
 ],
 "metadata": {
  "kernelspec": {
   "display_name": "KEMI",
   "language": "python",
   "name": "python3"
  },
  "language_info": {
   "codemirror_mode": {
    "name": "ipython",
    "version": 3
   },
   "file_extension": ".py",
   "mimetype": "text/x-python",
   "name": "python",
   "nbconvert_exporter": "python",
   "pygments_lexer": "ipython3",
   "version": "3.13.5"
  }
 },
 "nbformat": 4,
 "nbformat_minor": 5
}
