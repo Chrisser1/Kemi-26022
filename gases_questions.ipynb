{
 "cells": [
  {
   "cell_type": "code",
   "execution_count": 29,
   "id": "1fcbec38",
   "metadata": {},
   "outputs": [],
   "source": [
    "from compound import *\n",
    "import gases"
   ]
  },
  {
   "cell_type": "markdown",
   "id": "ef78556e",
   "metadata": {},
   "source": [
    "# Examples from the self assessment of the Kemi-26022 course"
   ]
  },
  {
   "cell_type": "markdown",
   "id": "0326c058",
   "metadata": {},
   "source": [
    "# Volume of gass with temperature and pressure"
   ]
  },
  {
   "cell_type": "markdown",
   "id": "a29c6baa",
   "metadata": {},
   "source": [
    "![image.png](images/gases-question-7.png)"
   ]
  },
  {
   "cell_type": "code",
   "execution_count": 30,
   "id": "c901a503",
   "metadata": {},
   "outputs": [
    {
     "name": "stdout",
     "output_type": "stream",
     "text": [
      "Volume of 1 mole of gas at 25°C and 1 bar: 24.8 L\n"
     ]
    }
   ],
   "source": [
    "V = gases.ideal_gas_volume(n=1.0, T=25.0, p=1.0)\n",
    "print(f\"Volume of 1 mole of gas at 25°C and 1 bar: {V:.1f} L\")"
   ]
  },
  {
   "cell_type": "markdown",
   "id": "75735aa0",
   "metadata": {},
   "source": [
    "# Ideal gas moles and then ideal gas volume"
   ]
  },
  {
   "cell_type": "code",
   "execution_count": 31,
   "id": "c966f0dd",
   "metadata": {},
   "outputs": [
    {
     "name": "stdout",
     "output_type": "stream",
     "text": [
      "The minimum required air flow is: 1467 L/min\n"
     ]
    }
   ],
   "source": [
    "# --- Given values ---\n",
    "h2_flow_rate_L_min = 587\n",
    "temp_C = 25\n",
    "pressure_atm = 1\n",
    "o2_mole_fraction_in_air = 0.2 # From P_O2/P_total = 0.2/1.0\n",
    "\n",
    "# --- Step 1: Calculate the molar flow rate of H2 ---\n",
    "moles_h2_per_min = gases.ideal_gas_moles(\n",
    "    P=pressure_atm,\n",
    "    V=h2_flow_rate_L_min,\n",
    "    T=temp_C,\n",
    "    p_unit='atm',\n",
    "    V_unit='L',\n",
    "    T_unit='C'\n",
    ")\n",
    "\n",
    "# --- Step 2: Use stoichiometry to find moles of O2 needed ---\n",
    "# From the reaction 2H2 + O2 -> 2H2O, the ratio is 1 mole O2 / 2 moles H2\n",
    "moles_o2_per_min = moles_h2_per_min * (1 / 2)\n",
    "\n",
    "# --- Step 3: Calculate the total moles of air needed ---\n",
    "# Air is 20% O2 by mole fraction\n",
    "moles_air_per_min = moles_o2_per_min / o2_mole_fraction_in_air\n",
    "\n",
    "# --- Step 4: Convert moles of air back to a volume flow rate ---\n",
    "volume_air_per_min = gases.ideal_gas_volume(\n",
    "    n=moles_air_per_min,\n",
    "    T=temp_C,\n",
    "    p=pressure_atm,\n",
    "    T_unit='C',\n",
    "    P_unit='atm',\n",
    "    V_unit='L'\n",
    ")\n",
    "\n",
    "print(f\"The minimum required air flow is: {volume_air_per_min:.0f} L/min\")"
   ]
  },
  {
   "cell_type": "markdown",
   "id": "182de20f",
   "metadata": {},
   "source": [
    "# Volume of gas with moles, temperature and pressure"
   ]
  },
  {
   "cell_type": "markdown",
   "id": "660bdb73",
   "metadata": {},
   "source": [
    "![image.png](images/gases-question-8.png)"
   ]
  },
  {
   "cell_type": "code",
   "execution_count": 32,
   "id": "c7f8c5c6",
   "metadata": {},
   "outputs": [
    {
     "name": "stdout",
     "output_type": "stream",
     "text": [
      "241 L\n"
     ]
    }
   ],
   "source": [
    "he = Compound(\"He\")\n",
    "he.set_moles(10)\n",
    "print(f\"{he.volume(20, 1, P_unit='atm'):.0f} L\")"
   ]
  },
  {
   "cell_type": "code",
   "execution_count": 33,
   "id": "b1b3aa88",
   "metadata": {},
   "outputs": [
    {
     "data": {
      "text/plain": [
       "3.69259807549963"
      ]
     },
     "execution_count": 33,
     "metadata": {},
     "output_type": "execute_result"
    }
   ],
   "source": [
    "h2 = Compound(\"H2\")\n",
    "h2.set_moles(10)\n",
    "T = 180 # Kelvin\n",
    "P = 40 # atm\n",
    "\n",
    "he.volume(T, P, T_unit=\"K\",P_unit='atm')"
   ]
  },
  {
   "cell_type": "code",
   "execution_count": 34,
   "id": "7fc6aeb8",
   "metadata": {},
   "outputs": [
    {
     "data": {
      "text/plain": [
       "36.9259807549963"
      ]
     },
     "execution_count": 34,
     "metadata": {},
     "output_type": "execute_result"
    }
   ],
   "source": [
    "f2 = Compound(\"F2\")\n",
    "f2.set_moles(3)\n",
    "T = 300 # Kelvin\n",
    "P = 2 # atm\n",
    "f2.volume(T, P, T_unit=\"K\", P_unit='atm')"
   ]
  },
  {
   "cell_type": "markdown",
   "id": "3251e6b6",
   "metadata": {},
   "source": [
    "![image.png](images/gases-queation-example.png)"
   ]
  },
  {
   "cell_type": "code",
   "execution_count": 35,
   "id": "8d13b1d6",
   "metadata": {},
   "outputs": [
    {
     "name": "stdout",
     "output_type": "stream",
     "text": [
      "Moles of Hg: 0.0272 mol\n",
      "Required moles of O2: 0.0136 mol\n",
      "The required volume of oxygen gas is 0.182 L\n"
     ]
    }
   ],
   "source": [
    "# 1. Define the compounds and their initial values from the problem\n",
    "hg = Compound(\"Hg\")\n",
    "o2 = Compound(\"O2\")\n",
    "\n",
    "# Set the initial mass of mercury, which also calculates the moles\n",
    "hg.set_mass(5.46)\n",
    "\n",
    "# 2. Use the stoichiometric ratio from the balanced equation:\n",
    "#    2 Hg (l) + O2 (g) -> 2 HgO (s)\n",
    "# The ratio is 2 moles of Hg to 1 mole of O2.\n",
    "moles_o2_needed = hg.amount_mol / 2\n",
    "\n",
    "# 3. Define the conditions for the oxygen gas\n",
    "pressure_atm = 4.59\n",
    "temp_k = 750\n",
    "\n",
    "# 4. Use the ideal_gas_volume function to find the volume of O2\n",
    "#    This function is already in your gases.py file.\n",
    "required_volume = gases.ideal_gas_volume(\n",
    "    n=moles_o2_needed,\n",
    "    T=temp_k,\n",
    "    p=pressure_atm,\n",
    "    T_unit='K',\n",
    "    P_unit='atm'\n",
    ")\n",
    "\n",
    "# --- Display the results ---\n",
    "print(f\"Moles of Hg: {hg.amount_mol:.4f} mol\")\n",
    "print(f\"Required moles of O2: {moles_o2_needed:.4f} mol\")\n",
    "print(f\"The required volume of oxygen gas is {required_volume:.3f} L\")"
   ]
  },
  {
   "cell_type": "markdown",
   "id": "0d352768",
   "metadata": {},
   "source": [
    "# Pressure of gas based on mass and temperature"
   ]
  },
  {
   "cell_type": "markdown",
   "id": "1eeecea6",
   "metadata": {},
   "source": [
    "![image.png](images/gases-question-9.png)"
   ]
  },
  {
   "cell_type": "code",
   "execution_count": 36,
   "id": "7c91957c",
   "metadata": {},
   "outputs": [
    {
     "name": "stdout",
     "output_type": "stream",
     "text": [
      "34.18902236077254 bar\n"
     ]
    }
   ],
   "source": [
    "o2 = Compound(\"O2\")\n",
    "o2.set_mass(1000)\n",
    "print(f\"{o2.pressure(T=-10, V=20, p_unit='bar')} bar\")"
   ]
  },
  {
   "cell_type": "markdown",
   "id": "06845869",
   "metadata": {},
   "source": [
    "![image.png](images/gases-question-10.png)"
   ]
  },
  {
   "cell_type": "code",
   "execution_count": 37,
   "id": "1abd2a93",
   "metadata": {},
   "outputs": [
    {
     "name": "stdout",
     "output_type": "stream",
     "text": [
      "CO₂ partial pressure: 11.3 bar\n",
      "Total pressure:       12.3 bar\n"
     ]
    }
   ],
   "source": [
    "p_initial_atm = 1.0\n",
    "p_initial_bar = gases._to_bar(p_initial_atm, \"atm\")\n",
    "\n",
    "co2 = Compound(\"CO2\")\n",
    "co2.set_mass(10)\n",
    "P_co2_bar = co2.pressure(T=25, V=0.5, p_unit='bar')\n",
    "\n",
    "P_total_bar = p_initial_bar + P_co2_bar\n",
    "\n",
    "print(f\"CO₂ partial pressure: {P_co2_bar:.1f} bar\")\n",
    "print(f\"Total pressure:       {P_total_bar:.1f} bar\")"
   ]
  },
  {
   "cell_type": "markdown",
   "id": "7742fe5d",
   "metadata": {},
   "source": [
    "# Moles of gass based on temperature and pressure"
   ]
  },
  {
   "cell_type": "markdown",
   "id": "1aade054",
   "metadata": {},
   "source": [
    "![image.png](images/gases-question-11.png)"
   ]
  },
  {
   "cell_type": "code",
   "execution_count": 38,
   "id": "2f0c4a7c",
   "metadata": {},
   "outputs": [
    {
     "name": "stdout",
     "output_type": "stream",
     "text": [
      "Amount of gas: 807 mol\n"
     ]
    }
   ],
   "source": [
    "V = 100\n",
    "P = 200\n",
    "T = 25\n",
    "\n",
    "n = gases.ideal_gas_amount(\n",
    "    P=P, T=T, V=V, p_unit='bar', T_unit='C', V_unit='L'\n",
    ")\n",
    "print(f\"Amount of gas: {n:.0f} mol\")"
   ]
  },
  {
   "cell_type": "markdown",
   "id": "06833084",
   "metadata": {},
   "source": [
    "# Partial pressure (partieltryk) of gasses "
   ]
  },
  {
   "cell_type": "markdown",
   "id": "75f0cd85",
   "metadata": {},
   "source": [
    "![image.png](images/gases-question-12.png)"
   ]
  },
  {
   "cell_type": "code",
   "execution_count": 39,
   "id": "1fa3fd3e",
   "metadata": {},
   "outputs": [
    {
     "name": "stdout",
     "output_type": "stream",
     "text": [
      "P_total = 0.90 atm\n",
      "x_N2 = 0.667\n",
      "x_O2 = 0.333\n"
     ]
    }
   ],
   "source": [
    "partials = {\"N2\": 0.6, \"O2\": 0.3}\n",
    "P_tot, mole_fracs = gases.total_pressure_and_mole_fractions(\n",
    "    partials=partials, p_unit='atm'\n",
    ")\n",
    "\n",
    "print(f\"P_total = {P_tot:.2f} atm\")\n",
    "for sp, x in mole_fracs.items():\n",
    "    print(f\"x_{sp} = {x:.3f}\")"
   ]
  },
  {
   "cell_type": "code",
   "execution_count": 40,
   "id": "062ac9bd",
   "metadata": {},
   "outputs": [
    {
     "name": "stdout",
     "output_type": "stream",
     "text": [
      "The partial pressure of helium is 237 torr\n"
     ]
    }
   ],
   "source": [
    "total_moles = 17 # mol\n",
    "total_pressure = 760.0 # torr\n",
    "component_moles = 5.30 # mol\n",
    "\n",
    "# Calculate the partial pressure (unit doesn't matter)\n",
    "p_helium = gases.partial_pressure(component_moles=5.30, \n",
    "                                  total_moles=17.0, \n",
    "                                  total_pressure=760.0)\n",
    "\n",
    "print(f\"The partial pressure of helium is {p_helium:.0f} torr\")"
   ]
  },
  {
   "cell_type": "markdown",
   "id": "9b0ca9da",
   "metadata": {},
   "source": [
    "# Temperature of a gass based on vulume, pressure and moles"
   ]
  },
  {
   "cell_type": "markdown",
   "id": "0e07417e",
   "metadata": {},
   "source": [
    "![image.png](images/gases-question-13.png)"
   ]
  },
  {
   "cell_type": "code",
   "execution_count": 41,
   "id": "53cc5666",
   "metadata": {},
   "outputs": [
    {
     "name": "stdout",
     "output_type": "stream",
     "text": [
      "T = 315.3 °C\n"
     ]
    }
   ],
   "source": [
    "V = 12.51 # m3\n",
    "O2 = Compound(\"O2\"); O2.set_moles(5423.0)\n",
    "P = 21.21 # bar\n",
    "\n",
    "print(f\"T = {O2.temperature(P=P, V=V, p_unit='bar', V_unit='m3'):.1f} °C\")\n"
   ]
  },
  {
   "cell_type": "markdown",
   "id": "a0573d2b",
   "metadata": {},
   "source": [
    "![image.png](images/gases-question-14.png)"
   ]
  },
  {
   "cell_type": "code",
   "execution_count": 42,
   "id": "f15d2300",
   "metadata": {},
   "outputs": [
    {
     "name": "stdout",
     "output_type": "stream",
     "text": [
      "T = -21 °C\n"
     ]
    }
   ],
   "source": [
    "V = 3 # cm3\n",
    "He = Compound(\"He\")\n",
    "mol = 1 # mmol\n",
    "He.set_moles(mol / 1000)  # Convert mmol to mol\n",
    "P = 7 # bar\n",
    "print(f\"T = {He.temperature(P=P, V=V, p_unit='bar', V_unit='cm3'):.0f} °C\")"
   ]
  },
  {
   "cell_type": "markdown",
   "id": "c3d32678",
   "metadata": {},
   "source": [
    "# Moles and partial pressure"
   ]
  },
  {
   "cell_type": "markdown",
   "id": "97baeb86",
   "metadata": {},
   "source": [
    "![image.png](images/gases-question-15.png)"
   ]
  },
  {
   "cell_type": "code",
   "execution_count": 43,
   "id": "164713df",
   "metadata": {},
   "outputs": [
    {
     "name": "stdout",
     "output_type": "stream",
     "text": [
      "Amount of CH₄: 0.04 mol\n"
     ]
    }
   ],
   "source": [
    "V = 3.2 # L\n",
    "T = 20 # °C\n",
    "partials = {\"CH4\": 0.28, \"C2H6\": 0.40, \"C3H8\": 0.11}\n",
    "\n",
    "P_tot = sum(partials.values())\n",
    "\n",
    "n_tot = gases.ideal_gas_amount(\n",
    "    P=P_tot, T=T, V=V, p_unit='atm', T_unit='C', V_unit='L'\n",
    ")\n",
    "\n",
    "x_CH4 = partials[\"CH4\"] / P_tot\n",
    "n_CH4 = x_CH4 * n_tot\n",
    "\n",
    "print(f\"Amount of CH₄: {n_CH4:.2f} mol\")"
   ]
  },
  {
   "cell_type": "markdown",
   "id": "9ea21eba",
   "metadata": {},
   "source": [
    "# Maximum pressure based on temperature"
   ]
  },
  {
   "cell_type": "markdown",
   "id": "6de7bbc7",
   "metadata": {},
   "source": [
    "![image.png](images/gases-question-16.png)"
   ]
  },
  {
   "cell_type": "code",
   "execution_count": 44,
   "id": "5fceaca5",
   "metadata": {},
   "outputs": [
    {
     "name": "stdout",
     "output_type": "stream",
     "text": [
      "Temperature of 1 ton CH₄ in 10 L at 200 atm: 117.9 °C\n"
     ]
    }
   ],
   "source": [
    "ch4 = Compound(\"CH4\")\n",
    "ch4.set_mass(1e6) # 1 ton\n",
    "V = 10_000 # L\n",
    "P = 200 # atm\n",
    "\n",
    "T = ch4.temperature(\n",
    "    P=P, V=V, p_unit='atm', V_unit='L', T_unit='C'\n",
    ")\n",
    "\n",
    "print(f\"Temperature of 1 ton CH₄ in 10 L at 200 atm: {T:.1f} °C\")"
   ]
  },
  {
   "cell_type": "markdown",
   "id": "7b063fc2",
   "metadata": {},
   "source": [
    "# Constant pressure and temperature"
   ]
  },
  {
   "cell_type": "markdown",
   "id": "f8ddf4ae",
   "metadata": {},
   "source": [
    "![image.png](images/gases-question-extra-1.png)"
   ]
  },
  {
   "cell_type": "code",
   "execution_count": 45,
   "id": "b25a213d",
   "metadata": {},
   "outputs": [
    {
     "name": "stdout",
     "output_type": "stream",
     "text": [
      "Number of moles of He in 0.845 L at 25 °C: 0.213 mol\n"
     ]
    }
   ],
   "source": [
    "he = Compound(\"He\")\n",
    "he.set_moles(0.0894)\n",
    "V = 0.355 # L\n",
    "V2 = 0.845 # L\n",
    "\n",
    "# If there is no change in temperature or pressure, determine the final nuber of moles of He\n",
    "\n",
    "P = he.pressure(T=25, V=V, p_unit='atm', V_unit='L')\n",
    "\n",
    "n2 = gases.ideal_gas_moles(\n",
    "    P, V2, 25,\n",
    "    p_unit=\"atm\", V_unit=\"L\", T_unit=\"C\"\n",
    ")\n",
    "\n",
    "print(f\"Number of moles of He in 0.845 L at 25 °C: {n2:.3f} mol\")"
   ]
  },
  {
   "cell_type": "code",
   "execution_count": 46,
   "id": "303ec9af",
   "metadata": {},
   "outputs": [
    {
     "name": "stdout",
     "output_type": "stream",
     "text": [
      "Initial volume of the sample: 9.45 L\n"
     ]
    }
   ],
   "source": [
    "mol_start = 15.0\n",
    "mol_end = 10.0\n",
    "V_end = 6.3 # L\n",
    "\n",
    "# If the gas was removed under constant temperature and pressure, what was the initial volume of the sample?\n",
    "# We use the formula v1 / n1 = v2 / n2\n",
    "V_start = V_end * (mol_start / mol_end)\n",
    "print(f\"Initial volume of the sample: {V_start:.2f} L\")"
   ]
  },
  {
   "cell_type": "markdown",
   "id": "435834c3",
   "metadata": {},
   "source": [
    "# Convert to other units\n",
    "## Pressure"
   ]
  },
  {
   "cell_type": "code",
   "execution_count": 47,
   "id": "759e76b6",
   "metadata": {},
   "outputs": [
    {
     "name": "stdout",
     "output_type": "stream",
     "text": [
      "3096 mmHg is equal to 4.128 bar\n"
     ]
    }
   ],
   "source": [
    "pressure_mmhg = 3096 # mm\n",
    "from_unit = \"mmHg\"\n",
    "to_unit = \"bar\"\n",
    "\n",
    "# Use the function to convert the pressure\n",
    "pressure_bar = gases.convert_pressure(pressure_mmhg, from_unit, to_unit)\n",
    "\n",
    "print(f\"{pressure_mmhg} {from_unit} is equal to {pressure_bar:.3f} {to_unit}\")"
   ]
  },
  {
   "cell_type": "code",
   "execution_count": 48,
   "id": "944027df",
   "metadata": {},
   "outputs": [
    {
     "name": "stdout",
     "output_type": "stream",
     "text": [
      "521 mmHg is equal to 69.461 kPa\n"
     ]
    }
   ],
   "source": [
    "pressure_mmhg = 521 # mm Hg\n",
    "from_unit = \"mmHg\"\n",
    "to_unit = \"Pa\"\n",
    "pressure_pascal = gases.convert_pressure(pressure_mmhg, from_unit, to_unit)\n",
    "\n",
    "# to kilopascals\n",
    "pressure_kilopascal = pressure_pascal / 1000\n",
    "print(f\"{pressure_mmhg} {from_unit} is equal to {pressure_kilopascal:.3f} kPa\")"
   ]
  },
  {
   "cell_type": "code",
   "execution_count": 49,
   "id": "24ef0900",
   "metadata": {},
   "outputs": [
    {
     "name": "stdout",
     "output_type": "stream",
     "text": [
      "0.842 atm is equal to 85315.650 Pa\n"
     ]
    }
   ],
   "source": [
    "pressure_atm = 0.842 # atm\n",
    "from_unit = \"atm\"\n",
    "to_unit = \"Pa\"\n",
    "\n",
    "pressure_pascal = gases.convert_pressure(pressure_atm, from_unit, to_unit)\n",
    "print(f\"{pressure_atm} {from_unit} is equal to {pressure_pascal:.3f} {to_unit}\")"
   ]
  },
  {
   "cell_type": "code",
   "execution_count": 50,
   "id": "ad88b338",
   "metadata": {},
   "outputs": [
    {
     "name": "stdout",
     "output_type": "stream",
     "text": [
      "52699.99999999999 Pa is equal to 395.284 mmHg\n"
     ]
    }
   ],
   "source": [
    "pressure_pa = 5.27*10**4 # Pa\n",
    "from_unit = \"Pa\"\n",
    "to_unit = \"mmHg\"\n",
    "pressure_mmhg = gases.convert_pressure(pressure_pa, from_unit, to_unit)\n",
    "print(f\"{pressure_pa} {from_unit} is equal to {pressure_mmhg:.3f} {to_unit}\") "
   ]
  },
  {
   "cell_type": "markdown",
   "id": "373539f8",
   "metadata": {},
   "source": [
    "# Boyle's law (change in Volume or pressure)\n",
    "Describes the pressure and the volume of a gas are inversely related\n",
    "* If the volume goes up the the pressure goes down and vise versa\n",
    "$$\n",
    "PV = constant\n",
    "$$\n",
    "This means we can relate changes to each other via\n",
    "$$\n",
    "P_1V_1 = P_2V_2\n",
    "$$"
   ]
  },
  {
   "cell_type": "code",
   "execution_count": 51,
   "id": "3c542d22",
   "metadata": {},
   "outputs": [
    {
     "name": "stdout",
     "output_type": "stream",
     "text": [
      "Initial pressure P1: 80.0 kPa\n"
     ]
    }
   ],
   "source": [
    "V1 = 0.5 # L\n",
    "P2 = 200 # kPa\n",
    "V2 = 0.2 # L\n",
    "\n",
    "print(f\"Initial pressure P1: {(P2*V2)/V1} kPa\")"
   ]
  },
  {
   "cell_type": "markdown",
   "id": "bd5dcec1",
   "metadata": {},
   "source": [
    "# Mole fraction"
   ]
  },
  {
   "cell_type": "markdown",
   "id": "dd15cf01",
   "metadata": {},
   "source": [
    "## Component moles"
   ]
  },
  {
   "cell_type": "code",
   "execution_count": 52,
   "id": "bafc6b0e",
   "metadata": {},
   "outputs": [
    {
     "name": "stdout",
     "output_type": "stream",
     "text": [
      "Moles of helium in the mixture: 6.60 mol\n"
     ]
    }
   ],
   "source": [
    "h_helium = gases.component_moles(\n",
    "    total_moles=30.0, mole_fraction=0.220\n",
    ")\n",
    "print(f\"Moles of helium in the mixture: {h_helium:.2f} mol\")"
   ]
  },
  {
   "cell_type": "markdown",
   "id": "ca5f830c",
   "metadata": {},
   "source": [
    "## Multiple gases"
   ]
  },
  {
   "cell_type": "code",
   "execution_count": 53,
   "id": "c946faa9",
   "metadata": {},
   "outputs": [
    {
     "name": "stdout",
     "output_type": "stream",
     "text": [
      "The mole fraction of CO₂ is 0.133\n"
     ]
    }
   ],
   "source": [
    "x_co2 = gases.mole_fraction(component_moles=3.34, total_moles=25.1)\n",
    "\n",
    "print(f\"The mole fraction of CO₂ is {x_co2:.3f}\")"
   ]
  },
  {
   "cell_type": "markdown",
   "id": "0ac64f47",
   "metadata": {},
   "source": [
    "# Molar mass based on density and pressure "
   ]
  },
  {
   "cell_type": "code",
   "execution_count": 54,
   "id": "b0ad8c6a",
   "metadata": {},
   "outputs": [
    {
     "name": "stdout",
     "output_type": "stream",
     "text": [
      "The molar mass of the gas is 9.85 g/mol\n"
     ]
    }
   ],
   "source": [
    "# Calculate the molar mass\n",
    "molar_mass = gases.ideal_gas_molar_mass(density=0.862, T=298, P=2.14, T_unit='K', P_unit='atm')\n",
    "\n",
    "print(f\"The molar mass of the gas is {molar_mass:.2f} g/mol\")"
   ]
  },
  {
   "cell_type": "markdown",
   "id": "dfbb4dfb",
   "metadata": {},
   "source": [
    "# Density based on temperature and pressure"
   ]
  },
  {
   "cell_type": "code",
   "execution_count": 55,
   "id": "52e3edbe",
   "metadata": {},
   "outputs": [
    {
     "name": "stdout",
     "output_type": "stream",
     "text": [
      "The density of the nitrogen gas is 0.818 g/L\n"
     ]
    }
   ],
   "source": [
    "# Calculate the density\n",
    "density_n2 = gases.ideal_gas_density(molar_mass=28.02, \n",
    "                                     T=398, \n",
    "                                     P=0.953, \n",
    "                                     T_unit='K', \n",
    "                                     p_unit='atm')\n",
    "\n",
    "print(f\"The density of the nitrogen gas is {density_n2:.3f} g/L\")"
   ]
  },
  {
   "cell_type": "markdown",
   "id": "0e0ded98",
   "metadata": {},
   "source": [
    "# Grams needed to create a volume of a compound"
   ]
  },
  {
   "cell_type": "code",
   "execution_count": 56,
   "id": "e612f3b2",
   "metadata": {},
   "outputs": [
    {
     "name": "stdout",
     "output_type": "stream",
     "text": [
      "To produce 70.0 L of N2 at STP, you need 135 g of NaN3.\n"
     ]
    }
   ],
   "source": [
    "# --- Given values ---\n",
    "volume_n2_L = 70.0\n",
    "temp_C = 0  # Standard Temperature\n",
    "pressure_atm = 1 # Standard Pressure\n",
    "\n",
    "# --- Step 1: Calculate moles of N2 produced ---\n",
    "moles_n2 = gases.ideal_gas_moles(\n",
    "    P=pressure_atm,\n",
    "    V=volume_n2_L,\n",
    "    T=temp_C,\n",
    "    p_unit='atm',\n",
    "    T_unit='C'\n",
    ")\n",
    "\n",
    "# --- Step 2: Use stoichiometry to find moles of NaN3 needed ---\n",
    "# The ratio is 2 moles NaN3 to 3 moles N2\n",
    "moles_nan3 = moles_n2 * (2 / 3)\n",
    "\n",
    "# --- Step 3: Calculate the required mass of NaN3 ---\n",
    "sodium_azide = Compound(\"NaN3\")\n",
    "sodium_azide.set_moles(moles_nan3)\n",
    "\n",
    "print(f\"To produce {volume_n2_L} L of N2 at STP, you need {sodium_azide.mass_g:.0f} g of NaN3.\")"
   ]
  }
 ],
 "metadata": {
  "kernelspec": {
   "display_name": "KEMI",
   "language": "python",
   "name": "python3"
  },
  "language_info": {
   "codemirror_mode": {
    "name": "ipython",
    "version": 3
   },
   "file_extension": ".py",
   "mimetype": "text/x-python",
   "name": "python",
   "nbconvert_exporter": "python",
   "pygments_lexer": "ipython3",
   "version": "3.13.5"
  }
 },
 "nbformat": 4,
 "nbformat_minor": 5
}
