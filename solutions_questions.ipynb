{
 "cells": [
  {
   "cell_type": "code",
   "execution_count": 12,
   "id": "dd74a35b",
   "metadata": {},
   "outputs": [],
   "source": [
    "from compound import Compound\n",
    "import solutions as sol"
   ]
  },
  {
   "cell_type": "markdown",
   "id": "6e147dd3",
   "metadata": {},
   "source": [
    "# Van't hoff factor for a sultution with idial i"
   ]
  },
  {
   "cell_type": "code",
   "execution_count": 13,
   "id": "4b40adcf",
   "metadata": {},
   "outputs": [
    {
     "name": "stdout",
     "output_type": "stream",
     "text": [
      "--- Van't Hoff Factor Analysis for KI ---\n",
      "  - Ideal Factor (i_ideal): 2\n",
      "    (Calculated based on the dissociation into 2 ions.)\n",
      "\n",
      "  - Real Factor (i_real): The real van't Hoff factor is typically slightly less than the ideal value.\n",
      "    This is due to 'ion pairing,' where some dissolved ions are attracted to each other\n",
      "    and briefly act as a single particle, reducing the total effective number of particles.\n",
      "    For KI, the real factor would be expected to be just under 2.\n",
      "\n",
      "==================================================\n",
      "\n",
      "--- Van't Hoff Factor Analysis for MgCl2 ---\n",
      "  - Ideal Factor (i_ideal): 2\n",
      "    (Calculated based on the dissociation into 2 ions.)\n",
      "\n",
      "  - Real Factor (i_real): The real van't Hoff factor is typically slightly less than the ideal value.\n",
      "    This is due to 'ion pairing,' where some dissolved ions are attracted to each other\n",
      "    and briefly act as a single particle, reducing the total effective number of particles.\n",
      "    For MgCl2, the real factor would be expected to be just under 2.\n"
     ]
    }
   ],
   "source": [
    "# --- Analyze Potassium Iodide (KI) ---\n",
    "analysis_ki = sol.analyze_van_hoff_factor(\"KI\")\n",
    "print(analysis_ki)\n",
    "\n",
    "# --- Analyze another example, like MgCl₂ ---\n",
    "# MgCl₂ -> Mg²⁺ + 2Cl⁻ (ideal i = 3)\n",
    "print(\"\\n\" + \"=\"*50 + \"\\n\")\n",
    "analysis_mgcl2 = sol.analyze_van_hoff_factor(\"MgCl2\")\n",
    "print(analysis_mgcl2)"
   ]
  },
  {
   "cell_type": "markdown",
   "id": "8d5c2cd3",
   "metadata": {},
   "source": [
    "# ion concentration based on molar mass"
   ]
  },
  {
   "cell_type": "code",
   "execution_count": 14,
   "id": "4b206c11",
   "metadata": {},
   "outputs": [
    {
     "name": "stdout",
     "output_type": "stream",
     "text": [
      "The total ion concentration of a 1.0 M Li2CO3 solution is 3.0 M\n"
     ]
    }
   ],
   "source": [
    "# --- Given values ---\n",
    "formula = \"Li2CO3\"\n",
    "molarity = 1.0\n",
    "\n",
    "# --- Calculation ---\n",
    "total_concentration = sol.calculate_total_ion_concentration(formula, molarity)\n",
    "\n",
    "print(f\"The total ion concentration of a {molarity} M {formula} solution is {total_concentration:.1f} M\")\n"
   ]
  },
  {
   "cell_type": "markdown",
   "id": "5daeee2e",
   "metadata": {},
   "source": [
    "# Ion concentration based on molar mass"
   ]
  },
  {
   "cell_type": "code",
   "execution_count": 15,
   "id": "0c59ba9d",
   "metadata": {},
   "outputs": [
    {
     "name": "stdout",
     "output_type": "stream",
     "text": [
      "The concentration of Cl⁻ in a 0.75 M KCl solution is 0.75 M\n"
     ]
    }
   ],
   "source": [
    "# --- Given values ---\n",
    "formula = \"KCl\"\n",
    "ion = \"Cl\"\n",
    "molarity = 0.75\n",
    "\n",
    "# --- Calculation ---\n",
    "ion_concentration = sol.calculate_specific_ion_concentration(formula, ion, molarity)\n",
    "\n",
    "print(f\"The concentration of {ion}⁻ in a {molarity} M {formula} solution is {ion_concentration:.2f} M\")\n"
   ]
  },
  {
   "cell_type": "markdown",
   "id": "4bc4f179",
   "metadata": {},
   "source": [
    "# Molar mass based on volume and moles"
   ]
  },
  {
   "cell_type": "code",
   "execution_count": 16,
   "id": "0b13c5e4",
   "metadata": {},
   "outputs": [
    {
     "name": "stdout",
     "output_type": "stream",
     "text": [
      "Name:         Sodium chloride\n",
      "Formula:      ClNa\n",
      "Molar mass:   58.4400 g/mol\n",
      "Amount:       5.000000 mol\n",
      "Mass:         292.2000 g\n",
      "Volume:       3.500 L\n",
      "Molarity:     1.429 M\n"
     ]
    }
   ],
   "source": [
    "nacl = Compound(\"NaCl\")\n",
    "nacl.set_moles(5.0)\n",
    "nacl.set_volume(3.5, unit=\"L\")\n",
    "nacl.display()"
   ]
  },
  {
   "cell_type": "markdown",
   "id": "74716482",
   "metadata": {},
   "source": [
    "# Mole fraction based on vapor pressure"
   ]
  },
  {
   "cell_type": "code",
   "execution_count": 17,
   "id": "ab689ad8",
   "metadata": {},
   "outputs": [
    {
     "name": "stdout",
     "output_type": "stream",
     "text": [
      "The mole fraction of hexane is 0.733\n"
     ]
    }
   ],
   "source": [
    "# --- Given values ---\n",
    "p_solution = 12.9  # kPa\n",
    "p_pure_hexane = 17.6 # kPa\n",
    "\n",
    "# --- Calculation ---\n",
    "mole_fraction_hexane = sol.raoults_law_mole_fraction_solvent(p_solution, p_pure_hexane)\n",
    "\n",
    "print(f\"The mole fraction of hexane is {mole_fraction_hexane:.3f}\")"
   ]
  },
  {
   "cell_type": "markdown",
   "id": "1d12e6e1",
   "metadata": {},
   "source": [
    "# Freezing point based moles and kf value"
   ]
  },
  {
   "cell_type": "code",
   "execution_count": 18,
   "id": "d84ebd49",
   "metadata": {},
   "outputs": [
    {
     "name": "stdout",
     "output_type": "stream",
     "text": [
      "The freezing point is depressed by 19.3°C\n"
     ]
    }
   ],
   "source": [
    "# --- Given values ---\n",
    "solute = \"NaI\"\n",
    "molality_val = 5.20\n",
    "kf_water = 1.86\n",
    "\n",
    "# --- Calculation ---\n",
    "depression = sol.calculate_freezing_point_depression(solute, molality_val, kf_water)\n",
    "\n",
    "print(f\"The freezing point is depressed by {depression:.1f}°C\")"
   ]
  },
  {
   "cell_type": "markdown",
   "id": "c17e51b8",
   "metadata": {},
   "source": [
    "# Conecntration ppm from mass"
   ]
  },
  {
   "cell_type": "code",
   "execution_count": 19,
   "id": "1cbb81f2",
   "metadata": {},
   "outputs": [
    {
     "name": "stdout",
     "output_type": "stream",
     "text": [
      "The concentration is 4.8 ppm\n"
     ]
    }
   ],
   "source": [
    "# --- Given values ---\n",
    "solute_mass = 5.0e-5  # kg\n",
    "solution_mass = 10.5 # kg\n",
    "\n",
    "# --- Calculation ---\n",
    "concentration_ppm = sol.calculate_ppm_from_mass(\n",
    "    mass_solute=solute_mass, \n",
    "    solute_unit=\"kg\", \n",
    "    mass_solution=solution_mass, \n",
    "    solution_unit=\"kg\"\n",
    ")\n",
    "\n",
    "print(f\"The concentration is {concentration_ppm:.1f} ppm\")"
   ]
  },
  {
   "cell_type": "code",
   "execution_count": 20,
   "id": "9cb7869b",
   "metadata": {},
   "outputs": [
    {
     "name": "stdout",
     "output_type": "stream",
     "text": [
      "The concentration is 16 ppb\n"
     ]
    }
   ],
   "source": [
    "# --- Given values ---\n",
    "solute_mass = 8.1e-6\n",
    "solution_mass = 496\n",
    "\n",
    "# --- Calculation with explicit units ---\n",
    "concentration_ppb = sol.calculate_ppb_from_mass(\n",
    "    mass_solute=solute_mass, solute_unit=\"g\",\n",
    "    mass_solution=solution_mass, solution_unit=\"g\"\n",
    ")\n",
    "\n",
    "print(f\"The concentration is {concentration_ppb:.0f} ppb\")\n"
   ]
  },
  {
   "cell_type": "code",
   "execution_count": null,
   "id": "3fffbfbc",
   "metadata": {},
   "outputs": [],
   "source": []
  }
 ],
 "metadata": {
  "kernelspec": {
   "display_name": "KEMI",
   "language": "python",
   "name": "python3"
  },
  "language_info": {
   "codemirror_mode": {
    "name": "ipython",
    "version": 3
   },
   "file_extension": ".py",
   "mimetype": "text/x-python",
   "name": "python",
   "nbconvert_exporter": "python",
   "pygments_lexer": "ipython3",
   "version": "3.13.5"
  }
 },
 "nbformat": 4,
 "nbformat_minor": 5
}
