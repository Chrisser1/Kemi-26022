{
 "cells": [
  {
   "cell_type": "code",
   "execution_count": 1,
   "id": "dd74a35b",
   "metadata": {},
   "outputs": [],
   "source": [
    "from compound import Compound\n",
    "import solutions as sol"
   ]
  },
  {
   "cell_type": "markdown",
   "id": "6e147dd3",
   "metadata": {},
   "source": [
    "# Van't hoff factor for a sultution with idial i"
   ]
  },
  {
   "cell_type": "code",
   "execution_count": 2,
   "id": "4b40adcf",
   "metadata": {},
   "outputs": [
    {
     "name": "stdout",
     "output_type": "stream",
     "text": [
      "--- Van't Hoff Factor Analysis for KI ---\n",
      "  - Ideal Factor (i_ideal): 2\n",
      "    (Calculated based on the dissociation into 2 ions.)\n",
      "\n",
      "  - Real Factor (i_real): The real van't Hoff factor is typically slightly less than the ideal value.\n",
      "    This is due to 'ion pairing,' where some dissolved ions are attracted to each other\n",
      "    and briefly act as a single particle, reducing the total effective number of particles.\n",
      "    For KI, the real factor would be expected to be just under 2.\n",
      "\n",
      "==================================================\n",
      "\n",
      "--- Van't Hoff Factor Analysis for MgCl2 ---\n",
      "  - Ideal Factor (i_ideal): 2\n",
      "    (Calculated based on the dissociation into 2 ions.)\n",
      "\n",
      "  - Real Factor (i_real): The real van't Hoff factor is typically slightly less than the ideal value.\n",
      "    This is due to 'ion pairing,' where some dissolved ions are attracted to each other\n",
      "    and briefly act as a single particle, reducing the total effective number of particles.\n",
      "    For MgCl2, the real factor would be expected to be just under 2.\n"
     ]
    }
   ],
   "source": [
    "# --- Analyze Potassium Iodide (KI) ---\n",
    "analysis_ki = sol.analyze_van_hoff_factor(\"KI\")\n",
    "print(analysis_ki)\n",
    "\n",
    "# --- Analyze another example, like MgCl₂ ---\n",
    "# MgCl₂ -> Mg²⁺ + 2Cl⁻ (ideal i = 3)\n",
    "print(\"\\n\" + \"=\"*50 + \"\\n\")\n",
    "analysis_mgcl2 = sol.analyze_van_hoff_factor(\"MgCl2\")\n",
    "print(analysis_mgcl2)"
   ]
  },
  {
   "cell_type": "markdown",
   "id": "8d5c2cd3",
   "metadata": {},
   "source": [
    "# ion concentration based on moles"
   ]
  },
  {
   "cell_type": "code",
   "execution_count": 3,
   "id": "4b206c11",
   "metadata": {},
   "outputs": [
    {
     "name": "stdout",
     "output_type": "stream",
     "text": [
      "The total ion concentration of a 1.0 M Li2CO3 solution is 3.0 M\n"
     ]
    }
   ],
   "source": [
    "# --- Given values ---\n",
    "formula = \"Li2CO3\"\n",
    "molarity = 1.0\n",
    "\n",
    "# --- Calculation ---\n",
    "total_concentration = sol.calculate_total_ion_concentration(formula, molarity)\n",
    "\n",
    "print(f\"The total ion concentration of a {molarity} M {formula} solution is {total_concentration:.1f} M\")\n"
   ]
  },
  {
   "cell_type": "code",
   "execution_count": 4,
   "id": "90751fb5",
   "metadata": {},
   "outputs": [
    {
     "name": "stdout",
     "output_type": "stream",
     "text": [
      "The total ion concentration of a 0.15 M Fe2(SO4)3 solution is 0.75 M\n"
     ]
    }
   ],
   "source": [
    "# --- Given values ---\n",
    "formula = \"Fe2(SO4)3\"\n",
    "molarity = 0.15 # M\n",
    "\n",
    "# --- Calculation ---\n",
    "total_concentration = sol.calculate_total_ion_concentration(formula, molarity)\n",
    "\n",
    "print(f\"The total ion concentration of a {molarity} M {formula} solution is {total_concentration:.2f} M\")\n"
   ]
  },
  {
   "cell_type": "markdown",
   "id": "5daeee2e",
   "metadata": {},
   "source": [
    "# Specific Ion concentration based on moles"
   ]
  },
  {
   "cell_type": "code",
   "execution_count": 5,
   "id": "0c59ba9d",
   "metadata": {},
   "outputs": [
    {
     "name": "stdout",
     "output_type": "stream",
     "text": [
      "The concentration of Cl⁻ in a 0.75 M KCl solution is 0.75 M\n"
     ]
    }
   ],
   "source": [
    "# --- Given values ---\n",
    "formula = \"KCl\"\n",
    "ion = \"Cl\"\n",
    "molarity = 0.75\n",
    "\n",
    "# --- Calculation ---\n",
    "ion_concentration = sol.calculate_specific_ion_concentration(formula, ion, molarity)\n",
    "\n",
    "print(f\"The concentration of {ion}⁻ in a {molarity} M {formula} solution is {ion_concentration:.2f} M\")\n"
   ]
  },
  {
   "cell_type": "code",
   "execution_count": 21,
   "id": "623c9dc4",
   "metadata": {},
   "outputs": [
    {
     "name": "stdout",
     "output_type": "stream",
     "text": [
      "The concentration of K⁻ in a 0.5 M KCl solution is 0.50 M\n"
     ]
    }
   ],
   "source": [
    "# --- Given values ---\n",
    "formula = \"KCl\"\n",
    "ion = \"K\"\n",
    "molarity = 0.5\n",
    "\n",
    "# --- Calculation ---\n",
    "ion_concentration = sol.calculate_specific_ion_concentration(formula, ion, molarity)\n",
    "\n",
    "print(f\"The concentration of {ion}⁻ in a {molarity} M {formula} solution is {ion_concentration:.2f} M\")\n"
   ]
  },
  {
   "cell_type": "markdown",
   "id": "4bc4f179",
   "metadata": {},
   "source": [
    "# Molar mass based on volume and moles"
   ]
  },
  {
   "cell_type": "code",
   "execution_count": 6,
   "id": "0b13c5e4",
   "metadata": {},
   "outputs": [
    {
     "name": "stdout",
     "output_type": "stream",
     "text": [
      "Name:         Sodium chloride\n",
      "Formula:      ClNa\n",
      "Molar mass:   58.4400 g/mol\n",
      "Amount:       5.000000 mol\n",
      "Mass:         292.2000 g\n",
      "Volume:       3.500 L\n",
      "Molarity:     1.429 M\n"
     ]
    }
   ],
   "source": [
    "nacl = Compound(\"NaCl\")\n",
    "nacl.set_moles(5.0)\n",
    "nacl.set_volume(3.5, unit=\"L\")\n",
    "nacl.display()"
   ]
  },
  {
   "cell_type": "markdown",
   "id": "9ad61ff7",
   "metadata": {},
   "source": [
    "# Moles based on mol water and pressure"
   ]
  },
  {
   "cell_type": "code",
   "execution_count": 7,
   "id": "f48156d9",
   "metadata": {},
   "outputs": [
    {
     "name": "stdout",
     "output_type": "stream",
     "text": [
      "The number of moles of Al2(SO4)3 is 0.1455 mol\n"
     ]
    }
   ],
   "source": [
    "# --- Given values ---\n",
    "solute = \"Al2(SO4)3\"\n",
    "moles_water = 5.55\n",
    "pressure_solution = 2.06\n",
    "pressure_pure_water = 2.33\n",
    "\n",
    "# --- Calculation ---\n",
    "moles_solute = sol.raoults_law_moles_solute(\n",
    "    solute_formula=solute,\n",
    "    n_solvent=moles_water,\n",
    "    p_solution=pressure_solution,\n",
    "    p_solvent_pure=pressure_pure_water\n",
    ")\n",
    "\n",
    "print(f\"The number of moles of {solute} is {moles_solute:.4f} mol\")"
   ]
  },
  {
   "cell_type": "markdown",
   "id": "74716482",
   "metadata": {},
   "source": [
    "# Mole fraction based on vapor pressure"
   ]
  },
  {
   "cell_type": "code",
   "execution_count": 8,
   "id": "ab689ad8",
   "metadata": {},
   "outputs": [
    {
     "name": "stdout",
     "output_type": "stream",
     "text": [
      "The mole fraction of hexane is 0.733\n"
     ]
    }
   ],
   "source": [
    "# --- Given values ---\n",
    "p_solution = 12.9  # kPa\n",
    "p_pure_hexane = 17.6 # kPa\n",
    "\n",
    "# --- Calculation ---\n",
    "mole_fraction_hexane = sol.raoults_law_mole_fraction_solvent(p_solution, p_pure_hexane)\n",
    "\n",
    "print(f\"The mole fraction of hexane is {mole_fraction_hexane:.3f}\")"
   ]
  },
  {
   "cell_type": "markdown",
   "id": "1d12e6e1",
   "metadata": {},
   "source": [
    "# Freezing point based moles and kf value"
   ]
  },
  {
   "cell_type": "code",
   "execution_count": 9,
   "id": "d84ebd49",
   "metadata": {},
   "outputs": [
    {
     "name": "stdout",
     "output_type": "stream",
     "text": [
      "The freezing point is depressed by 19.3°C\n"
     ]
    }
   ],
   "source": [
    "# --- Given values ---\n",
    "solute = \"NaI\"\n",
    "molality_val = 5.20\n",
    "kf_water = 1.86\n",
    "\n",
    "# --- Calculation ---\n",
    "depression = sol.calculate_freezing_point_depression(solute, molality_val, kf_water)\n",
    "\n",
    "print(f\"The freezing point is depressed by {depression:.1f}°C\")"
   ]
  },
  {
   "cell_type": "markdown",
   "id": "c17e51b8",
   "metadata": {},
   "source": [
    "# Conecntration ppm from mass"
   ]
  },
  {
   "cell_type": "code",
   "execution_count": 10,
   "id": "1cbb81f2",
   "metadata": {},
   "outputs": [
    {
     "name": "stdout",
     "output_type": "stream",
     "text": [
      "The concentration is 4.8 ppm\n"
     ]
    }
   ],
   "source": [
    "# --- Given values ---\n",
    "solute_mass = 5.0e-5  # kg\n",
    "solution_mass = 10.5 # kg\n",
    "\n",
    "# --- Calculation ---\n",
    "concentration_ppm = sol.calculate_ppm_from_mass(\n",
    "    mass_solute=solute_mass, \n",
    "    solute_unit=\"kg\", \n",
    "    mass_solution=solution_mass, \n",
    "    solution_unit=\"kg\"\n",
    ")\n",
    "\n",
    "print(f\"The concentration is {concentration_ppm:.1f} ppm\")"
   ]
  },
  {
   "cell_type": "code",
   "execution_count": 11,
   "id": "9cb7869b",
   "metadata": {},
   "outputs": [
    {
     "name": "stdout",
     "output_type": "stream",
     "text": [
      "The concentration is 16 ppb\n"
     ]
    }
   ],
   "source": [
    "# --- Given values ---\n",
    "solute_mass = 8.1e-6\n",
    "solution_mass = 496\n",
    "\n",
    "# --- Calculation with explicit units ---\n",
    "concentration_ppb = sol.calculate_ppb_from_mass(\n",
    "    mass_solute=solute_mass, solute_unit=\"g\",\n",
    "    mass_solution=solution_mass, solution_unit=\"g\"\n",
    ")\n",
    "\n",
    "print(f\"The concentration is {concentration_ppb:.0f} ppb\")\n"
   ]
  },
  {
   "cell_type": "markdown",
   "id": "4a4e1874",
   "metadata": {},
   "source": [
    "# The boiling point elevation constant based on molar and temperature"
   ]
  },
  {
   "cell_type": "code",
   "execution_count": 12,
   "id": "cd87d5aa",
   "metadata": {},
   "outputs": [
    {
     "name": "stdout",
     "output_type": "stream",
     "text": [
      "The boiling point elevation constant (Kb) for benzene is 2.65 °C/m\n"
     ]
    }
   ],
   "source": [
    "# --- Given values from the (corrected) problem ---\n",
    "delta_Tb = 10.4  # °C\n",
    "molality_val = 3.92 # m\n",
    "vant_hoff_factor = 1 # Assuming a non-electrolyte solute\n",
    "\n",
    "# --- Calculation ---\n",
    "kb_benzene = sol.calculate_colligative_constant(delta_Tb, molality_val, vant_hoff_factor)\n",
    "\n",
    "print(f\"The boiling point elevation constant (Kb) for benzene is {kb_benzene:.2f} °C/m\")"
   ]
  },
  {
   "cell_type": "markdown",
   "id": "41bacb80",
   "metadata": {},
   "source": [
    "# Rank electrolytes with the same concentration by boiling point"
   ]
  },
  {
   "cell_type": "code",
   "execution_count": 13,
   "id": "3fffbfbc",
   "metadata": {},
   "outputs": [
    {
     "name": "stdout",
     "output_type": "stream",
     "text": [
      "The order of increasing boiling point is:\n",
      "KNO3 < Li2CO3 < AlCl3 < H2SO4\n"
     ]
    }
   ],
   "source": [
    "# --- Electrolytes to compare ---\n",
    "electrolytes = [\"Li2CO3\", \"H2SO4\", \"AlCl3\", \"KNO3\"]\n",
    "\n",
    "# --- Get the ranking based on the correct principle (colligative properties) ---\n",
    "ranking = sol.rank_by_colligative_effect(electrolytes)\n",
    "\n",
    "print(\"The order of increasing boiling point is:\")\n",
    "print(ranking)"
   ]
  },
  {
   "cell_type": "markdown",
   "id": "efd9ad2e",
   "metadata": {},
   "source": [
    "# Calculate the total pressure of a mixture based on temperature, molefractions and pressures"
   ]
  },
  {
   "cell_type": "code",
   "execution_count": 14,
   "id": "5c182fb0",
   "metadata": {},
   "outputs": [
    {
     "name": "stdout",
     "output_type": "stream",
     "text": [
      "The total pressure of the mixture is 29.6 kPa\n"
     ]
    }
   ],
   "source": [
    "# --- Given values ---\n",
    "# Define the components as a list of (mole_fraction, pure_pressure) tuples\n",
    "mixture_components = [\n",
    "    (0.128, 18.6),  # Component A\n",
    "    (0.872, 31.2)   # Component B\n",
    "]\n",
    "\n",
    "# --- Calculation ---\n",
    "total_pressure = sol.raoults_law_total_pressure(mixture_components)\n",
    "\n",
    "print(f\"The total pressure of the mixture is {total_pressure:.1f} kPa\")\n"
   ]
  },
  {
   "cell_type": "code",
   "execution_count": 15,
   "id": "b4fb414a",
   "metadata": {},
   "outputs": [
    {
     "name": "stdout",
     "output_type": "stream",
     "text": [
      "The total pressure of the mixture is 73.5 kPa\n"
     ]
    }
   ],
   "source": [
    "# --- Given values ---\n",
    "# Define the components as a list of (mole_fraction, pure_pressure) tuples\n",
    "\n",
    "mixture_components = [\n",
    "    (0.450, 56.3),  # Component A\n",
    "    (0.550, 87.6)   # Component B\n",
    "]\n",
    "\n",
    "# --- Calculation ---\n",
    "total_pressure = sol.raoults_law_total_pressure(mixture_components)\n",
    "\n",
    "print(f\"The total pressure of the mixture is {total_pressure:.1f} kPa\")\n"
   ]
  },
  {
   "cell_type": "markdown",
   "id": "1f600b60",
   "metadata": {},
   "source": [
    "# vapor pressure of a solution based on mole fraction and the pressure"
   ]
  },
  {
   "cell_type": "code",
   "execution_count": 16,
   "id": "c1a2dba9",
   "metadata": {},
   "outputs": [
    {
     "name": "stdout",
     "output_type": "stream",
     "text": [
      "The vapor pressure of the solution is 67 torr\n"
     ]
    }
   ],
   "source": [
    "# --- Given values ---\n",
    "mole_fraction_ethanol = 0.72\n",
    "pure_pressure_ethanol = 93 # torr\n",
    "\n",
    "# --- Calculation ---\n",
    "solution_pressure = sol.raoults_law_solution_pressure(\n",
    "    mole_fraction_ethanol,\n",
    "    pure_pressure_ethanol\n",
    ")\n",
    "\n",
    "print(f\"The vapor pressure of the solution is {solution_pressure:.0f} torr\")"
   ]
  },
  {
   "cell_type": "markdown",
   "id": "067b0826",
   "metadata": {},
   "source": [
    "# molar mass of the nonelectrolyte solute based on grams and boiling point"
   ]
  },
  {
   "cell_type": "code",
   "execution_count": 17,
   "id": "36304208",
   "metadata": {},
   "outputs": [
    {
     "name": "stdout",
     "output_type": "stream",
     "text": [
      "The molar mass of the solute is 42.5 g/mol\n"
     ]
    }
   ],
   "source": [
    "# --- Given values ---\n",
    "mass_solute = 25.0\n",
    "mass_ethanol = 125.0\n",
    "boiling_point_solution = 102.4\n",
    "boiling_point_pure = 100.0\n",
    "kb_ethanol = 0.51\n",
    "\n",
    "# --- Calculation ---\n",
    "delta_T_boiling = boiling_point_solution - boiling_point_pure\n",
    "\n",
    "molar_mass = sol.calculate_molar_mass_from_bp_elevation(\n",
    "    mass_solute_g=mass_solute,\n",
    "    mass_solvent_g=mass_ethanol,\n",
    "    delta_Tb=delta_T_boiling,\n",
    "    kb_solvent=kb_ethanol,\n",
    "    i=1  # For a non-electrolyte\n",
    ")\n",
    "\n",
    "print(f\"The molar mass of the solute is {molar_mass:.1f} g/mol\")"
   ]
  },
  {
   "cell_type": "code",
   "execution_count": 18,
   "id": "632f6796",
   "metadata": {},
   "outputs": [
    {
     "name": "stdout",
     "output_type": "stream",
     "text": [
      "The molar mass of the solute is 107.0 g/mol\n"
     ]
    }
   ],
   "source": [
    "# --- Given values ---\n",
    "mass_solute = 100.0 # g\n",
    "mass_ethanol = 500.0 # g\n",
    "boiling_point_solution = 80.5 # °C\n",
    "boiling_point_pure = 78.2 # °C\n",
    "kb_ethanol = 1.23 # °C/m\n",
    "\n",
    "# --- Calculation ---\n",
    "delta_T_boiling = boiling_point_solution - boiling_point_pure\n",
    "\n",
    "molar_mass = sol.calculate_molar_mass_from_bp_elevation(\n",
    "    mass_solute_g=mass_solute,\n",
    "    mass_solvent_g=mass_ethanol,\n",
    "    delta_Tb=delta_T_boiling,\n",
    "    kb_solvent=kb_ethanol,\n",
    "    i=1  # For a non-electrolyte\n",
    ")\n",
    "\n",
    "print(f\"The molar mass of the solute is {molar_mass:.1f} g/mol\")"
   ]
  },
  {
   "cell_type": "markdown",
   "id": "90949272",
   "metadata": {},
   "source": [
    "# Molality of a solution based on moles and mass of solvent"
   ]
  },
  {
   "cell_type": "code",
   "execution_count": 19,
   "id": "b6fda7eb",
   "metadata": {},
   "outputs": [
    {
     "name": "stdout",
     "output_type": "stream",
     "text": [
      "The molality of the solution is 1.37 m\n"
     ]
    }
   ],
   "source": [
    "# --- Given values ---\n",
    "moles_k2so4 = 2.40\n",
    "mass_solvent_g = 1750\n",
    "\n",
    "# --- Calculation ---\n",
    "molality = sol.calculate_molality(moles_k2so4, mass_solvent_g, solvent_unit='g')\n",
    "\n",
    "print(f\"The molality of the solution is {molality:.2f} m\")\n"
   ]
  },
  {
   "cell_type": "code",
   "execution_count": null,
   "id": "fac3fb8d",
   "metadata": {},
   "outputs": [],
   "source": []
  }
 ],
 "metadata": {
  "kernelspec": {
   "display_name": "KEMI",
   "language": "python",
   "name": "python3"
  },
  "language_info": {
   "codemirror_mode": {
    "name": "ipython",
    "version": 3
   },
   "file_extension": ".py",
   "mimetype": "text/x-python",
   "name": "python",
   "nbconvert_exporter": "python",
   "pygments_lexer": "ipython3",
   "version": "3.13.5"
  }
 },
 "nbformat": 4,
 "nbformat_minor": 5
}
