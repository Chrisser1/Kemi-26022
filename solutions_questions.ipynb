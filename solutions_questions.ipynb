{
 "cells": [
  {
   "cell_type": "code",
   "execution_count": 1,
   "id": "dd74a35b",
   "metadata": {},
   "outputs": [],
   "source": [
    "from compound import Compound\n",
    "import solutions as sol"
   ]
  },
  {
   "cell_type": "markdown",
   "id": "6e147dd3",
   "metadata": {},
   "source": [
    "# Van't hoff factor for a sultution with idial i"
   ]
  },
  {
   "cell_type": "code",
   "execution_count": 2,
   "id": "4b40adcf",
   "metadata": {},
   "outputs": [
    {
     "name": "stdout",
     "output_type": "stream",
     "text": [
      "--- Van't Hoff Factor Analysis for KI ---\n",
      "  - Ideal Factor (i_ideal): 2\n",
      "    (Calculated based on the dissociation into 2 ions.)\n",
      "\n",
      "  - Real Factor (i_real): The real van't Hoff factor is typically slightly less than the ideal value.\n",
      "    This is due to 'ion pairing,' where some dissolved ions are attracted to each other\n",
      "    and briefly act as a single particle, reducing the total effective number of particles.\n",
      "    For KI, the real factor would be expected to be just under 2.\n",
      "\n",
      "==================================================\n",
      "\n",
      "--- Van't Hoff Factor Analysis for MgCl2 ---\n",
      "  - Ideal Factor (i_ideal): 2\n",
      "    (Calculated based on the dissociation into 2 ions.)\n",
      "\n",
      "  - Real Factor (i_real): The real van't Hoff factor is typically slightly less than the ideal value.\n",
      "    This is due to 'ion pairing,' where some dissolved ions are attracted to each other\n",
      "    and briefly act as a single particle, reducing the total effective number of particles.\n",
      "    For MgCl2, the real factor would be expected to be just under 2.\n"
     ]
    }
   ],
   "source": [
    "# --- Analyze Potassium Iodide (KI) ---\n",
    "analysis_ki = sol.analyze_van_hoff_factor(\"KI\")\n",
    "print(analysis_ki)\n",
    "\n",
    "# --- Analyze another example, like MgCl₂ ---\n",
    "# MgCl₂ -> Mg²⁺ + 2Cl⁻ (ideal i = 3)\n",
    "print(\"\\n\" + \"=\"*50 + \"\\n\")\n",
    "analysis_mgcl2 = sol.analyze_van_hoff_factor(\"MgCl2\")\n",
    "print(analysis_mgcl2)"
   ]
  },
  {
   "cell_type": "markdown",
   "id": "8d5c2cd3",
   "metadata": {},
   "source": [
    "# ion concentration based on molar mass"
   ]
  },
  {
   "cell_type": "code",
   "execution_count": 3,
   "id": "4b206c11",
   "metadata": {},
   "outputs": [
    {
     "name": "stdout",
     "output_type": "stream",
     "text": [
      "The total ion concentration of a 1.0 M Li2CO3 solution is 3.0 M\n"
     ]
    }
   ],
   "source": [
    "# --- Given values ---\n",
    "formula = \"Li2CO3\"\n",
    "molarity = 1.0\n",
    "\n",
    "# --- Calculation ---\n",
    "total_concentration = sol.calculate_total_ion_concentration(formula, molarity)\n",
    "\n",
    "print(f\"The total ion concentration of a {molarity} M {formula} solution is {total_concentration:.1f} M\")\n"
   ]
  },
  {
   "cell_type": "markdown",
   "id": "4bc4f179",
   "metadata": {},
   "source": [
    "# Molar mass based on volume and moles"
   ]
  },
  {
   "cell_type": "code",
   "execution_count": null,
   "id": "0b13c5e4",
   "metadata": {},
   "outputs": [
    {
     "name": "stdout",
     "output_type": "stream",
     "text": [
      "Name:         Sodium chloride\n",
      "Bond type(s): Ionic\n",
      "Formula:      ClNa\n",
      "Molar mass:   58.4400 g/mol\n",
      "Atom count:   2 atoms/unit\n",
      "Total units:  3.01e+24 formula units (6.02e+24 atoms in total)\n",
      "Mass:         292.2000 g\n",
      "Amount:       5.000000 mol\n"
     ]
    }
   ],
   "source": [
    "nacl = Compound(\"NaCl\")\n",
    "nacl.set_moles(5.0)\n",
    "nacl.set_volume(...)\n",
    "nacl.display()"
   ]
  },
  {
   "cell_type": "code",
   "execution_count": null,
   "id": "ab689ad8",
   "metadata": {},
   "outputs": [],
   "source": []
  }
 ],
 "metadata": {
  "kernelspec": {
   "display_name": "KEMI",
   "language": "python",
   "name": "python3"
  },
  "language_info": {
   "codemirror_mode": {
    "name": "ipython",
    "version": 3
   },
   "file_extension": ".py",
   "mimetype": "text/x-python",
   "name": "python",
   "nbconvert_exporter": "python",
   "pygments_lexer": "ipython3",
   "version": "3.13.5"
  }
 },
 "nbformat": 4,
 "nbformat_minor": 5
}
