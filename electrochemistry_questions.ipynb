{
 "cells": [
  {
   "cell_type": "code",
   "execution_count": 1,
   "id": "88169330",
   "metadata": {},
   "outputs": [],
   "source": [
    "import electrochemistry as ec\n",
    "from chempy import balance_stoichiometry\n",
    "from pprint import pprint"
   ]
  },
  {
   "cell_type": "markdown",
   "id": "bc975971",
   "metadata": {},
   "source": [
    "# Find the strongest oxidizing agent"
   ]
  },
  {
   "cell_type": "code",
   "execution_count": 2,
   "id": "0de17160",
   "metadata": {},
   "outputs": [
    {
     "name": "stdout",
     "output_type": "stream",
     "text": [
      "The strongest oxidizing agent is Au+ with E° = 1.69 V.\n"
     ]
    }
   ],
   "source": [
    "# --- Given half-reactions from the problem ---\n",
    "potentials = {\n",
    "    \"Fe^3+\": -0.04,\n",
    "    \"Fe^2+\": -0.44,\n",
    "    \"Ag+\": 0.80,\n",
    "    \"Au+\": 1.69\n",
    "}\n",
    "\n",
    "# --- Find the strongest oxidizing agent ---\n",
    "agent, potential = ec.find_strongest_agent(\n",
    "    half_reactions=potentials,\n",
    "    agent_type=\"oxidizing\"\n",
    ")\n",
    "\n",
    "print(f\"The strongest oxidizing agent is {agent} with E° = {potential} V.\")"
   ]
  },
  {
   "cell_type": "markdown",
   "id": "133a4e3c",
   "metadata": {},
   "source": [
    "# Standard free-energy change based on volts an moles of electrons"
   ]
  },
  {
   "cell_type": "code",
   "execution_count": 3,
   "id": "eed8607e",
   "metadata": {},
   "outputs": [
    {
     "name": "stdout",
     "output_type": "stream",
     "text": [
      "The standard free-energy change is: 295 kJ\n"
     ]
    }
   ],
   "source": [
    "# --- Given values from the problem ---\n",
    "e_cell = -1.53  # Volts\n",
    "n_e = 2         # Moles of electrons\n",
    "\n",
    "# --- Use the new function to calculate ΔG° ---\n",
    "delta_g = ec.calculate_gibbs_from_potential(\n",
    "    E_cell_volts=e_cell,\n",
    "    n_electrons=n_e\n",
    ")\n",
    "\n",
    "# --- Display the results ---\n",
    "print(f\"The standard free-energy change is: {delta_g:.0f} kJ\")"
   ]
  },
  {
   "cell_type": "markdown",
   "id": "a88bd509",
   "metadata": {},
   "source": [
    "# Standard reduction potential based on cell voltage and cathode"
   ]
  },
  {
   "cell_type": "code",
   "execution_count": 4,
   "id": "69fb979d",
   "metadata": {},
   "outputs": [
    {
     "name": "stdout",
     "output_type": "stream",
     "text": [
      "The standard reduction potential for the anode (Ce4+) is: 1.72 V\n"
     ]
    }
   ],
   "source": [
    "# --- Given values from the problem ---\n",
    "e_cell_val = -1.38\n",
    "e_cathode_val = 0.34\n",
    "\n",
    "# --- Use the function to solve for the anode potential ---\n",
    "result = ec.solve_cell_potential(\n",
    "    E_cell=e_cell_val,\n",
    "    E_cathode=e_cathode_val,\n",
    "    E_anode=None  # This is what we want to find\n",
    ")\n",
    "\n",
    "anode_potential = result['E_anode']\n",
    "print(f\"The standard reduction potential for the anode (Ce4+) is: {anode_potential:.2f} V\")"
   ]
  },
  {
   "cell_type": "markdown",
   "id": "575d573a",
   "metadata": {},
   "source": [
    "# Balance redox reactions"
   ]
  },
  {
   "cell_type": "code",
   "execution_count": 5,
   "id": "9378dfaf",
   "metadata": {},
   "outputs": [
    {
     "name": "stdout",
     "output_type": "stream",
     "text": [
      "--- Balanced in Basic Solution ---\n",
      "Reactant Coefficients:\n",
      "{'H2O': 16, 'NO3-': 32, 'S8': 3}\n",
      "\n",
      "Product Coefficients:\n",
      "{'NO': 32, 'OH-': 32, 'SO2': 24}\n",
      "\n",
      "Full Equation:\n",
      "16 H2O + 32 NO3- + 3 S8 -> 32 NO + 32 OH- + 24 SO2\n"
     ]
    }
   ],
   "source": [
    "# --- Define the core reactants and products ---\n",
    "reactants = {'S8', 'NO3-'}\n",
    "products = {'NO', 'SO2'}\n",
    "\n",
    "# --- Balance in BASIC Solution ---\n",
    "# For basic solutions, H2O and OH- are involved\n",
    "# We tell chempy that water can be a reactant and hydroxide a product\n",
    "reac_balanced, prod_balanced = balance_stoichiometry(\n",
    "    reactants | {'H2O'},\n",
    "    products | {'OH-'}\n",
    ")\n",
    "\n",
    "print(\"--- Balanced in Basic Solution ---\")\n",
    "print(\"Reactant Coefficients:\")\n",
    "pprint(dict(reac_balanced))\n",
    "print(\"\\nProduct Coefficients:\")\n",
    "pprint(dict(prod_balanced))\n",
    "\n",
    "# --- Print the full, formatted equation ---\n",
    "full_equation = ec.format_equation(reac_balanced, prod_balanced)\n",
    "print(f\"\\nFull Equation:\\n{full_equation}\")\n"
   ]
  },
  {
   "cell_type": "markdown",
   "id": "ea906219",
   "metadata": {},
   "source": [
    "# Activity series reaction that will occur."
   ]
  },
  {
   "cell_type": "code",
   "execution_count": 6,
   "id": "ac5d09d4",
   "metadata": {},
   "outputs": [
    {
     "name": "stdout",
     "output_type": "stream",
     "text": [
      "Pb vs Mg: Will NOT occur\n",
      "Ni vs Sn: Will occur\n",
      "Zn vs Ba: Will NOT occur\n",
      "Cu vs Fe: Will NOT occur\n"
     ]
    }
   ],
   "source": [
    "# Test the options from the image\n",
    "print(f\"Pb vs Mg: {'Will occur' if ec.will_reaction_occur('Pb', 'Mg') else 'Will NOT occur'}\")\n",
    "print(f\"Ni vs Sn: {'Will occur' if ec.will_reaction_occur('Ni', 'Sn') else 'Will NOT occur'}\")\n",
    "print(f\"Zn vs Ba: {'Will occur' if ec.will_reaction_occur('Zn', 'Ba') else 'Will NOT occur'}\")\n",
    "print(f\"Cu vs Fe: {'Will occur' if ec.will_reaction_occur('Cu', 'Fe') else 'Will NOT occur'}\")"
   ]
  },
  {
   "cell_type": "markdown",
   "id": "1e8a0bca",
   "metadata": {},
   "source": [
    "# Identify the oxidation state"
   ]
  },
  {
   "cell_type": "code",
   "execution_count": 7,
   "id": "6026dacc",
   "metadata": {},
   "outputs": [
    {
     "name": "stdout",
     "output_type": "stream",
     "text": [
      "The oxidation state of Fe in Fe(OH)2 is: +2\n"
     ]
    }
   ],
   "source": [
    "# --- Given values from the problem ---\n",
    "formula = \"Fe(OH)2\"\n",
    "target = \"Fe\"\n",
    "\n",
    "# --- Use the new function to calculate the oxidation state ---\n",
    "oxidation_state = ec.calculate_oxidation_state(formula, target)\n",
    "\n",
    "# --- Display the result ---\n",
    "print(f\"The oxidation state of {target} in {formula} is: +{oxidation_state}\")"
   ]
  },
  {
   "cell_type": "code",
   "execution_count": 8,
   "id": "349b2106",
   "metadata": {},
   "outputs": [
    {
     "name": "stdout",
     "output_type": "stream",
     "text": [
      "The oxidation state of Cu in chalcocite (Cu2S) is: +1\n"
     ]
    }
   ],
   "source": [
    "# --- Given values ---\n",
    "# The chemical formula for chalcocite is Cu2S\n",
    "formula = \"Cu2S\"\n",
    "target = \"Cu\"\n",
    "\n",
    "# --- Calculation ---\n",
    "oxidation_state = ec.calculate_oxidation_state(formula, target)\n",
    "\n",
    "# --- Display the result ---\n",
    "print(f\"The oxidation state of {target} in chalcocite ({formula}) is: +{oxidation_state}\")"
   ]
  },
  {
   "cell_type": "code",
   "execution_count": 9,
   "id": "dd2ff00f",
   "metadata": {},
   "outputs": [
    {
     "name": "stdout",
     "output_type": "stream",
     "text": [
      "The oxidation state of Si in sand (SiO2) is: +4\n",
      "The oxidation state of Si in slag (CaSiO3) is: +4\n"
     ]
    }
   ],
   "source": [
    "# --- Formulas for silicon compounds in the mixture ---\n",
    "formula_sand = \"SiO2\"\n",
    "formula_slag = \"CaSiO3\"\n",
    "target = \"Si\"\n",
    "\n",
    "# --- Calculation ---\n",
    "ox_state_sand = ec.calculate_oxidation_state(formula_sand, target)\n",
    "ox_state_slag = ec.calculate_oxidation_state(formula_slag, target)\n",
    "\n",
    "# --- Display the results ---\n",
    "print(f\"The oxidation state of {target} in sand ({formula_sand}) is: +{ox_state_sand}\")\n",
    "print(f\"The oxidation state of {target} in slag ({formula_slag}) is: +{ox_state_slag}\")"
   ]
  },
  {
   "cell_type": "code",
   "execution_count": null,
   "id": "a1b1d4b4",
   "metadata": {},
   "outputs": [],
   "source": []
  }
 ],
 "metadata": {
  "kernelspec": {
   "display_name": "KEMI",
   "language": "python",
   "name": "python3"
  },
  "language_info": {
   "codemirror_mode": {
    "name": "ipython",
    "version": 3
   },
   "file_extension": ".py",
   "mimetype": "text/x-python",
   "name": "python",
   "nbconvert_exporter": "python",
   "pygments_lexer": "ipython3",
   "version": "3.13.5"
  }
 },
 "nbformat": 4,
 "nbformat_minor": 5
}
