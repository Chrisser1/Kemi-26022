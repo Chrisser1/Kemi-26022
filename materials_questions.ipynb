{
 "cells": [
  {
   "cell_type": "code",
   "execution_count": 1,
   "id": "39b93df0",
   "metadata": {},
   "outputs": [],
   "source": [
    "import materials"
   ]
  },
  {
   "cell_type": "markdown",
   "id": "9697f347",
   "metadata": {},
   "source": [
    "# Determine the Oxidation State of a coordination compound"
   ]
  },
  {
   "cell_type": "code",
   "execution_count": 2,
   "id": "683fde85",
   "metadata": {},
   "outputs": [
    {
     "name": "stdout",
     "output_type": "stream",
     "text": [
      "The oxidation state of Ni in [Ni(NH3)6]Cl2 is: +2\n"
     ]
    }
   ],
   "source": [
    "# --- Define the compound formula ---\n",
    "formula = \"[Ni(NH3)6]Cl2\"\n",
    "\n",
    "# --- Use the direct function to calculate the oxidation state ---\n",
    "ni_ox_state = materials.get_oxidation_state_from_formula(formula)\n",
    "\n",
    "print(f\"The oxidation state of Ni in {formula} is: +{ni_ox_state}\")"
   ]
  },
  {
   "cell_type": "markdown",
   "id": "03401c4c",
   "metadata": {},
   "source": [
    "# Smallest ligand field of complexes"
   ]
  },
  {
   "cell_type": "code",
   "execution_count": 3,
   "id": "75186d3e",
   "metadata": {},
   "outputs": [
    {
     "name": "stdout",
     "output_type": "stream",
     "text": [
      "Order of increasing ligand field splitting (Δ):\n",
      "[Co(CO)4]- < [Fe(H2O)6]3+ < [Ni(NH3)6]2+ < [Fe(CN)6]4-\n"
     ]
    }
   ],
   "source": [
    "# --- Complexes from the question ---\n",
    "complexes = [\n",
    "    \"[Fe(H2O)6]3+\",\n",
    "    \"[Ni(NH3)6]2+\",\n",
    "    \"[Fe(CN)6]4-\",\n",
    "    \"[Co(CO)4]-\"  # This will now be parsed correctly\n",
    "]\n",
    "\n",
    "# --- Get the ranking ---\n",
    "ranking = materials.compare_ligand_field_splitting(complexes)\n",
    "\n",
    "print(\"Order of increasing ligand field splitting (Δ):\")\n",
    "print(ranking)"
   ]
  },
  {
   "cell_type": "code",
   "execution_count": 4,
   "id": "a883b884",
   "metadata": {},
   "outputs": [
    {
     "name": "stdout",
     "output_type": "stream",
     "text": [
      "Order of increasing ligand field splitting (Δ):\n",
      "[MnCl4]2- < [PtCl6]2- < [Co(NH3)6]3+ < [Fe(CN)6]4-\n",
      "\n",
      "The complex with the smallest splitting is: [MnCl4]2-\n"
     ]
    }
   ],
   "source": [
    "# --- Complexes from the question ---\n",
    "complexes = [\n",
    "    \"[MnCl4]2-\",\n",
    "    \"[Co(NH3)6]3+\",\n",
    "    \"[PtCl6]2-\",\n",
    "    \"[Fe(CN)6]4-\"\n",
    "]\n",
    "\n",
    "# --- Get the ranking ---\n",
    "# The function will return the complexes ordered from smallest Δ to largest Δ.\n",
    "ranking = materials.compare_ligand_field_splitting(complexes)\n",
    "\n",
    "# --- Display the result ---\n",
    "print(\"Order of increasing ligand field splitting (Δ):\")\n",
    "print(ranking)\n",
    "\n",
    "# Extract the one with the smallest splitting\n",
    "smallest_delta_complex = ranking.split(\" < \")[0]\n",
    "print(f\"\\nThe complex with the smallest splitting is: {smallest_delta_complex}\")"
   ]
  },
  {
   "cell_type": "markdown",
   "id": "b8e79335",
   "metadata": {},
   "source": [
    "# Naming complex ions"
   ]
  },
  {
   "cell_type": "code",
   "execution_count": 5,
   "id": "59a58320",
   "metadata": {},
   "outputs": [
    {
     "name": "stdout",
     "output_type": "stream",
     "text": [
      "[PtCl6]2-  ->  hexachloridoplatinate(IV) ion\n",
      "[Fe(NH3)4Cl2]+ ->  tetraamminedichloridoiron(III) ion\n",
      "(NH4)2[Ni(CN)4] ->  ammonium tetracyanidonickelate(II)\n",
      "[Fe(NH3)4Cl2]+ ->  potassium hexafluoridotitanate(IV)\n",
      "[Fe(NH3)4Cl2]+ ->  pentaaquahydroxidochromium(III) nitrate\n"
     ]
    }
   ],
   "source": [
    "# --- Name the complexes from the image ---\n",
    "name1 = materials.name_from_formula(\"[PtCl6]2-\")\n",
    "print(f\"[PtCl6]2-  ->  {name1}\")\n",
    "name2 = materials.name_from_formula(\"[Fe(NH3)4Cl2]+\")\n",
    "print(f\"[Fe(NH3)4Cl2]+ ->  {name2}\")\n",
    "name3 = materials.name_from_formula(\"(NH4)2[Ni(CN)4]\")\n",
    "print(f\"(NH4)2[Ni(CN)4] ->  {name3}\")\n",
    "name4 = materials.name_from_formula(\"K2[TiF6]\")\n",
    "print(f\"[Fe(NH3)4Cl2]+ ->  {name4}\")\n",
    "name5 = materials.name_from_formula(\"[Cr(H2O)5OH](NO3)2\")\n",
    "print(f\"[Fe(NH3)4Cl2]+ ->  {name5}\")"
   ]
  },
  {
   "cell_type": "code",
   "execution_count": 6,
   "id": "91d6708c",
   "metadata": {},
   "outputs": [
    {
     "name": "stdout",
     "output_type": "stream",
     "text": [
      "Formula for tetraamminedichlorochromium(III): [Cr(Cl)2(NH3)4]+\n",
      "Formula for tetrabromomanganate(II): [Mn(Br)4]2-\n",
      "Formula for tetraamminedichlorochromium(III)tetrabromomanganate(II): [Cr(Cl)2(NH3)4]2[Mn(Br)4]\n"
     ]
    }
   ],
   "source": [
    "formula1 = materials.formula_from_name(\"tetraamminedichlorochromium(III)\")\n",
    "print(f\"Formula for tetraamminedichlorochromium(III): {formula1}\")\n",
    "formula2 = materials.formula_from_name(\"tetrabromomanganate(II)\")\n",
    "print(f\"Formula for tetrabromomanganate(II): {formula2}\")\n",
    "formula3 = materials.formula_from_name(\"tetraamminedichlorochromium(III)tetrabromomanganate(II)\")\n",
    "print(f\"Formula for tetraamminedichlorochromium(III)tetrabromomanganate(II): {formula3}\")"
   ]
  },
  {
   "cell_type": "markdown",
   "id": "0ca05e68",
   "metadata": {},
   "source": [
    "# Determine the coordination number"
   ]
  },
  {
   "cell_type": "code",
   "execution_count": 7,
   "id": "6ed91adf",
   "metadata": {},
   "outputs": [
    {
     "name": "stdout",
     "output_type": "stream",
     "text": [
      "The coordination number for [Pt(NH3)2Cl4] is 6.\n"
     ]
    }
   ],
   "source": [
    "# --- Given values ---\n",
    "formula = \"[Pt(NH3)2Cl4]\"\n",
    "\n",
    "# --- Calculation ---\n",
    "coord_num = materials.get_coordination_number(formula)\n",
    "\n",
    "# --- Display the result ---\n",
    "print(f\"The coordination number for {formula} is {coord_num}.\")"
   ]
  },
  {
   "cell_type": "markdown",
   "id": "c5b76b9b",
   "metadata": {},
   "source": [
    "# likely geometry"
   ]
  },
  {
   "cell_type": "code",
   "execution_count": 8,
   "id": "22a62468",
   "metadata": {},
   "outputs": [
    {
     "name": "stdout",
     "output_type": "stream",
     "text": [
      "The likely geometry for the complex in K2[Pt(Cl)4] is: Square Planar\n"
     ]
    }
   ],
   "source": [
    "# --- Given values ---\n",
    "formula = \"K2[Pt(Cl)4]\" # Note: We use the full compound formula\n",
    "\n",
    "# --- Calculation ---\n",
    "geometry = materials.predict_coordination_geometry(formula)\n",
    "\n",
    "# --- Display the result ---\n",
    "print(f\"The likely geometry for the complex in {formula} is: {geometry}\")"
   ]
  },
  {
   "cell_type": "code",
   "execution_count": 9,
   "id": "b52c2c99",
   "metadata": {},
   "outputs": [
    {
     "name": "stdout",
     "output_type": "stream",
     "text": [
      "The predicted geometry for [V(CN)6]4- is: Octahedral\n"
     ]
    }
   ],
   "source": [
    "# --- Given values ---\n",
    "formula = \"[V(CN)6]4-\"\n",
    "\n",
    "# --- Calculation ---\n",
    "geometry = materials.predict_coordination_geometry(formula)\n",
    "\n",
    "# --- Display the result ---\n",
    "print(f\"The predicted geometry for {formula} is: {geometry}\")"
   ]
  },
  {
   "cell_type": "code",
   "execution_count": 10,
   "id": "3c298346",
   "metadata": {},
   "outputs": [
    {
     "name": "stdout",
     "output_type": "stream",
     "text": [
      "The predicted geometry for [Pt(Cl)2(NH3)2] is: Square Planar\n"
     ]
    }
   ],
   "source": [
    "# --- Given values ---\n",
    "formula = \"[Pt(Cl)2(NH3)2]\"\n",
    "\n",
    "# --- Calculation ---\n",
    "geometry = materials.predict_coordination_geometry(formula)\n",
    "\n",
    "# --- Display the result ---\n",
    "print(f\"The predicted geometry for {formula} is: {geometry}\")"
   ]
  },
  {
   "cell_type": "code",
   "execution_count": 11,
   "id": "08edc955",
   "metadata": {},
   "outputs": [
    {
     "name": "stdout",
     "output_type": "stream",
     "text": [
      "The predicted geometry for [Cd(Cl)4]2- is: Tetrahedral\n"
     ]
    }
   ],
   "source": [
    "# --- Given values ---\n",
    "formula = \"[Cd(Cl)4]2-\"\n",
    "\n",
    "# --- Calculation ---\n",
    "geometry = materials.predict_coordination_geometry(formula)\n",
    "\n",
    "# --- Display the result ---\n",
    "print(f\"The predicted geometry for {formula} is: {geometry}\")"
   ]
  },
  {
   "cell_type": "code",
   "execution_count": 16,
   "id": "b08d23ca",
   "metadata": {},
   "outputs": [
    {
     "name": "stdout",
     "output_type": "stream",
     "text": [
      "The predicted geometry for K2[Pt(Cl)4] is: Square Planar\n"
     ]
    }
   ],
   "source": [
    "# --- Given values ---\n",
    "formula = \"K2[Pt(Cl)4]\"\n",
    "\n",
    "# --- Calculation ---\n",
    "geometry = materials.predict_coordination_geometry(formula)\n",
    "\n",
    "# --- Display the result ---\n",
    "print(f\"The predicted geometry for {formula} is: {geometry}\")"
   ]
  },
  {
   "cell_type": "markdown",
   "id": "910e72a8",
   "metadata": {},
   "source": [
    "# Predict the number of unpaired electrons"
   ]
  },
  {
   "cell_type": "code",
   "execution_count": 13,
   "id": "777ea346",
   "metadata": {},
   "outputs": [
    {
     "name": "stdout",
     "output_type": "stream",
     "text": [
      "The predicted number of unpaired d electrons in [Fe(CN)6]4- is: 0\n"
     ]
    }
   ],
   "source": [
    "# --- Given values ---\n",
    "formula = \"[Fe(CN)6]4-\"\n",
    "\n",
    "# --- Calculation ---\n",
    "unpaired = materials.predict_unpaired_electrons(formula)\n",
    "\n",
    "# --- Display the result ---\n",
    "print(f\"The predicted number of unpaired d electrons in {formula} is: {unpaired}\")"
   ]
  },
  {
   "cell_type": "markdown",
   "id": "cb2f29a6",
   "metadata": {},
   "source": [
    "# Find the correct electron configuration for low- and high-spin"
   ]
  },
  {
   "cell_type": "code",
   "execution_count": 14,
   "id": "2515a0f8",
   "metadata": {},
   "outputs": [
    {
     "name": "stdout",
     "output_type": "stream",
     "text": [
      "The configuration for a low-spin d5 complex is: t2g^5 eg^0\n",
      "The configuration for a high-spin d5 complex is: t2g^3 eg^2\n"
     ]
    }
   ],
   "source": [
    "# --- Given values from the problem ---\n",
    "d_electrons = 5\n",
    "spin_state = \"low\"\n",
    "\n",
    "# --- Calculation ---\n",
    "config = materials.get_d_orbital_configuration(d_electrons, spin_state)\n",
    "\n",
    "# --- Display the result ---\n",
    "print(f\"The configuration for a low-spin d{d_electrons} complex is: {config}\")\n",
    "\n",
    "# Let's also check the high-spin case for comparison\n",
    "config_high = materials.get_d_orbital_configuration(d_electrons, \"high\")\n",
    "print(f\"The configuration for a high-spin d{d_electrons} complex is: {config_high}\")"
   ]
  },
  {
   "cell_type": "markdown",
   "id": "ff8b7a16",
   "metadata": {},
   "source": [
    "# identify which of the following d orbitals has electron density along an axis where a ligand can bond\n",
    "Octahedral Geometry: In an octahedral complex, the central metal ion is surrounded by six ligands. These ligands are positioned along the three Cartesian axes (x, y, and z). This means ligands approach the metal ion directly along the +x, -x, +y, -y, +z, and -z directions.\n",
    "\n",
    "d-Orbital Orientations: The five d orbitals have different spatial orientations. They are divided into two groups based on how they align with the axes:\n",
    "\n",
    "    The t_2g set (d_xy, d_xz, d_yz): The lobes of these orbitals are directed between the Cartesian axes. They point away from the incoming ligands.\n",
    "\n",
    "    The e_g set (d_x2−y2, d_z2): The lobes of these orbitals are directed along the Cartesian axes. They point directly at the incoming ligands."
   ]
  },
  {
   "cell_type": "code",
   "execution_count": 15,
   "id": "475e0cee",
   "metadata": {},
   "outputs": [
    {
     "name": "stdout",
     "output_type": "stream",
     "text": [
      "--- Analysis for an Octahedral Complex ---\n",
      "Orbital d_z^2:\n",
      "  - Set: eg\n",
      "  - Orientation: along the z-axis\n",
      "Orbital d_xz:\n",
      "  - Set: t2g\n",
      "  - Orientation: between x and z axes\n",
      "Orbital d_xy:\n",
      "  - Set: t2g\n",
      "  - Orientation: between x and y axes\n",
      "Orbital d_yz:\n",
      "  - Set: t2g\n",
      "  - Orientation: between y and z axes\n"
     ]
    }
   ],
   "source": [
    "# --- Given values ---\n",
    "geometry = \"octahedral\"\n",
    "orbitals_to_check = [\"d_z^2\", \"d_xz\", \"d_xy\", \"d_yz\"]\n",
    "\n",
    "# --- Analysis ---\n",
    "print(f\"--- Analysis for an {geometry.capitalize()} Complex ---\")\n",
    "for orbital in orbitals_to_check:\n",
    "    properties = materials.get_d_orbital_properties(orbital, geometry)\n",
    "    print(f\"Orbital {orbital}:\")\n",
    "    print(f\"  - Set: {properties['set']}\")\n",
    "    print(f\"  - Orientation: {properties['orientation']}\")"
   ]
  },
  {
   "cell_type": "markdown",
   "id": "ab5cedfc",
   "metadata": {},
   "source": [
    "Conclusion: The question asks for an orbital with electron density along an axis where a ligand can bond. The d_z2 orbital has its primary lobes pointing directly along the z-axis, and the d_x2−y2 orbital has its lobes pointing along the x and y axes. Both are part of the e_g set. Of the choices provided, only d_z2 is in this set."
   ]
  },
  {
   "cell_type": "markdown",
   "id": "574dd15f",
   "metadata": {},
   "source": []
  }
 ],
 "metadata": {
  "kernelspec": {
   "display_name": "KEMI",
   "language": "python",
   "name": "python3"
  },
  "language_info": {
   "codemirror_mode": {
    "name": "ipython",
    "version": 3
   },
   "file_extension": ".py",
   "mimetype": "text/x-python",
   "name": "python",
   "nbconvert_exporter": "python",
   "pygments_lexer": "ipython3",
   "version": "3.13.5"
  }
 },
 "nbformat": 4,
 "nbformat_minor": 5
}
