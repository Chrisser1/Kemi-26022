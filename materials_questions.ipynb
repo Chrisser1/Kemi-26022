{
 "cells": [
  {
   "cell_type": "code",
   "execution_count": 1,
   "id": "39b93df0",
   "metadata": {},
   "outputs": [],
   "source": [
    "import materials"
   ]
  },
  {
   "cell_type": "markdown",
   "id": "9697f347",
   "metadata": {},
   "source": [
    "# Determine the Oxidation State of a coordination compound"
   ]
  },
  {
   "cell_type": "code",
   "execution_count": 2,
   "id": "683fde85",
   "metadata": {},
   "outputs": [
    {
     "name": "stdout",
     "output_type": "stream",
     "text": [
      "The oxidation state of Ni in [Ni(NH3)6]Cl2 is: +2\n"
     ]
    }
   ],
   "source": [
    "# --- Define the compound formula ---\n",
    "formula = \"[Ni(NH3)6]Cl2\"\n",
    "\n",
    "# --- Use the direct function to calculate the oxidation state ---\n",
    "ni_ox_state = materials.get_oxidation_state_from_formula(formula)\n",
    "\n",
    "print(f\"The oxidation state of Ni in {formula} is: +{ni_ox_state}\")"
   ]
  },
  {
   "cell_type": "markdown",
   "id": "03401c4c",
   "metadata": {},
   "source": [
    "# Smallest ligand field of complexes"
   ]
  },
  {
   "cell_type": "code",
   "execution_count": 3,
   "id": "75186d3e",
   "metadata": {},
   "outputs": [
    {
     "name": "stdout",
     "output_type": "stream",
     "text": [
      "Order of increasing ligand field splitting (Δ):\n",
      "[Co(CO)4]- < [Fe(H2O)6]3+ < [Ni(NH3)6]2+ < [Fe(CN)6]4-\n"
     ]
    }
   ],
   "source": [
    "# --- Complexes from the question ---\n",
    "complexes = [\n",
    "    \"[Fe(H2O)6]3+\",\n",
    "    \"[Ni(NH3)6]2+\",\n",
    "    \"[Fe(CN)6]4-\",\n",
    "    \"[Co(CO)4]-\"  # This will now be parsed correctly\n",
    "]\n",
    "\n",
    "# --- Get the ranking ---\n",
    "ranking = materials.compare_ligand_field_splitting(complexes)\n",
    "\n",
    "print(\"Order of increasing ligand field splitting (Δ):\")\n",
    "print(ranking)"
   ]
  },
  {
   "cell_type": "markdown",
   "id": "b8e79335",
   "metadata": {},
   "source": [
    "# Naming complex ions"
   ]
  },
  {
   "cell_type": "code",
   "execution_count": 4,
   "id": "59a58320",
   "metadata": {},
   "outputs": [
    {
     "name": "stdout",
     "output_type": "stream",
     "text": [
      "[PtCl6]2-  ->  hexachloridoplatinate(IV) ion\n",
      "[Fe(NH3)4Cl2]+ ->  tetraamminedichloridoiron(III) ion\n",
      "(NH4)2[Ni(CN)4] ->  ammonium tetracyanidonickelate(II)\n",
      "[Fe(NH3)4Cl2]+ ->  potassium hexafluoridotitanate(IV)\n",
      "[Fe(NH3)4Cl2]+ ->  pentaaquahydroxidochromium(III) nitrate\n"
     ]
    }
   ],
   "source": [
    "# --- Name the complexes from the image ---\n",
    "name1 = materials.name_from_formula(\"[PtCl6]2-\")\n",
    "print(f\"[PtCl6]2-  ->  {name1}\")\n",
    "name2 = materials.name_from_formula(\"[Fe(NH3)4Cl2]+\")\n",
    "print(f\"[Fe(NH3)4Cl2]+ ->  {name2}\")\n",
    "name3 = materials.name_from_formula(\"(NH4)2[Ni(CN)4]\")\n",
    "print(f\"(NH4)2[Ni(CN)4] ->  {name3}\")\n",
    "name4 = materials.name_from_formula(\"K2[TiF6]\")\n",
    "print(f\"[Fe(NH3)4Cl2]+ ->  {name4}\")\n",
    "name5 = materials.name_from_formula(\"[Cr(H2O)5OH](NO3)2\")\n",
    "print(f\"[Fe(NH3)4Cl2]+ ->  {name5}\")"
   ]
  },
  {
   "cell_type": "code",
   "execution_count": 5,
   "id": "91d6708c",
   "metadata": {},
   "outputs": [
    {
     "name": "stdout",
     "output_type": "stream",
     "text": [
      "Formula for tetraamminedichlorochromium(III): [Cr(Cl)2(NH3)4]+\n",
      "Formula for tetrabromomanganate(II): [Mn(Br)4]2-\n",
      "Formula for tetraamminedichlorochromium(III)tetrabromomanganate(II): [Cr(Cl)2(NH3)4]2[Mn(Br)4]\n"
     ]
    }
   ],
   "source": [
    "formula1 = materials.formula_from_name(\"tetraamminedichlorochromium(III)\")\n",
    "print(f\"Formula for tetraamminedichlorochromium(III): {formula1}\")\n",
    "formula2 = materials.formula_from_name(\"tetrabromomanganate(II)\")\n",
    "print(f\"Formula for tetrabromomanganate(II): {formula2}\")\n",
    "formula3 = materials.formula_from_name(\"tetraamminedichlorochromium(III)tetrabromomanganate(II)\")\n",
    "print(f\"Formula for tetraamminedichlorochromium(III)tetrabromomanganate(II): {formula3}\")"
   ]
  },
  {
   "cell_type": "code",
   "execution_count": null,
   "id": "760a2a29",
   "metadata": {},
   "outputs": [],
   "source": []
  }
 ],
 "metadata": {
  "kernelspec": {
   "display_name": "KEMI",
   "language": "python",
   "name": "python3"
  },
  "language_info": {
   "codemirror_mode": {
    "name": "ipython",
    "version": 3
   },
   "file_extension": ".py",
   "mimetype": "text/x-python",
   "name": "python",
   "nbconvert_exporter": "python",
   "pygments_lexer": "ipython3",
   "version": "3.13.5"
  }
 },
 "nbformat": 4,
 "nbformat_minor": 5
}
