{
 "cells": [
  {
   "cell_type": "code",
   "execution_count": 1,
   "id": "428e0db3",
   "metadata": {},
   "outputs": [],
   "source": [
    "import intermolecular_forces as imf\n",
    "import energy\n",
    "import solid_state as ss"
   ]
  },
  {
   "cell_type": "markdown",
   "id": "ac1f9e64",
   "metadata": {},
   "source": [
    "# Compounds by increasing boiling point"
   ]
  },
  {
   "cell_type": "code",
   "execution_count": 2,
   "id": "cc42568d",
   "metadata": {},
   "outputs": [
    {
     "name": "stdout",
     "output_type": "stream",
     "text": [
      "The estimated order of increasing boiling point is:\n",
      "CH4 < Br2 < HCl < NH3\n"
     ]
    }
   ],
   "source": [
    "# --- Molecules to compare ---\n",
    "molecules = [\"CH4\", \"Br2\", \"NH3\", \"HCl\"]\n",
    "\n",
    "# --- Get the ranking ---\n",
    "ranking = imf.rank_by_boiling_point(molecules)\n",
    "\n",
    "print(\"The estimated order of increasing boiling point is:\")\n",
    "print(ranking)"
   ]
  },
  {
   "cell_type": "markdown",
   "id": "7910c381",
   "metadata": {},
   "source": [
    "# Find the pressure based on boiling point and vaporization"
   ]
  },
  {
   "cell_type": "code",
   "execution_count": 3,
   "id": "2259f44b",
   "metadata": {},
   "outputs": [
    {
     "name": "stdout",
     "output_type": "stream",
     "text": [
      "The vapor pressure at 90°C is 530 mmHg\n"
     ]
    }
   ],
   "source": [
    "\n",
    "# --- Given values ---\n",
    "p1 = 760  # mmHg\n",
    "t1 = 100  # °C\n",
    "t2 = 90   # °C\n",
    "delta_h = 40.7 # kJ/mol\n",
    "\n",
    "# --- Calculation ---\n",
    "p2 = energy.clausius_clapeyron_pressure(p1, t1, t2, delta_h)\n",
    "\n",
    "print(f\"The vapor pressure at {t2}°C is {p2:.0f} mmHg\")"
   ]
  },
  {
   "cell_type": "markdown",
   "id": "003970e6",
   "metadata": {},
   "source": [
    "# Temperature at boiling when given pressure"
   ]
  },
  {
   "cell_type": "code",
   "execution_count": 4,
   "id": "cc10367a",
   "metadata": {},
   "outputs": [
    {
     "name": "stdout",
     "output_type": "stream",
     "text": [
      "The boiling point at 267.0 mmHg is 48°C\n"
     ]
    }
   ],
   "source": [
    "# --- Given values ---\n",
    "p1 = 760.0    # mmHg\n",
    "t1 = 80.1     # °C\n",
    "p2 = 267.0    # mmHg\n",
    "delta_h = 30.72 # kJ/mol\n",
    "\n",
    "# --- Calculation ---\n",
    "t2 = energy.clausius_clapeyron_temperature(p1, t1, p2, delta_h)\n",
    "\n",
    "print(f\"The boiling point at {p2} mmHg is {t2:.0f}°C\")"
   ]
  },
  {
   "cell_type": "markdown",
   "id": "5aae7c68",
   "metadata": {},
   "source": [
    "# Determine radius using density and molar mass"
   ]
  },
  {
   "cell_type": "code",
   "execution_count": 5,
   "id": "187ae082",
   "metadata": {},
   "outputs": [
    {
     "name": "stdout",
     "output_type": "stream",
     "text": [
      "The atomic radius of Chromium is 125 pm\n"
     ]
    }
   ],
   "source": [
    "# --- Given values from the problem ---\n",
    "density_val = 7.15\n",
    "molar_mass_val = 51.996\n",
    "structure_type = \"BCC\" # Body-Centered Cubic\n",
    "\n",
    "# --- Calculation with explicit units ---\n",
    "radius_pm = ss.calculate_atomic_radius(\n",
    "    density=density_val,\n",
    "    molar_mass_g_mol=molar_mass_val,\n",
    "    crystal_type=structure_type,\n",
    "    density_unit=\"g/cm3\",\n",
    "    output_unit=\"pm\"\n",
    ")\n",
    "\n",
    "print(f\"The atomic radius of Chromium is {radius_pm:.0f} pm\")"
   ]
  },
  {
   "cell_type": "code",
   "execution_count": 6,
   "id": "99b84513",
   "metadata": {},
   "outputs": [
    {
     "name": "stdout",
     "output_type": "stream",
     "text": [
      "The atomic radius of Chromium is 166 pm\n"
     ]
    }
   ],
   "source": [
    "# --- Given values from the problem ---\n",
    "density_val = 9.40\n",
    "molar_mass_val = 209\n",
    "structure_type = \"SCC\" # Simple Cubic\n",
    "\n",
    "# --- Calculation with explicit units ---\n",
    "radius_pm = ss.calculate_atomic_radius(\n",
    "    density=density_val,\n",
    "    molar_mass_g_mol=molar_mass_val,\n",
    "    crystal_type=structure_type,\n",
    "    density_unit=\"g/cm3\",\n",
    "    output_unit=\"pm\"\n",
    ")\n",
    "\n",
    "print(f\"The atomic radius of Chromium is {radius_pm:.0f} pm\")"
   ]
  },
  {
   "cell_type": "markdown",
   "id": "69b5083e",
   "metadata": {},
   "source": [
    "#  Calculate the density based on edge length"
   ]
  },
  {
   "cell_type": "code",
   "execution_count": 7,
   "id": "65c44d8d",
   "metadata": {},
   "outputs": [
    {
     "name": "stdout",
     "output_type": "stream",
     "text": [
      "The calculated density of Nickel is 8.9 g/cm³.\n"
     ]
    }
   ],
   "source": [
    "# --- Given values from the problem ---\n",
    "from compound import PT\n",
    "\n",
    "\n",
    "molar_mass_ni = PT[\"Ni\"].atomic_mass\n",
    "edge_len = 352.4  # pm\n",
    "structure = \"FCC\"\n",
    "\n",
    "# --- Calculation ---\n",
    "density_ni = ss.calculate_density_from_edge_length(\n",
    "    molar_mass_g_mol=molar_mass_ni,\n",
    "    edge_length=edge_len,\n",
    "    crystal_type=structure,\n",
    "    edge_length_unit=\"pm\"\n",
    ")\n",
    "\n",
    "print(f\"The calculated density of Nickel is {density_ni:.1f} g/cm³.\")"
   ]
  },
  {
   "cell_type": "markdown",
   "id": "3297f086",
   "metadata": {},
   "source": [
    "#  Number of atoms"
   ]
  },
  {
   "cell_type": "code",
   "execution_count": 8,
   "id": "f4e1281c",
   "metadata": {},
   "outputs": [
    {
     "name": "stdout",
     "output_type": "stream",
     "text": [
      "The number of Pt atoms in the nanoparticle is approximately 4330.\n"
     ]
    }
   ],
   "source": [
    "# --- Given values from the problem ---\n",
    "element = \"Pt\"\n",
    "density = 21.43  # g/cm³\n",
    "radius = 2.5     # nm\n",
    "\n",
    "# --- Calculation ---\n",
    "atom_count = ss.calculate_atoms_in_spherical_particle(\n",
    "    element_symbol=element,\n",
    "    density_g_cm3=density,\n",
    "    radius=radius,\n",
    "    radius_unit=\"nm\"\n",
    ")\n",
    "\n",
    "print(f\"The number of {element} atoms in the nanoparticle is approximately {atom_count}.\")"
   ]
  },
  {
   "cell_type": "code",
   "execution_count": null,
   "id": "ce008550",
   "metadata": {},
   "outputs": [],
   "source": []
  }
 ],
 "metadata": {
  "kernelspec": {
   "display_name": "KEMI",
   "language": "python",
   "name": "python3"
  },
  "language_info": {
   "codemirror_mode": {
    "name": "ipython",
    "version": 3
   },
   "file_extension": ".py",
   "mimetype": "text/x-python",
   "name": "python",
   "nbconvert_exporter": "python",
   "pygments_lexer": "ipython3",
   "version": "3.13.5"
  }
 },
 "nbformat": 4,
 "nbformat_minor": 5
}
