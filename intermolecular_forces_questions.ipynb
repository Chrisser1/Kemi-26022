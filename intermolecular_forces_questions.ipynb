{
 "cells": [
  {
   "cell_type": "code",
   "execution_count": 1,
   "id": "428e0db3",
   "metadata": {},
   "outputs": [
    {
     "ename": "ImportError",
     "evalue": "cannot import name 'predict_molecular_properties' from 'molecular_structure' (/home/chris/repos/Kemi-26022/molecular_structure.py)",
     "output_type": "error",
     "traceback": [
      "\u001b[31m---------------------------------------------------------------------------\u001b[39m",
      "\u001b[31mImportError\u001b[39m                               Traceback (most recent call last)",
      "\u001b[36mCell\u001b[39m\u001b[36m \u001b[39m\u001b[32mIn[1]\u001b[39m\u001b[32m, line 1\u001b[39m\n\u001b[32m----> \u001b[39m\u001b[32m1\u001b[39m \u001b[38;5;28;01mimport\u001b[39;00m\u001b[38;5;250m \u001b[39m\u001b[34;01mintermolecular_forces\u001b[39;00m\u001b[38;5;250m \u001b[39m\u001b[38;5;28;01mas\u001b[39;00m\u001b[38;5;250m \u001b[39m\u001b[34;01mimf\u001b[39;00m\n",
      "\u001b[36mFile \u001b[39m\u001b[32m~/repos/Kemi-26022/intermolecular_forces.py:4\u001b[39m\n\u001b[32m      1\u001b[39m \u001b[38;5;66;03m# intermolecular_forces.py\u001b[39;00m\n\u001b[32m      3\u001b[39m \u001b[38;5;28;01mfrom\u001b[39;00m\u001b[38;5;250m \u001b[39m\u001b[34;01mcompound\u001b[39;00m\u001b[38;5;250m \u001b[39m\u001b[38;5;28;01mimport\u001b[39;00m Compound\n\u001b[32m----> \u001b[39m\u001b[32m4\u001b[39m \u001b[38;5;28;01mfrom\u001b[39;00m\u001b[38;5;250m \u001b[39m\u001b[34;01mmolecular_structure\u001b[39;00m\u001b[38;5;250m \u001b[39m\u001b[38;5;28;01mimport\u001b[39;00m predict_molecular_properties \u001b[38;5;66;03m# Assuming this is in the same directory\u001b[39;00m\n\u001b[32m      6\u001b[39m \u001b[38;5;66;03m# A dictionary to rank IMF strength\u001b[39;00m\n\u001b[32m      7\u001b[39m IMF_STRENGTH = {\n\u001b[32m      8\u001b[39m     \u001b[33m\"\u001b[39m\u001b[33mLondon Dispersion Forces\u001b[39m\u001b[33m\"\u001b[39m: \u001b[32m1\u001b[39m,\n\u001b[32m      9\u001b[39m     \u001b[33m\"\u001b[39m\u001b[33mDipole-Dipole\u001b[39m\u001b[33m\"\u001b[39m: \u001b[32m2\u001b[39m,\n\u001b[32m     10\u001b[39m     \u001b[33m\"\u001b[39m\u001b[33mHydrogen Bonding\u001b[39m\u001b[33m\"\u001b[39m: \u001b[32m3\u001b[39m\n\u001b[32m     11\u001b[39m }\n",
      "\u001b[31mImportError\u001b[39m: cannot import name 'predict_molecular_properties' from 'molecular_structure' (/home/chris/repos/Kemi-26022/molecular_structure.py)"
     ]
    }
   ],
   "source": [
    "import intermolecular_forces as imf"
   ]
  },
  {
   "cell_type": "markdown",
   "id": "ac1f9e64",
   "metadata": {},
   "source": [
    "# Compounds by increasing boiling point"
   ]
  },
  {
   "cell_type": "code",
   "execution_count": null,
   "id": "cc42568d",
   "metadata": {},
   "outputs": [],
   "source": [
    "# --- Molecules to compare ---\n",
    "molecules = [\"N2\", \"CO2\", \"NH3\", \"HF\"]\n",
    "\n",
    "# --- Get the ranking ---\n",
    "ranking = imf.rank_by_boiling_point(molecules)\n",
    "\n",
    "print(\"The estimated order of increasing boiling point is:\")\n",
    "print(ranking)"
   ]
  }
 ],
 "metadata": {
  "kernelspec": {
   "display_name": "KEMI",
   "language": "python",
   "name": "python3"
  },
  "language_info": {
   "codemirror_mode": {
    "name": "ipython",
    "version": 3
   },
   "file_extension": ".py",
   "mimetype": "text/x-python",
   "name": "python",
   "nbconvert_exporter": "python",
   "pygments_lexer": "ipython3",
   "version": "3.13.5"
  }
 },
 "nbformat": 4,
 "nbformat_minor": 5
}
