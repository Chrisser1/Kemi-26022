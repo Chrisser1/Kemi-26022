{
 "cells": [
  {
   "cell_type": "code",
   "execution_count": 1,
   "id": "624b2cae",
   "metadata": {},
   "outputs": [],
   "source": [
    "from compound import *"
   ]
  },
  {
   "cell_type": "markdown",
   "id": "d986075f",
   "metadata": {},
   "source": [
    "# Calculations for a single molecule or compound"
   ]
  },
  {
   "cell_type": "code",
   "execution_count": 2,
   "id": "0d5e10af",
   "metadata": {},
   "outputs": [
    {
     "name": "stdout",
     "output_type": "stream",
     "text": [
      "Name:         Carbon dioxide\n",
      "Bond type(s): Polar covalent\n",
      "Formula:      CO2\n",
      "Molar mass:   44.0090 g/mol\n",
      "Atom count:   3 atoms/unit\n",
      "Total units:  5.42e+25 formula units (1.63e+26 atoms in total)\n",
      "Mass:         3960.8100 g\n",
      "Amount:       90.000000 mol\n"
     ]
    }
   ],
   "source": [
    "c = Compound(\"CO2\")\n",
    "c.set_moles(90)\n",
    "c.phase = \"g\"\n",
    "c.display()"
   ]
  },
  {
   "cell_type": "code",
   "execution_count": 3,
   "id": "9dcd7ecf",
   "metadata": {},
   "outputs": [
    {
     "data": {
      "text/plain": [
       "{'C': 33.333333333333336, 'O': 66.66666666666667}"
      ]
     },
     "execution_count": 3,
     "metadata": {},
     "output_type": "execute_result"
    }
   ],
   "source": [
    "c.element_mole_percent()\n"
   ]
  },
  {
   "cell_type": "code",
   "execution_count": 4,
   "id": "f6eee1cd",
   "metadata": {},
   "outputs": [
    {
     "data": {
      "text/plain": [
       "{'C': 12.011, 'O': 31.998, 'total': 44.009}"
      ]
     },
     "execution_count": 4,
     "metadata": {},
     "output_type": "execute_result"
    }
   ],
   "source": [
    "c.element_molar_contributions()"
   ]
  },
  {
   "cell_type": "code",
   "execution_count": 5,
   "id": "57ded718",
   "metadata": {},
   "outputs": [
    {
     "data": {
      "text/plain": [
       "{'C': 27.292144788565974, 'O': 72.70785521143402}"
      ]
     },
     "execution_count": 5,
     "metadata": {},
     "output_type": "execute_result"
    }
   ],
   "source": [
    "c.element_mass_percent()"
   ]
  },
  {
   "cell_type": "code",
   "execution_count": 6,
   "id": "b7d67507",
   "metadata": {},
   "outputs": [
    {
     "data": {
      "text/plain": [
       "{'C': 1080.99, 'O': 2879.82}"
      ]
     },
     "execution_count": 6,
     "metadata": {},
     "output_type": "execute_result"
    }
   ],
   "source": [
    "c.element_mass_contributions()"
   ]
  },
  {
   "cell_type": "code",
   "execution_count": 7,
   "id": "57227740",
   "metadata": {},
   "outputs": [
    {
     "data": {
      "text/plain": [
       "{'N': 2, 'O': 4}"
      ]
     },
     "execution_count": 7,
     "metadata": {},
     "output_type": "execute_result"
    }
   ],
   "source": [
    "c = Compound(\"NO2\")\n",
    "c.set_moles(2)\n",
    "# How many oxygen atoms are in 2 moles of NO2?\n",
    "elem_mols = c.element_moles()\n",
    "elem_mols"
   ]
  },
  {
   "cell_type": "code",
   "execution_count": 8,
   "id": "aac2e412",
   "metadata": {},
   "outputs": [
    {
     "name": "stdout",
     "output_type": "stream",
     "text": [
      "Name:         Oxygen (nonmetal)\n",
      "Bond type(s): Nonpolar covalent\n",
      "Formula:      O2\n",
      "Molar mass:   31.9980 g/mol\n",
      "Atom count:   2 atoms/unit\n",
      "Total units:  2.41e+24 formula units (4.82e+24 atoms in total)\n",
      "Mass:         127.9920 g\n",
      "Amount:       4.000000 mol\n"
     ]
    }
   ],
   "source": [
    "# We can no\n",
    "o = Compound(\"O2\")\n",
    "o.set_moles(elem_mols[\"O\"])\n",
    "o.display()"
   ]
  },
  {
   "cell_type": "code",
   "execution_count": 9,
   "id": "fed17ce1",
   "metadata": {},
   "outputs": [
    {
     "name": "stdout",
     "output_type": "stream",
     "text": [
      "Name:         Carbon dioxide\n",
      "Bond type(s): Polar covalent\n",
      "Formula:      CO2\n",
      "Molar mass:   44.0090 g/mol\n",
      "Atom count:   3 atoms/unit\n",
      "Total units:  6.14e+22 formula units (1.84e+23 atoms in total)\n",
      "Mass:         4.4870 g\n",
      "Amount:       0.101957 mol\n"
     ]
    }
   ],
   "source": [
    "co2 = Compound(\"CO2\")\n",
    "co2.set_molecules(6.14e+22)\n",
    "co2.display()"
   ]
  },
  {
   "cell_type": "markdown",
   "id": "49187755",
   "metadata": {},
   "source": [
    "From this we can see that the answer is 2.41e+24 oxygen atoms."
   ]
  },
  {
   "cell_type": "code",
   "execution_count": 10,
   "id": "5c844bb8",
   "metadata": {},
   "outputs": [],
   "source": [
    "from equations import ChemicalEquation"
   ]
  },
  {
   "cell_type": "code",
   "execution_count": 11,
   "id": "9b9345f9",
   "metadata": {},
   "outputs": [
    {
     "name": "stdout",
     "output_type": "stream",
     "text": [
      "Reaction type: Precipitation (Double Displacement)\n",
      "Molecular: 2KCl(aq) + Pb(NO3)2(aq) -> PbCl2(s) + 2KNO3(aq)\n",
      "Ionic:     2K(aq)^+ + 2Cl(aq)^- + 2NO3(aq)^- + Pb(aq)^2+ -> PbCl2(s) + 2NO3(aq)^- + 2K(aq)^+\n",
      "Net ionic: 2Cl(aq)^- + Pb(aq)^2+ -> Cl2Pb(s)\n"
     ]
    }
   ],
   "source": [
    "reactant1 = Compound(\"KCl\"); reactant1.phase = \"aq\"\n",
    "reactant2 = Compound(\"Pb(NO3)2\"); reactant2.phase = \"aq\"\n",
    "product1 = Compound(\"PbCl2\"); product1.phase = \"s\"\n",
    "product2 = Compound(\"KNO3\"); product2.phase = \"aq\"\n",
    "\n",
    "eq = ChemicalEquation(\n",
    "    reactants=[reactant1, reactant2],\n",
    "    products =[product1, product2]\n",
    ")\n",
    "\n",
    "print(eq)"
   ]
  },
  {
   "cell_type": "code",
   "execution_count": 28,
   "id": "b0811b47",
   "metadata": {},
   "outputs": [
    {
     "name": "stdout",
     "output_type": "stream",
     "text": [
      "Na3PO4: soluble\n",
      "AlCl3 : soluble\n",
      "CaCO3 : insoluble\n",
      "NaC2H3O2: soluble\n",
      "FeCl3 : soluble\n",
      "CaSO4 : insoluble\n",
      "AlPO4 : insoluble\n"
     ]
    }
   ],
   "source": [
    "from solubility import is_soluble\n",
    "\n",
    "for f in (\"Na3PO4\",\"AlCl3\",\"CaCO3\", \"NaC2H3O2\", \"FeCl3\", \"CaSO4\", \"AlPO4\"):\n",
    "    cmpd = Compound(f)\n",
    "    print(f\"{f:6}:\", \"soluble\" if is_soluble(cmpd) else \"insoluble\")"
   ]
  },
  {
   "cell_type": "code",
   "execution_count": 13,
   "id": "d3133883",
   "metadata": {},
   "outputs": [
    {
     "name": "stdout",
     "output_type": "stream",
     "text": [
      "Reaction type: Oxidation-Reduction\n",
      "Molecular: Fe(aq)^2+ + Ce(aq)^4+ -> Fe(aq)^3+ + Ce(aq)^3+\n",
      "Ionic:     Fe(aq)^2+ + Ce(aq)^4+ -> Fe(aq)^3+ + Ce(aq)^3+\n",
      "Net ionic: Fe(aq)^2+ + Ce(aq)^4+ -> Fe(aq)^3+ + Ce(aq)^3+\n"
     ]
    }
   ],
   "source": [
    "reactant1 = Compound(\"Fe\"); reactant1.phase = \"aq\"; reactant1.charge = 2\n",
    "reactant2 = Compound(\"Ce\"); reactant2.phase = \"aq\"; reactant2.charge = 4\n",
    "product1 = Compound(\"Fe\"); product1.phase = \"aq\"; product1.charge = 3\n",
    "product2 = Compound(\"Ce\"); product2.phase = \"aq\"; product2.charge = 3\n",
    "\n",
    "eq = ChemicalEquation(\n",
    "    reactants=[reactant1, reactant2],\n",
    "    products =[product1, product2]\n",
    ")\n",
    "\n",
    "print(eq)"
   ]
  },
  {
   "cell_type": "code",
   "execution_count": 14,
   "id": "ceab7d13",
   "metadata": {},
   "outputs": [
    {
     "name": "stdout",
     "output_type": "stream",
     "text": [
      "Reaction type: Precipitation (Double Displacement)\n",
      "Molecular: 2Fe(NO3)3(aq) + 3Ba(OH)2(aq) -> 2Fe(OH)3(s) + 6NO3^- + 3Ba^2+\n",
      "Ionic:     6NO3(aq)^- + 2Fe(aq)^3+ + 6OH(aq)^- + 3Ba(aq)^2+ -> 2Fe(OH)3(s) + 6NO3^- + 3Ba^2+\n",
      "Net ionic: 6NO3(aq)^- + 2Fe(aq)^3+ + 6HO(aq)^- + 3Ba(aq)^2+ -> 2H3FeO3(s) + 6NO3^- + 3Ba^2+\n"
     ]
    }
   ],
   "source": [
    "reactant1 = Compound(\"Fe(NO3)3\"); reactant1.phase = \"aq\"\n",
    "reactant2 = Compound(\"Ba(OH)2\"); reactant2.phase = \"aq\"\n",
    "product1 = Compound(\"Fe(OH)3\"); product1.phase = \"s\"\n",
    "product2 = Compound(\"NO3\"); product2.charge = -1\n",
    "product3 = Compound(\"Ba\"); product3.charge = 2\n",
    "\n",
    "eq = ChemicalEquation(\n",
    "    reactants=[reactant1, reactant2],\n",
    "    products =[product1, product2, product3]\n",
    ")\n",
    "\n",
    "print(eq)"
   ]
  },
  {
   "cell_type": "markdown",
   "id": "832077d7",
   "metadata": {},
   "source": [
    "# Solve complete chemical equations using the ChemicalEquation class\n",
    "![image.png](images/kemiske-reaktioner-question-3.png)"
   ]
  },
  {
   "cell_type": "code",
   "execution_count": 15,
   "id": "554b2cff",
   "metadata": {},
   "outputs": [
    {
     "name": "stdout",
     "output_type": "stream",
     "text": [
      "Reaction type: Double Displacement\n",
      "Molecular: 2C6H5COOH + 15O2 -> 14CO2 + 6H2O\n",
      "Ionic:     2C6H5COOH + 15O2 -> 14CO2 + 6H2O\n",
      "Net ionic: 2C7H6O2 + 15O2 -> 14CO2 + 6H2O\n"
     ]
    }
   ],
   "source": [
    "reactant1 = Compound(\"C6H5COOH\")\n",
    "reactant2 = Compound(\"O2\")\n",
    "product1 = Compound(\"CO2\")\n",
    "product2 = Compound(\"H2O\")\n",
    "\n",
    "eq = ChemicalEquation(\n",
    "    reactants=[reactant1, reactant2],\n",
    "    products =[product1, product2]\n",
    ")\n",
    "\n",
    "print(eq)"
   ]
  },
  {
   "cell_type": "markdown",
   "id": "f4ed1c86",
   "metadata": {},
   "source": [
    "# Theoretical yields example"
   ]
  },
  {
   "cell_type": "code",
   "execution_count": 16,
   "id": "f0cc555a",
   "metadata": {},
   "outputs": [
    {
     "name": "stdout",
     "output_type": "stream",
     "text": [
      "You need 1.122 g of KOH to prepare 200 mL of 0.1 M solution.\n",
      "\n",
      "Name:         Potassium(II) hydroxide\n",
      "Bond type(s): Ionic, Hydrogen-bond donor/acceptor\n",
      "Formula:      HKO\n",
      "Molar mass:   56.1049 g/mol\n",
      "Atom count:   3 atoms/unit\n",
      "Total units:  1.20e+22 formula units (3.61e+22 atoms in total)\n",
      "Mass:         1.1221 g\n",
      "Amount:       0.020000 mol\n"
     ]
    }
   ],
   "source": [
    "# Question: Make 200 mL of 0.1 M KOH. How many grams of KOH are needed?\n",
    "# Calculation: moles = concentration (mol/L) × volume (L)\n",
    "moles_needed = 0.1 * 0.2  # 0.1 M × 0.2 L = 0.02 mol\n",
    "\n",
    "c = Compound(\"KOH\")\n",
    "c.set_moles(moles_needed)\n",
    "\n",
    "print(f\"You need {c.mass_g:.3f} g of KOH to prepare 200 mL of 0.1 M solution.\\n\")\n",
    "c.display()"
   ]
  },
  {
   "cell_type": "code",
   "execution_count": 17,
   "id": "0cffeebd",
   "metadata": {},
   "outputs": [
    {
     "name": "stdout",
     "output_type": "stream",
     "text": [
      "AgCl precipitated: 1.433 g\n"
     ]
    }
   ],
   "source": [
    "# 100 mL of 1 M AgNO₃ gives 0.100 mol Ag⁺\n",
    "a1 = Compound(\"AgNO3\"); a1.phase=\"aq\"; a1.set_moles(1.0*0.100)\n",
    "#  5 mL of 2 M HCl gives 0.010 mol Cl⁻\n",
    "a2 = Compound(\"HCl\");   a2.phase=\"aq\"; a2.set_moles(2.0*0.005)\n",
    "\n",
    "eq = ChemicalEquation(\n",
    "  reactants=[a1, a2],\n",
    "  products=[Compound(\"AgCl\"), Compound(\"HNO3\")]\n",
    ")\n",
    "# mark phases properly\n",
    "eq.products[0].phase=\"s\"\n",
    "eq.products[1].phase=\"aq\"\n",
    "\n",
    "limiting, yields = eq.theoretical_yield({a1: a1.amount_mol, a2: a2.amount_mol})\n",
    "precip_mol, precip_g = yields[eq.products[0]]\n",
    "print(f\"AgCl precipitated: {precip_g:.3f} g\")"
   ]
  },
  {
   "cell_type": "code",
   "execution_count": 18,
   "id": "58d08c6c",
   "metadata": {},
   "outputs": [
    {
     "name": "stdout",
     "output_type": "stream",
     "text": [
      "NH3 precipitated: 2.816 g\n"
     ]
    }
   ],
   "source": [
    "# 6 g of 1 M kvælstofgas og 0.5 g brintgas blandes i en lukket beholder på 1 liter.\n",
    "a1 = Compound(\"N2\"); a1.phase=\"g\"; a1.set_mass(6)\n",
    "a2 = Compound(\"H2\");   a2.phase=\"g\"; a2.set_mass(0.5)\n",
    "\n",
    "eq = ChemicalEquation(\n",
    "  reactants=[a1, a2],\n",
    "  products=[Compound(\"NH3\")]\n",
    ")\n",
    "# mark phases properly\n",
    "eq.products[0].phase=\"g\"\n",
    "\n",
    "limiting, yields = eq.theoretical_yield({a1: a1.amount_mol, a2: a2.amount_mol})\n",
    "precip_mol, precip_g = yields[eq.products[0]]\n",
    "print(f\"NH3 precipitated: {precip_g:.3f} g\")"
   ]
  },
  {
   "cell_type": "code",
   "execution_count": 19,
   "id": "b0c41311",
   "metadata": {},
   "outputs": [
    {
     "name": "stdout",
     "output_type": "stream",
     "text": [
      "Annual CO₂ emission: 3005.1 kg\n"
     ]
    }
   ],
   "source": [
    "# 1) Figure out how much octane you burn per year:\n",
    "km_per_year = 15_000       # km\n",
    "efficiency  = 14.0         # km per L\n",
    "density     = 0.91         # kg per L\n",
    "\n",
    "liters_octane = km_per_year / efficiency         # ≈ 1071.43 L\n",
    "mass_octane   = liters_octane * density * 1000   # in grams\n",
    "\n",
    "# 2) Build your Compound objects:\n",
    "octane = Compound(\"C8H18\");  octane.phase = \"l\";  octane.set_mass(mass_octane)\n",
    "o2     = Compound(\"O2\");     o2.phase     = \"g\"\n",
    "co2    = Compound(\"CO2\");    co2.phase    = \"g\"\n",
    "h2o    = Compound(\"H2O\");    h2o.phase    = \"g\"\n",
    "\n",
    "# 3) Set up & balance the combustion equation:\n",
    "eq = ChemicalEquation(\n",
    "    reactants=[octane, o2],\n",
    "    products =[co2, h2o]\n",
    ")\n",
    "\n",
    "# 4) Compute theoretical yield, giving octane in moles\n",
    "limiting, yields = eq.theoretical_yield({ octane: octane.amount_mol }, given_in_mass=False)\n",
    "\n",
    "co2_mol, co2_g = yields[co2]\n",
    "print(f\"Annual CO₂ emission: {co2_g/1000:.1f} kg\")"
   ]
  },
  {
   "cell_type": "code",
   "execution_count": 20,
   "id": "13cc5219",
   "metadata": {},
   "outputs": [
    {
     "name": "stdout",
     "output_type": "stream",
     "text": [
      "Produced PCl5: 1915.661 g and 9.200 mol\n"
     ]
    }
   ],
   "source": [
    "p = Compound(\"P\"); p.phase = \"s\"\n",
    "cl = Compound(\"Cl2\"); cl.phase = \"g\"\n",
    "pcl = Compound(\"PCl5\"); pcl.phase = \"g\"\n",
    "\n",
    "cl.set_moles(23)\n",
    "\n",
    "eq = ChemicalEquation(\n",
    "    reactants=[p, cl],\n",
    "    products =[pcl]\n",
    ")\n",
    "\n",
    "limiting, yields = eq.theoretical_yield({cl: cl.amount_mol}, given_in_mass=False)\n",
    "\n",
    "pcl_mol, pcl_g = yields[pcl]\n",
    "print(f\"Produced PCl5: {pcl_g:.3f} g and {pcl_mol:.3f} mol\")\n"
   ]
  },
  {
   "cell_type": "code",
   "execution_count": 21,
   "id": "24f89450",
   "metadata": {},
   "outputs": [
    {
     "name": "stdout",
     "output_type": "stream",
     "text": [
      "5.67 mol P2O5\n"
     ]
    }
   ],
   "source": [
    "p2o5  = Compound(\"P2O5\");  p2o5.phase = \"s\"\n",
    "h2o   = Compound(\"H2O\");   h2o.phase  = \"l\"\n",
    "h3po4 = Compound(\"H3PO4\"); h3po4.phase = \"aq\"\n",
    "\n",
    "eq = ChemicalEquation(\n",
    "    reactants=[p2o5, h2o],\n",
    "    products =[h3po4]\n",
    ")\n",
    "\n",
    "r_coeffs, p_coeff = eq.balance()\n",
    "\n",
    "given_h2o = 17 # mol\n",
    "#  reaction “units” = mol H2O / its coefficient (3)\n",
    "rxn_units = given_h2o / r_coeffs[1]\n",
    "#  mol P2O5 needed = reaction units × its coefficient (1)\n",
    "needed_p2o5 = rxn_units * r_coeffs[0]\n",
    "\n",
    "print(f\"{needed_p2o5:.2f} mol P2O5\")"
   ]
  },
  {
   "cell_type": "code",
   "execution_count": 22,
   "id": "e6a630c0",
   "metadata": {},
   "outputs": [
    {
     "name": "stdout",
     "output_type": "stream",
     "text": [
      "Name:         Potassium(IV) carbonate\n",
      "Bond type(s): Ionic\n",
      "Formula:      CK2O3\n",
      "Molar mass:   138.2040 g/mol\n",
      "Atom count:   6 atoms/unit\n",
      "Total units:  2.41e+23 formula units (1.45e+24 atoms in total)\n",
      "Mass:         55.2816 g\n",
      "Amount:       0.400000 mol\n"
     ]
    }
   ],
   "source": [
    "k2co3 = Compound(\"K2CO3\"); k2co3.set_moles(0.4)\n",
    "co2 = Compound(\"CO2\"); co2.set_moles(0.51)\n",
    "h2o = Compound(\"H2O\"); h2o.set_moles(3.15)\n",
    "khco3 = Compound(\"KHCO3\")\n",
    "\n",
    "eq = ChemicalEquation(\n",
    "    reactants=[k2co3, co2, h2o],\n",
    "    products =[khco3]\n",
    ")\n",
    "\n",
    "limiting, yields = eq.theoretical_yield({k2co3: k2co3.amount_mol, co2: co2.amount_mol, h2o: h2o.amount_mol}, given_in_mass=False)\n",
    "\n",
    "limiting.display()\n"
   ]
  },
  {
   "cell_type": "code",
   "execution_count": 23,
   "id": "65a1d11d",
   "metadata": {},
   "outputs": [
    {
     "name": "stdout",
     "output_type": "stream",
     "text": [
      "Name:         Magnesium(II) Chloride\n",
      "Bond type(s): Ionic\n",
      "Formula:      Cl2Mg\n",
      "Molar mass:   95.2050 g/mol\n",
      "Atom count:   3 atoms/unit\n",
      "Total units:  1.14e+24 formula units (3.42e+24 atoms in total)\n",
      "Mass:         180.0000 g\n",
      "Amount:       1.890657 mol\n"
     ]
    }
   ],
   "source": [
    "mgcl2 = Compound(\"MgCl2\"); mgcl2.phase = \"aq\"; mgcl2.set_mass(180.0)\n",
    "mgcl2.display()\n"
   ]
  },
  {
   "cell_type": "code",
   "execution_count": 24,
   "id": "f221f35b",
   "metadata": {},
   "outputs": [
    {
     "name": "stdout",
     "output_type": "stream",
     "text": [
      "You need 2.909 L of MgCl2 solution to have 0.65 mol of MgCl2.\n",
      "\n"
     ]
    }
   ],
   "source": [
    "# We can now use the moles to calculate how mouch solution in liters we need to have 0.65 mol of MgCl2\n",
    "moles_needed = 0.65\n",
    "liters_needed = mgcl2.amount_mol / moles_needed\n",
    "print(f\"You need {liters_needed:.3f} L of MgCl2 solution to have 0.65 mol of MgCl2.\\n\")"
   ]
  },
  {
   "cell_type": "code",
   "execution_count": 25,
   "id": "bdc23c54",
   "metadata": {},
   "outputs": [
    {
     "data": {
      "text/plain": [
       "{<Compound formula=H2, phase='g'>: (1.75, 3.52765),\n",
       " <Compound formula=Cl2Mg, phase='aq'>: (1.75, 166.60875000000001)}"
      ]
     },
     "execution_count": 25,
     "metadata": {},
     "output_type": "execute_result"
    }
   ],
   "source": [
    "mg = Compound(\"Mg\"); mg.phase = \"s\"; mg.set_moles(2)\n",
    "hcl = Compound(\"HCl\"); hcl.phase = \"aq\"; hcl.set_moles(3.5)\n",
    "h2 = Compound(\"H2\"); h2.phase = \"g\"\n",
    "mgcl2 = Compound(\"MgCl2\"); mgcl2.phase = \"aq\"\n",
    "\n",
    "eq = ChemicalEquation(\n",
    "    reactants=[mg, hcl],\n",
    "    products =[h2, mgcl2]\n",
    ")\n",
    "\n",
    "limiting, yields = eq.theoretical_yield({mg: mg.amount_mol, hcl: hcl.amount_mol}, given_in_mass=False)\n",
    "\n",
    "yields\n"
   ]
  },
  {
   "cell_type": "code",
   "execution_count": 26,
   "id": "3c47fba0",
   "metadata": {},
   "outputs": [
    {
     "name": "stdout",
     "output_type": "stream",
     "text": [
      "Percent yield of H2: 96.10%\n"
     ]
    }
   ],
   "source": [
    "# The theoretical yield of H2 is the 3.52765 we see, so now we need to compare it to the actual yield.\n",
    "actual_yield = 3.39  # g\n",
    "theoretical_yield = yields[h2][1]  # in g\n",
    "\n",
    "percent_yield = (actual_yield / theoretical_yield) * 100\n",
    "print(f\"Percent yield of H2: {percent_yield:.2f}%\")"
   ]
  },
  {
   "cell_type": "markdown",
   "id": "c120469d",
   "metadata": {},
   "source": [
    "# Theoretical yelds example\n",
    "![image.png](images/kemiske-reaktioner-question-1.png)"
   ]
  },
  {
   "cell_type": "code",
   "execution_count": 27,
   "id": "65ebb768",
   "metadata": {},
   "outputs": [
    {
     "name": "stdout",
     "output_type": "stream",
     "text": [
      "Limiting reagent: Aluminium (post-transition metal)\n",
      "Aluminium(III) oxide: 0.1853 mol, 18.89 g\n"
     ]
    }
   ],
   "source": [
    "reactant1 = Compound(\"Al\")\n",
    "reactant1.set_mass(10)\n",
    "\n",
    "reactant2 = Compound(\"O2\")\n",
    "reactant2.set_mass(19)\n",
    "\n",
    "product1 = Compound(\"Al2O3\")\n",
    "\n",
    "eq = ChemicalEquation(\n",
    "    reactants=[reactant1, reactant2],\n",
    "    products=[product1]\n",
    ")\n",
    "\n",
    "limiting, yields = eq.theoretical_yield({\n",
    "    reactant1: reactant1.amount_mol,\n",
    "    reactant2: reactant2.amount_mol\n",
    "})\n",
    "\n",
    "print(f\"Limiting reagent: {limiting.name()}\")\n",
    "for p, (mol, g) in yields.items():\n",
    "    print(f\"{p.name()}: {mol:.4f} mol, {g:.2f} g\")\n"
   ]
  },
  {
   "cell_type": "markdown",
   "id": "3f46c43f",
   "metadata": {},
   "source": [
    "# Solubility problems example\n",
    "Key Solubility Rules\n",
    "\n",
    "* All nitrates (NO₃⁻) are soluble.\n",
    "* All alkali-metal cation salts (Li⁺, Na⁺, K⁺, etc.) are soluble.\n",
    "*  All chlorides, bromides and iodides are soluble except when paired with Ag⁺, Pb²⁺ or Hg₂²⁺.\n",
    "*  All sulfides (S²⁻) are insoluble except with alkali metals (Group 1) or NH₄⁺.\n",
    "*  All sulfates (SO₄²⁻) are soluble except with Ba²⁺, Sr²⁺, Pb²⁺, Ca²⁺.\n",
    "*  Hydroxides (OH⁻) are insoluble except with Group 1 and Ba²⁺ (moderately soluble)."
   ]
  }
 ],
 "metadata": {
  "kernelspec": {
   "display_name": "KEMI",
   "language": "python",
   "name": "python3"
  },
  "language_info": {
   "codemirror_mode": {
    "name": "ipython",
    "version": 3
   },
   "file_extension": ".py",
   "mimetype": "text/x-python",
   "name": "python",
   "nbconvert_exporter": "python",
   "pygments_lexer": "ipython3",
   "version": "3.13.5"
  }
 },
 "nbformat": 4,
 "nbformat_minor": 5
}
