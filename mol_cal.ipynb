{
 "cells": [
  {
   "cell_type": "code",
   "execution_count": 1,
   "id": "624b2cae",
   "metadata": {},
   "outputs": [],
   "source": [
    "from compound import *"
   ]
  },
  {
   "cell_type": "code",
   "execution_count": 2,
   "id": "0d5e10af",
   "metadata": {},
   "outputs": [],
   "source": [
    "c = Compound(\"HF\")\n",
    "c.set_moles(2)"
   ]
  },
  {
   "cell_type": "code",
   "execution_count": 3,
   "id": "9dcd7ecf",
   "metadata": {},
   "outputs": [
    {
     "data": {
      "text/plain": [
       "{'H': 50.0, 'F': 50.0}"
      ]
     },
     "execution_count": 3,
     "metadata": {},
     "output_type": "execute_result"
    }
   ],
   "source": [
    "c.element_mole_percent()\n"
   ]
  },
  {
   "cell_type": "code",
   "execution_count": 4,
   "id": "f6eee1cd",
   "metadata": {},
   "outputs": [
    {
     "data": {
      "text/plain": [
       "{'H': 1.0079, 'F': 18.998, 'total': 20.0059}"
      ]
     },
     "execution_count": 4,
     "metadata": {},
     "output_type": "execute_result"
    }
   ],
   "source": [
    "c.element_molar_contributions()"
   ]
  },
  {
   "cell_type": "code",
   "execution_count": 5,
   "id": "57ded718",
   "metadata": {},
   "outputs": [
    {
     "data": {
      "text/plain": [
       "{'H': 5.03801378593315, 'F': 94.96198621406685}"
      ]
     },
     "execution_count": 5,
     "metadata": {},
     "output_type": "execute_result"
    }
   ],
   "source": [
    "c.element_mass_percent()"
   ]
  },
  {
   "cell_type": "code",
   "execution_count": 6,
   "id": "b7d67507",
   "metadata": {},
   "outputs": [
    {
     "data": {
      "text/plain": [
       "{'H': 2.0158, 'F': 37.996}"
      ]
     },
     "execution_count": 6,
     "metadata": {},
     "output_type": "execute_result"
    }
   ],
   "source": [
    "c.element_mass_contributions()"
   ]
  },
  {
   "cell_type": "code",
   "execution_count": 7,
   "id": "43aef575",
   "metadata": {},
   "outputs": [
    {
     "name": "stdout",
     "output_type": "stream",
     "text": [
      "Name:         Hydrogen monofluoride\n",
      "Bond type(s): Polar covalent, Hydrogen-bond donor/acceptor\n",
      "Formula:      HF\n",
      "Molar mass:   20.0059 g/mol\n",
      "Atom count:   2 atoms/unit\n",
      "Total units:  1.20e+24 formula units (2.41e+24 atoms in total)\n",
      "Mass:         40.0118 g\n",
      "Amount:       2.000000 mol\n"
     ]
    }
   ],
   "source": [
    "c.display()"
   ]
  },
  {
   "cell_type": "code",
   "execution_count": 8,
   "id": "5c844bb8",
   "metadata": {},
   "outputs": [],
   "source": [
    "from equations import ChemicalEquation"
   ]
  },
  {
   "cell_type": "code",
   "execution_count": 9,
   "id": "9b9345f9",
   "metadata": {},
   "outputs": [
    {
     "name": "stdout",
     "output_type": "stream",
     "text": [
      "Reaction type: Precipitation (Double Displacement)\n",
      "Molecular: Pb(NO3)2(aq) + 2NaI(aq) -> PbI2(s) + 2NaNO3(aq)\n",
      "Ionic:     2NO3(aq)^- + Pb(aq)^2+ + 2Na(aq)^+ + 2I(aq)^- -> PbI2(s) + 2NO3(aq)^- + 2Na(aq)^+\n",
      "Net ionic: Pb(aq)^2+ + 2I(aq)^- -> I2Pb(s)\n"
     ]
    }
   ],
   "source": [
    "reactant1 = Compound(\"Pb(NO3)2\"); reactant1.phase = \"aq\"\n",
    "reactant2 = Compound(\"NaI\"); reactant2.phase = \"aq\"\n",
    "product1 = Compound(\"PbI2\"); product1.phase = \"s\"\n",
    "product2 = Compound(\"NaNO3\"); product2.phase = \"aq\"\n",
    "\n",
    "eq = ChemicalEquation(\n",
    "    reactants=[reactant1, reactant2],\n",
    "    products =[product1, product2]\n",
    ")\n",
    "\n",
    "print(eq)"
   ]
  },
  {
   "cell_type": "code",
   "execution_count": 10,
   "id": "b0811b47",
   "metadata": {},
   "outputs": [
    {
     "name": "stdout",
     "output_type": "stream",
     "text": [
      "Na3PO4: soluble\n",
      "AlCl3 : soluble\n",
      "CaCO3 : insoluble\n",
      "NaC2H3O2: soluble\n",
      "FeCl3 : soluble\n",
      "CaSO4 : insoluble\n",
      "AlPO4 : insoluble\n"
     ]
    }
   ],
   "source": [
    "from solubility import is_soluble\n",
    "\n",
    "for f in (\"Na3PO4\",\"AlCl3\",\"CaCO3\", \"NaC2H3O2\", \"FeCl3\", \"CaSO4\", \"AlPO4\"):\n",
    "    cmpd = Compound(f)\n",
    "    print(f\"{f:6}:\", \"soluble\" if is_soluble(cmpd) else \"insoluble\")"
   ]
  },
  {
   "cell_type": "code",
   "execution_count": 11,
   "id": "d3133883",
   "metadata": {},
   "outputs": [
    {
     "name": "stdout",
     "output_type": "stream",
     "text": [
      "Reaction type: Oxidation-Reduction\n",
      "Molecular: Fe(aq)^2+ + 0Ce(aq)^4+ -> Fe(aq)^3+ + 0Ce(aq)^3+\n",
      "Ionic:     Fe(aq)^2+ -> Fe(aq)^3+\n",
      "Net ionic: Fe(aq)^2+ -> Fe(aq)^3+\n"
     ]
    }
   ],
   "source": [
    "reactant1 = Compound(\"Fe\"); reactant1.phase = \"aq\"; reactant1.charge = 2\n",
    "reactant2 = Compound(\"Ce\"); reactant2.phase = \"aq\"; reactant2.charge = 4\n",
    "product1 = Compound(\"Fe\"); product1.phase = \"aq\"; product1.charge = 3\n",
    "product2 = Compound(\"Ce\"); product2.phase = \"aq\"; product2.charge = 3\n",
    "\n",
    "eq = ChemicalEquation(\n",
    "    reactants=[reactant1, reactant2],\n",
    "    products =[product1, product2]\n",
    ")\n",
    "\n",
    "print(eq)"
   ]
  },
  {
   "cell_type": "code",
   "execution_count": 12,
   "id": "ceab7d13",
   "metadata": {},
   "outputs": [
    {
     "name": "stdout",
     "output_type": "stream",
     "text": [
      "Reaction type: Precipitation (Double Displacement)\n",
      "Molecular: 2Fe(NO3)3(aq) + 3Ba(OH)2(aq) -> 2Fe(OH)3(s) + 6NO3^- + 3Ba^2+\n",
      "Ionic:     6NO3(aq)^- + 2Fe(aq)^3+ + 6OH(aq)^- + 3Ba(aq)^2+ -> 2Fe(OH)3(s) + 6NO3^- + 3Ba^2+\n",
      "Net ionic: 6NO3(aq)^- + 2Fe(aq)^3+ + 6HO(aq)^- + 3Ba(aq)^2+ -> 2H3FeO3(s) + 6NO3^- + 3Ba^2+\n"
     ]
    }
   ],
   "source": [
    "reactant1 = Compound(\"Fe(NO3)3\"); reactant1.phase = \"aq\"\n",
    "reactant2 = Compound(\"Ba(OH)2\"); reactant2.phase = \"aq\"\n",
    "product1 = Compound(\"Fe(OH)3\"); product1.phase = \"s\"\n",
    "product2 = Compound(\"NO3\"); product2.charge = -1\n",
    "product3 = Compound(\"Ba\"); product3.charge = 2\n",
    "\n",
    "eq = ChemicalEquation(\n",
    "    reactants=[reactant1, reactant2],\n",
    "    products =[product1, product2, product3]\n",
    ")\n",
    "\n",
    "print(eq)"
   ]
  },
  {
   "cell_type": "code",
   "execution_count": 13,
   "id": "554b2cff",
   "metadata": {},
   "outputs": [
    {
     "name": "stdout",
     "output_type": "stream",
     "text": [
      "Reaction type: Syre‐base‐reaktion\n",
      "Molecular: Ba(OH)2(aq) + 2HNO3(aq) -> Ba(aq)^2+ + 2NO3(aq)^- + 2H2O(l)\n",
      "Ionic:     2OH(aq)^- + Ba(aq)^2+ + 2NO3(aq)^- + 2H(aq)^+ -> Ba(aq)^2+ + 2NO3(aq)^- + 2H2O(l)\n",
      "Net ionic: 2HO(aq)^- + 2H(aq)^+ -> 2H2O(l)\n",
      "[('Ba(OH)2', 'aq', None), ('HNO3', 'aq', None)]\n"
     ]
    }
   ],
   "source": [
    "reactant1 = Compound(\"Ba(OH)2\"); reactant1.phase = \"aq\"\n",
    "reactant2 = Compound(\"HNO3\"); reactant2.phase = \"aq\"\n",
    "product1 = Compound(\"Ba\"); product1.phase = \"aq\"; product1.charge = 2\n",
    "product2 = Compound(\"NO3\"); product2.phase = \"aq\"; product2.charge = -1\n",
    "product3 = Compound(\"H2O\"); product3.phase = \"l\"\n",
    "\n",
    "eq = ChemicalEquation(\n",
    "    reactants=[reactant1, reactant2],\n",
    "    products =[product1, product2, product3]\n",
    ")\n",
    "\n",
    "print(eq)\n",
    "print([ (c.input_formula, c.phase, c.charge) for c in eq.reactants ])"
   ]
  },
  {
   "cell_type": "code",
   "execution_count": 14,
   "id": "f0cc555a",
   "metadata": {},
   "outputs": [
    {
     "name": "stdout",
     "output_type": "stream",
     "text": [
      "You need 1.122 g of KOH to prepare 200 mL of 0.1 M solution.\n",
      "\n",
      "Name:         Potassium(II) hydroxide\n",
      "Bond type(s): Ionic, Hydrogen-bond donor/acceptor\n",
      "Formula:      HKO\n",
      "Molar mass:   56.1049 g/mol\n",
      "Atom count:   3 atoms/unit\n",
      "Total units:  1.20e+22 formula units (3.61e+22 atoms in total)\n",
      "Mass:         1.1221 g\n",
      "Amount:       0.020000 mol\n"
     ]
    }
   ],
   "source": [
    "# Question: Make 200 mL of 0.1 M KOH. How many grams of KOH are needed?\n",
    "# Calculation: moles = concentration (mol/L) × volume (L)\n",
    "moles_needed = 0.1 * 0.2  # 0.1 M × 0.2 L = 0.02 mol\n",
    "\n",
    "c = Compound(\"KOH\")\n",
    "c.set_moles(moles_needed)\n",
    "\n",
    "print(f\"You need {c.mass_g:.3f} g of KOH to prepare 200 mL of 0.1 M solution.\\n\")\n",
    "c.display()"
   ]
  },
  {
   "cell_type": "code",
   "execution_count": 15,
   "id": "0cffeebd",
   "metadata": {},
   "outputs": [
    {
     "name": "stdout",
     "output_type": "stream",
     "text": [
      "AgCl precipitated: 1.433 g\n"
     ]
    }
   ],
   "source": [
    "# 100 mL of 1 M AgNO₃ gives 0.100 mol Ag⁺\n",
    "a1 = Compound(\"AgNO3\"); a1.phase=\"aq\"; a1.set_moles(1.0*0.100)\n",
    "#  5 mL of 2 M HCl gives 0.010 mol Cl⁻\n",
    "a2 = Compound(\"HCl\");   a2.phase=\"aq\"; a2.set_moles(2.0*0.005)\n",
    "\n",
    "eq = ChemicalEquation(\n",
    "  reactants=[a1, a2],\n",
    "  products=[Compound(\"AgCl\"), Compound(\"HNO3\")]\n",
    ")\n",
    "# mark phases properly\n",
    "eq.products[0].phase=\"s\"\n",
    "eq.products[1].phase=\"aq\"\n",
    "\n",
    "yields = eq.theoretical_yield({a1: a1.amount_mol, a2: a2.amount_mol})\n",
    "precip_mol, precip_g = yields[eq.products[0]]\n",
    "print(f\"AgCl precipitated: {precip_g:.3f} g\")"
   ]
  },
  {
   "cell_type": "code",
   "execution_count": 16,
   "id": "0e508280",
   "metadata": {},
   "outputs": [
    {
     "name": "stdout",
     "output_type": "stream",
     "text": [
      "AgCl precipitated: 1.433 g\n"
     ]
    }
   ],
   "source": [
    "# 100 mL of 1 M AgNO₃ gives 0.100 mol Ag⁺\n",
    "a1 = Compound(\"Ag\"); a1.phase=\"aq\"; a1.set_moles(1.0*0.100); a1.charge = 1\n",
    "#  5 mL of 2 M HCl gives 0.010 mol Cl⁻\n",
    "a2 = Compound(\"Cl\");   a2.phase=\"aq\"; a2.set_moles(2.0*0.005); a2.charge = -1\n",
    "\n",
    "eq = ChemicalEquation(\n",
    "  reactants=[a1, a2],\n",
    "  products=[Compound(\"AgCl\")]\n",
    ")\n",
    "# mark phases properly\n",
    "eq.products[0].phase=\"s\"\n",
    "\n",
    "yields = eq.theoretical_yield({a1: a1.amount_mol, a2: a2.amount_mol})\n",
    "precip_mol, precip_g = yields[eq.products[0]]\n",
    "print(f\"AgCl precipitated: {precip_g:.3f} g\")"
   ]
  },
  {
   "cell_type": "code",
   "execution_count": 17,
   "id": "58d08c6c",
   "metadata": {},
   "outputs": [
    {
     "name": "stdout",
     "output_type": "stream",
     "text": [
      "NH3 precipitated: 2.816 g\n"
     ]
    }
   ],
   "source": [
    "# 6 g of 1 M kvælstofgas og 0.5 g brintgas blandes i en lukket beholder på 1 liter.\n",
    "a1 = Compound(\"N2\"); a1.phase=\"g\"; a1.set_mass(6)\n",
    "a2 = Compound(\"H2\");   a2.phase=\"g\"; a2.set_mass(0.5)\n",
    "\n",
    "eq = ChemicalEquation(\n",
    "  reactants=[a1, a2],\n",
    "  products=[Compound(\"NH3\")]\n",
    ")\n",
    "# mark phases properly\n",
    "eq.products[0].phase=\"g\"\n",
    "\n",
    "yields = eq.theoretical_yield({a1: a1.amount_mol, a2: a2.amount_mol})\n",
    "precip_mol, precip_g = yields[eq.products[0]]\n",
    "print(f\"NH3 precipitated: {precip_g:.3f} g\")"
   ]
  },
  {
   "cell_type": "code",
   "execution_count": 18,
   "id": "b0c41311",
   "metadata": {},
   "outputs": [
    {
     "name": "stdout",
     "output_type": "stream",
     "text": [
      "Annual CO₂ emission: 3005.1 kg\n"
     ]
    }
   ],
   "source": [
    "# 1) Figure out how much octane you burn per year:\n",
    "km_per_year = 15_000       # km\n",
    "efficiency  = 14.0         # km per L\n",
    "density     = 0.91         # kg per L\n",
    "\n",
    "liters_octane = km_per_year / efficiency         # ≈ 1071.43 L\n",
    "mass_octane   = liters_octane * density * 1000   # in grams\n",
    "\n",
    "# 2) Build your Compound objects:\n",
    "octane = Compound(\"C8H18\");  octane.phase = \"l\";  octane.set_mass(mass_octane)\n",
    "o2     = Compound(\"O2\");     o2.phase     = \"g\"\n",
    "co2    = Compound(\"CO2\");    co2.phase    = \"g\"\n",
    "h2o    = Compound(\"H2O\");    h2o.phase    = \"g\"\n",
    "\n",
    "# 3) Set up & balance the combustion equation:\n",
    "eq = ChemicalEquation(\n",
    "    reactants=[octane, o2],\n",
    "    products =[co2, h2o]\n",
    ")\n",
    "\n",
    "# 4) Compute theoretical yield, giving octane in moles\n",
    "yields = eq.theoretical_yield({ octane: octane.amount_mol }, given_in_mass=False)\n",
    "\n",
    "co2_mol, co2_g = yields[co2]\n",
    "print(f\"Annual CO₂ emission: {co2_g/1000:.1f} kg\")"
   ]
  },
  {
   "cell_type": "code",
   "execution_count": 24,
   "id": "d145e17b",
   "metadata": {},
   "outputs": [
    {
     "name": "stdout",
     "output_type": "stream",
     "text": [
      "Name:         Sodium(II) oxide\n",
      "Bond type(s): Ionic\n",
      "Formula:      Na2O2\n",
      "Molar mass:   77.9780 g/mol\n",
      "Atom count:   4 atoms/unit\n"
     ]
    }
   ],
   "source": [
    "c = Compound(\"Na2O2\")\n",
    "c.display()"
   ]
  },
  {
   "cell_type": "code",
   "execution_count": null,
   "id": "65ebb768",
   "metadata": {},
   "outputs": [],
   "source": []
  }
 ],
 "metadata": {
  "kernelspec": {
   "display_name": "Python 3",
   "language": "python",
   "name": "python3"
  },
  "language_info": {
   "codemirror_mode": {
    "name": "ipython",
    "version": 3
   },
   "file_extension": ".py",
   "mimetype": "text/x-python",
   "name": "python",
   "nbconvert_exporter": "python",
   "pygments_lexer": "ipython3",
   "version": "3.11.10"
  }
 },
 "nbformat": 4,
 "nbformat_minor": 5
}
