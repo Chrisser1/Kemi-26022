{
 "cells": [
  {
   "cell_type": "code",
   "execution_count": 24,
   "id": "624b2cae",
   "metadata": {},
   "outputs": [],
   "source": [
    "from element import *"
   ]
  },
  {
   "cell_type": "code",
   "execution_count": 34,
   "id": "0d5e10af",
   "metadata": {},
   "outputs": [
    {
     "name": "stdout",
     "output_type": "stream",
     "text": [
      "Name:         Nitrogen(III) acetate\n",
      "Formula:      C10H20N2O3\n",
      "Molar mass:   216.3200 g/mol\n",
      "Atom count:   35 atoms/unit\n",
      "Total units:  1.20e+24 formula units (4.21e+25 atoms in total)\n",
      "Mass:         432.5000 g\n",
      "Amount:       1.999353 mol\n"
     ]
    }
   ],
   "source": [
    "compound = Compound(\"C10H20O3N2\")\n",
    "compound.set_mass(432.50)\n",
    "\n",
    "# Get the moles of each element in the compound*\n",
    "compound.display()"
   ]
  },
  {
   "cell_type": "code",
   "execution_count": 26,
   "id": "9dcd7ecf",
   "metadata": {},
   "outputs": [
    {
     "data": {
      "text/plain": [
       "{'Ca': 22.727272727272727,\n",
       " 'P': 13.636363636363637,\n",
       " 'O': 59.09090909090909,\n",
       " 'H': 4.545454545454546}"
      ]
     },
     "execution_count": 26,
     "metadata": {},
     "output_type": "execute_result"
    }
   ],
   "source": [
    "compound.element_mole_percent()"
   ]
  },
  {
   "cell_type": "code",
   "execution_count": 27,
   "id": "f6eee1cd",
   "metadata": {},
   "outputs": [
    {
     "data": {
      "text/plain": [
       "{'Ca': 200.39999999999998,\n",
       " 'P': 92.91,\n",
       " 'O': 208.0,\n",
       " 'H': 1.01,\n",
       " 'total': 502.31999999999994}"
      ]
     },
     "execution_count": 27,
     "metadata": {},
     "output_type": "execute_result"
    }
   ],
   "source": [
    "compound.element_molar_contributions()"
   ]
  },
  {
   "cell_type": "code",
   "execution_count": 28,
   "id": "57ded718",
   "metadata": {},
   "outputs": [
    {
     "data": {
      "text/plain": [
       "{'Ca': 39.89488772097467,\n",
       " 'P': 18.496177735308173,\n",
       " 'O': 41.407867494824025,\n",
       " 'H': 0.2010670488931359}"
      ]
     },
     "execution_count": 28,
     "metadata": {},
     "output_type": "execute_result"
    }
   ],
   "source": [
    "compound.element_mass_percent()"
   ]
  },
  {
   "cell_type": "code",
   "execution_count": 29,
   "id": "b7d67507",
   "metadata": {},
   "outputs": [
    {
     "data": {
      "text/plain": [
       "{'Ca': 0.39894887720974676,\n",
       " 'P': 0.18496177735308172,\n",
       " 'O': 0.41407867494824024,\n",
       " 'H': 0.002010670488931359}"
      ]
     },
     "execution_count": 29,
     "metadata": {},
     "output_type": "execute_result"
    }
   ],
   "source": [
    "compound.element_mass_contributions()"
   ]
  },
  {
   "cell_type": "code",
   "execution_count": 30,
   "id": "43aef575",
   "metadata": {},
   "outputs": [
    {
     "ename": "NotImplementedError",
     "evalue": "Cannot generate name for this compound.",
     "output_type": "error",
     "traceback": [
      "\u001b[1;31m---------------------------------------------------------------------------\u001b[0m",
      "\u001b[1;31mNotImplementedError\u001b[0m                       Traceback (most recent call last)",
      "Cell \u001b[1;32mIn[30], line 1\u001b[0m\n\u001b[1;32m----> 1\u001b[0m \u001b[43mcompound\u001b[49m\u001b[38;5;241;43m.\u001b[39;49m\u001b[43mdisplay\u001b[49m\u001b[43m(\u001b[49m\u001b[43m)\u001b[49m\n",
      "File \u001b[1;32mc:\\Users\\chris\\repos\\Kemi-26022\\element.py:471\u001b[0m, in \u001b[0;36mCompound.display\u001b[1;34m(self)\u001b[0m\n\u001b[0;32m    469\u001b[0m \u001b[38;5;28;01mdef\u001b[39;00m \u001b[38;5;21mdisplay\u001b[39m(\u001b[38;5;28mself\u001b[39m) \u001b[38;5;241m-\u001b[39m\u001b[38;5;241m>\u001b[39m \u001b[38;5;28;01mNone\u001b[39;00m:\n\u001b[0;32m    470\u001b[0m \u001b[38;5;250m    \u001b[39m\u001b[38;5;124;03m\"\"\"Pretty-print all available info about this compound, including generated name and atom count.\"\"\"\u001b[39;00m\n\u001b[1;32m--> 471\u001b[0m     \u001b[38;5;28mprint\u001b[39m(\u001b[38;5;124mf\u001b[39m\u001b[38;5;124m\"\u001b[39m\u001b[38;5;124mName:         \u001b[39m\u001b[38;5;132;01m{\u001b[39;00m\u001b[38;5;28;43mself\u001b[39;49m\u001b[38;5;241;43m.\u001b[39;49m\u001b[43mname\u001b[49m\u001b[43m(\u001b[49m\u001b[43m)\u001b[49m\u001b[38;5;132;01m}\u001b[39;00m\u001b[38;5;124m\"\u001b[39m)\n\u001b[0;32m    472\u001b[0m     \u001b[38;5;28mprint\u001b[39m(\u001b[38;5;124mf\u001b[39m\u001b[38;5;124m\"\u001b[39m\u001b[38;5;124mFormula:      \u001b[39m\u001b[38;5;132;01m{\u001b[39;00m\u001b[38;5;28mself\u001b[39m\u001b[38;5;241m.\u001b[39mformula()\u001b[38;5;132;01m}\u001b[39;00m\u001b[38;5;124m\"\u001b[39m)\n\u001b[0;32m    473\u001b[0m     \u001b[38;5;28mprint\u001b[39m(\u001b[38;5;124mf\u001b[39m\u001b[38;5;124m\"\u001b[39m\u001b[38;5;124mMolar mass:   \u001b[39m\u001b[38;5;132;01m{\u001b[39;00m\u001b[38;5;28mself\u001b[39m\u001b[38;5;241m.\u001b[39mmolar_mass\u001b[38;5;132;01m:\u001b[39;00m\u001b[38;5;124m.4f\u001b[39m\u001b[38;5;132;01m}\u001b[39;00m\u001b[38;5;124m g/mol\u001b[39m\u001b[38;5;124m\"\u001b[39m)\n",
      "File \u001b[1;32mc:\\Users\\chris\\repos\\Kemi-26022\\element.py:466\u001b[0m, in \u001b[0;36mCompound.name\u001b[1;34m(self)\u001b[0m\n\u001b[0;32m    463\u001b[0m     ox_cat \u001b[38;5;241m=\u001b[39m \u001b[38;5;241m-\u001b[39m(n_an\u001b[38;5;241m*\u001b[39man_ox)\u001b[38;5;241m/\u001b[39m\u001b[38;5;241m/\u001b[39mn_cat\n\u001b[0;32m    464\u001b[0m     \u001b[38;5;28;01mreturn\u001b[39;00m \u001b[38;5;124mf\u001b[39m\u001b[38;5;124m\"\u001b[39m\u001b[38;5;132;01m{\u001b[39;00mPT[cat]\u001b[38;5;241m.\u001b[39mname\u001b[38;5;132;01m}\u001b[39;00m\u001b[38;5;124m(\u001b[39m\u001b[38;5;132;01m{\u001b[39;00m\u001b[38;5;28mself\u001b[39m\u001b[38;5;241m.\u001b[39m_to_roman(ox_cat)\u001b[38;5;132;01m}\u001b[39;00m\u001b[38;5;124m) \u001b[39m\u001b[38;5;132;01m{\u001b[39;00m\u001b[38;5;28mself\u001b[39m\u001b[38;5;241m.\u001b[39m_anion_name(PT[an]\u001b[38;5;241m.\u001b[39mname)\u001b[38;5;132;01m}\u001b[39;00m\u001b[38;5;124m\"\u001b[39m\n\u001b[1;32m--> 466\u001b[0m \u001b[38;5;28;01mraise\u001b[39;00m \u001b[38;5;167;01mNotImplementedError\u001b[39;00m(\u001b[38;5;124m\"\u001b[39m\u001b[38;5;124mCannot generate name for this compound.\u001b[39m\u001b[38;5;124m\"\u001b[39m)\n",
      "\u001b[1;31mNotImplementedError\u001b[0m: Cannot generate name for this compound."
     ]
    }
   ],
   "source": [
    "compound.display()"
   ]
  },
  {
   "cell_type": "code",
   "execution_count": null,
   "id": "5c844bb8",
   "metadata": {},
   "outputs": [],
   "source": []
  },
  {
   "cell_type": "code",
   "execution_count": null,
   "id": "9b9345f9",
   "metadata": {},
   "outputs": [],
   "source": []
  }
 ],
 "metadata": {
  "kernelspec": {
   "display_name": "DTUMisc",
   "language": "python",
   "name": "python3"
  },
  "language_info": {
   "codemirror_mode": {
    "name": "ipython",
    "version": 3
   },
   "file_extension": ".py",
   "mimetype": "text/x-python",
   "name": "python",
   "nbconvert_exporter": "python",
   "pygments_lexer": "ipython3",
   "version": "3.11.10"
  }
 },
 "nbformat": 4,
 "nbformat_minor": 5
}
