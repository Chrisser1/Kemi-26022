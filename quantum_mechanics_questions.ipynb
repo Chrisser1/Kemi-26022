{
 "cells": [
  {
   "cell_type": "code",
   "execution_count": 1,
   "id": "417d2213",
   "metadata": {},
   "outputs": [],
   "source": [
    "import quantum_mechanics as qm"
   ]
  },
  {
   "cell_type": "markdown",
   "id": "9725de83",
   "metadata": {},
   "source": [
    "# Wavelength based on frequency"
   ]
  },
  {
   "cell_type": "code",
   "execution_count": 2,
   "id": "af351bbe",
   "metadata": {},
   "outputs": [
    {
     "name": "stdout",
     "output_type": "stream",
     "text": [
      "The wavelength is 25 nm\n"
     ]
    }
   ],
   "source": [
    "# --- Given values ---\n",
    "frequency = 1.2e16  # Hz\n",
    "\n",
    "# --- Calculation ---\n",
    "wavelength_m = qm.calculate_wavelength(frequency)\n",
    "wavelength_nm = qm.m_to_nm(wavelength_m)\n",
    "\n",
    "print(f\"The wavelength is {wavelength_nm:.0f} nm\")\n"
   ]
  },
  {
   "cell_type": "code",
   "execution_count": 3,
   "id": "5b9f5054",
   "metadata": {},
   "outputs": [
    {
     "name": "stdout",
     "output_type": "stream",
     "text": [
      "The wavelength of the broadcast is 3.14 m\n"
     ]
    }
   ],
   "source": [
    "frequency_hz = 9.55e7\n",
    "\n",
    "# --- Calculation ---\n",
    "# Use the function from your module. It uses the speed of light constant\n",
    "# defined within the file.\n",
    "wavelength_m = qm.calculate_wavelength(frequency_hz)\n",
    "\n",
    "print(f\"The wavelength of the broadcast is {wavelength_m:.2f} m\")"
   ]
  },
  {
   "cell_type": "markdown",
   "id": "4d0ad443",
   "metadata": {},
   "source": [
    "# Velociy of a particle based on mass and wavelength"
   ]
  },
  {
   "cell_type": "code",
   "execution_count": 4,
   "id": "4c9d2b33",
   "metadata": {},
   "outputs": [
    {
     "name": "stdout",
     "output_type": "stream",
     "text": [
      "The velocity of the particle is 6.2 m/s\n"
     ]
    }
   ],
   "source": [
    "# --- Given values ---\n",
    "mass = 1.7e-27  # kg\n",
    "wavelength = 6.3e-8  # m\n",
    "\n",
    "# --- Calculation ---\n",
    "velocity = qm.de_broglie_velocity(mass, wavelength)\n",
    "\n",
    "print(f\"The velocity of the particle is {velocity:.1f} m/s\")\n"
   ]
  },
  {
   "cell_type": "markdown",
   "id": "4fd5d8c6",
   "metadata": {},
   "source": [
    "# Estimating the minimum uncertainty using mass and speed"
   ]
  },
  {
   "cell_type": "code",
   "execution_count": 5,
   "id": "f6027109",
   "metadata": {},
   "outputs": [
    {
     "name": "stdout",
     "output_type": "stream",
     "text": [
      "The minimum uncertainty in position is 2.81e-29 m\n"
     ]
    }
   ],
   "source": [
    "# --- Given values ---\n",
    "mass_g = 1.25\n",
    "delta_v_mms = 1.50\n",
    "\n",
    "# --- Unit Conversions ---\n",
    "mass_kg = mass_g / 1000\n",
    "delta_v_ms = delta_v_mms / 1000\n",
    "\n",
    "# --- Calculation ---\n",
    "uncertainty_x = qm.heisenberg_position_uncertainty(mass_kg, delta_v_ms)\n",
    "\n",
    "print(f\"The minimum uncertainty in position is {uncertainty_x:.2e} m\")"
   ]
  },
  {
   "cell_type": "markdown",
   "id": "14023a61",
   "metadata": {},
   "source": [
    "# electrons are present in molecular orbitals"
   ]
  },
  {
   "cell_type": "code",
   "execution_count": 6,
   "id": "0d335188",
   "metadata": {},
   "outputs": [
    {
     "name": "stdout",
     "output_type": "stream",
     "text": [
      "Analysis for 4 Na atoms:\n",
      "  - Total valence electrons: 4\n",
      "  - Electrons in lower-energy (bonding) orbitals: 4\n",
      "  - Electrons in higher-energy (antibonding) orbitals: 0\n"
     ]
    }
   ],
   "source": [
    "# --- Given values ---\n",
    "element = \"Na\"\n",
    "atom_count = 4\n",
    "\n",
    "# --- Calculation ---\n",
    "mo_analysis = qm.analyze_simple_mo_filling(element, atom_count)\n",
    "lower_energy_electrons = mo_analysis[\"bonding_mo_electrons\"]\n",
    "\n",
    "# --- Display Result ---\n",
    "print(f\"Analysis for {atom_count} {element} atoms:\")\n",
    "print(f\"  - Total valence electrons: {mo_analysis['total_valence_electrons']}\")\n",
    "print(f\"  - Electrons in lower-energy (bonding) orbitals: {lower_energy_electrons}\")\n",
    "print(f\"  - Electrons in higher-energy (antibonding) orbitals: {mo_analysis['antibonding_mo_electrons']}\")"
   ]
  },
  {
   "cell_type": "code",
   "execution_count": 7,
   "id": "17f4baf8",
   "metadata": {},
   "outputs": [
    {
     "name": "stdout",
     "output_type": "stream",
     "text": [
      "For two Na atoms, the number of electrons in the higher-energy (antibonding) orbitals is: 0\n"
     ]
    }
   ],
   "source": [
    "# --- Given values ---\n",
    "element = \"Na\"\n",
    "atom_count = 2\n",
    "\n",
    "# --- Calculation ---\n",
    "mo_analysis = qm.analyze_simple_mo_filling(element, atom_count)\n",
    "higher_energy_electrons = mo_analysis[\"antibonding_mo_electrons\"]\n",
    "\n",
    "# --- Display Result ---\n",
    "print(f\"For two {element} atoms, the number of electrons in the higher-energy (antibonding) orbitals is: {higher_energy_electrons}\")"
   ]
  },
  {
   "cell_type": "code",
   "execution_count": 8,
   "id": "07f6ca10",
   "metadata": {},
   "outputs": [
    {
     "name": "stdout",
     "output_type": "stream",
     "text": [
      "For two Na atoms, the number of electrons in the lower-energy (bonding) orbitals is: 2\n"
     ]
    }
   ],
   "source": [
    "# --- Given values ---\n",
    "element = \"Na\"\n",
    "atom_count = 2\n",
    "\n",
    "# --- Calculation ---\n",
    "mo_analysis = qm.analyze_simple_mo_filling(element, atom_count)\n",
    "lower_energy_electrons = mo_analysis[\"bonding_mo_electrons\"]\n",
    "\n",
    "# --- Display Result ---\n",
    "print(f\"For two {element} atoms, the number of electrons in the lower-energy (bonding) orbitals is: {lower_energy_electrons}\")"
   ]
  },
  {
   "cell_type": "markdown",
   "id": "ed6b10dd",
   "metadata": {},
   "source": [
    "# Calculate the kinetic energy"
   ]
  },
  {
   "cell_type": "code",
   "execution_count": 9,
   "id": "57da8268",
   "metadata": {},
   "outputs": [
    {
     "name": "stdout",
     "output_type": "stream",
     "text": [
      "The kinetic energy of the ejected electrons is: 9.6e-19 J\n"
     ]
    }
   ],
   "source": [
    "# --- Given values ---\n",
    "wavelength = 150  # nm\n",
    "work_func = 221   # kJ/mol\n",
    "\n",
    "# --- Calculation ---\n",
    "ke = qm.calculate_photoelectron_kinetic_energy(\n",
    "    wavelength_nm=wavelength,\n",
    "    work_function=work_func,\n",
    "    work_function_unit='kJ/mol'\n",
    ")\n",
    "\n",
    "# --- Display result ---\n",
    "print(f\"The kinetic energy of the ejected electrons is: {ke:.1e} J\")"
   ]
  },
  {
   "cell_type": "markdown",
   "id": "79770aec",
   "metadata": {},
   "source": [
    "# Energy to type of radiation in the electromagnetic spectrum"
   ]
  },
  {
   "cell_type": "code",
   "execution_count": 10,
   "id": "939f7709",
   "metadata": {},
   "outputs": [
    {
     "name": "stdout",
     "output_type": "stream",
     "text": [
      "A photon with energy 4.2e-19 J has a wavelength of 473 nm.\n",
      "This corresponds to: Visible light\n"
     ]
    }
   ],
   "source": [
    "# --- Given values ---\n",
    "photon_energy_J = 4.2e-19\n",
    "\n",
    "# --- Calculation ---\n",
    "# Step 1: Find the wavelength in meters, then convert to nanometers\n",
    "wavelength_m = qm.calculate_wavelength_from_energy(photon_energy_J)\n",
    "wavelength_nm = qm.m_to_nm(wavelength_m)\n",
    "\n",
    "# Step 2: Classify the radiation\n",
    "radiation_type = qm.classify_radiation_from_wavelength(wavelength_nm)\n",
    "\n",
    "# --- Display the result ---\n",
    "print(f\"A photon with energy {photon_energy_J:.1e} J has a wavelength of {wavelength_nm:.0f} nm.\")\n",
    "print(f\"This corresponds to: {radiation_type}\")"
   ]
  }
 ],
 "metadata": {
  "kernelspec": {
   "display_name": "KEMI",
   "language": "python",
   "name": "python3"
  },
  "language_info": {
   "codemirror_mode": {
    "name": "ipython",
    "version": 3
   },
   "file_extension": ".py",
   "mimetype": "text/x-python",
   "name": "python",
   "nbconvert_exporter": "python",
   "pygments_lexer": "ipython3",
   "version": "3.13.5"
  }
 },
 "nbformat": 4,
 "nbformat_minor": 5
}
