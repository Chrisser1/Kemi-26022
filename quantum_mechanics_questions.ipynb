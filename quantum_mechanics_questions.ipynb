{
 "cells": [
  {
   "cell_type": "code",
   "execution_count": 1,
   "id": "417d2213",
   "metadata": {},
   "outputs": [],
   "source": [
    "import quantum_mechanics as qm"
   ]
  },
  {
   "cell_type": "markdown",
   "id": "9725de83",
   "metadata": {},
   "source": [
    "# Wavelength based on frequency"
   ]
  },
  {
   "cell_type": "code",
   "execution_count": 2,
   "id": "af351bbe",
   "metadata": {},
   "outputs": [
    {
     "name": "stdout",
     "output_type": "stream",
     "text": [
      "The wavelength is 25 nm\n"
     ]
    }
   ],
   "source": [
    "# --- Given values ---\n",
    "frequency = 1.2e16  # Hz\n",
    "\n",
    "# --- Calculation ---\n",
    "wavelength_m = qm.calculate_wavelength(frequency)\n",
    "wavelength_nm = qm.m_to_nm(wavelength_m)\n",
    "\n",
    "print(f\"The wavelength is {wavelength_nm:.0f} nm\")\n"
   ]
  },
  {
   "cell_type": "code",
   "execution_count": 5,
   "id": "5b9f5054",
   "metadata": {},
   "outputs": [
    {
     "name": "stdout",
     "output_type": "stream",
     "text": [
      "The wavelength of the broadcast is 3.14 m\n"
     ]
    }
   ],
   "source": [
    "frequency_hz = 9.55e7\n",
    "\n",
    "# --- Calculation ---\n",
    "# Use the function from your module. It uses the speed of light constant\n",
    "# defined within the file.\n",
    "wavelength_m = qm.calculate_wavelength(frequency_hz)\n",
    "\n",
    "print(f\"The wavelength of the broadcast is {wavelength_m:.2f} m\")"
   ]
  },
  {
   "cell_type": "markdown",
   "id": "4d0ad443",
   "metadata": {},
   "source": [
    "# Velociy of a particle based on mass and wavelength"
   ]
  },
  {
   "cell_type": "code",
   "execution_count": 3,
   "id": "4c9d2b33",
   "metadata": {},
   "outputs": [
    {
     "name": "stdout",
     "output_type": "stream",
     "text": [
      "The velocity of the particle is 6.2 m/s\n"
     ]
    }
   ],
   "source": [
    "# --- Given values ---\n",
    "mass = 1.7e-27  # kg\n",
    "wavelength = 6.3e-8  # m\n",
    "\n",
    "# --- Calculation ---\n",
    "velocity = qm.de_broglie_velocity(mass, wavelength)\n",
    "\n",
    "print(f\"The velocity of the particle is {velocity:.1f} m/s\")\n"
   ]
  },
  {
   "cell_type": "markdown",
   "id": "4fd5d8c6",
   "metadata": {},
   "source": [
    "# Estimating the minimum uncertainty using mass and speed"
   ]
  },
  {
   "cell_type": "code",
   "execution_count": 4,
   "id": "f6027109",
   "metadata": {},
   "outputs": [
    {
     "name": "stdout",
     "output_type": "stream",
     "text": [
      "The minimum uncertainty in position is 2.81e-29 m\n"
     ]
    }
   ],
   "source": [
    "# --- Given values ---\n",
    "mass_g = 1.25\n",
    "delta_v_mms = 1.50\n",
    "\n",
    "# --- Unit Conversions ---\n",
    "mass_kg = mass_g / 1000\n",
    "delta_v_ms = delta_v_mms / 1000\n",
    "\n",
    "# --- Calculation ---\n",
    "uncertainty_x = qm.heisenberg_position_uncertainty(mass_kg, delta_v_ms)\n",
    "\n",
    "print(f\"The minimum uncertainty in position is {uncertainty_x:.2e} m\")\n"
   ]
  },
  {
   "cell_type": "code",
   "execution_count": null,
   "id": "4be2dbad",
   "metadata": {},
   "outputs": [],
   "source": []
  }
 ],
 "metadata": {
  "kernelspec": {
   "display_name": "KEMI",
   "language": "python",
   "name": "python3"
  },
  "language_info": {
   "codemirror_mode": {
    "name": "ipython",
    "version": 3
   },
   "file_extension": ".py",
   "mimetype": "text/x-python",
   "name": "python",
   "nbconvert_exporter": "python",
   "pygments_lexer": "ipython3",
   "version": "3.13.5"
  }
 },
 "nbformat": 4,
 "nbformat_minor": 5
}
