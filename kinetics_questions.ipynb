{
 "cells": [
  {
   "cell_type": "code",
   "execution_count": 1,
   "id": "c01fff13",
   "metadata": {},
   "outputs": [],
   "source": [
    "import kinetics as kin"
   ]
  },
  {
   "cell_type": "markdown",
   "id": "7e68929d",
   "metadata": {},
   "source": [
    "# Average rate of change based on another molecule"
   ]
  },
  {
   "cell_type": "code",
   "execution_count": 2,
   "id": "a6cb96c0",
   "metadata": {},
   "outputs": [
    {
     "name": "stdout",
     "output_type": "stream",
     "text": [
      "The average rate of change of nitryl chloride is 5.20e-08 M/s\n"
     ]
    }
   ],
   "source": [
    "# --- Given values ---\n",
    "rate_of_NO2 = -5.20e-8  # M/s\n",
    "coeff_NO2 = 2\n",
    "coeff_NO2Cl = 2\n",
    "\n",
    "# --- Calculation ---\n",
    "# The rate of formation will be positive and have the same magnitude\n",
    "# because the coefficients are the same.\n",
    "rate_of_NO2Cl = kin.calculate_relative_rate(rate_of_NO2, coeff_NO2, coeff_NO2Cl)\n",
    "\n",
    "print(f\"The average rate of change of nitryl chloride is {rate_of_NO2Cl:.2e} M/s\")"
   ]
  },
  {
   "cell_type": "markdown",
   "id": "d260d2a2",
   "metadata": {},
   "source": [
    "# Determine the rate law"
   ]
  },
  {
   "cell_type": "code",
   "execution_count": 3,
   "id": "fc0788a4",
   "metadata": {},
   "outputs": [
    {
     "name": "stdout",
     "output_type": "stream",
     "text": [
      "The calculated reaction order is: 2.0\n"
     ]
    }
   ],
   "source": [
    "# --- Data from the experiments ---\n",
    "# Experiment 1\n",
    "rate1 = 3.0e-4\n",
    "conc1 = 0.050\n",
    "\n",
    "# Experiment 2\n",
    "rate2 = 1.2e-3\n",
    "conc2 = 0.100\n",
    "\n",
    "# --- Calculation ---\n",
    "order = kin.determine_reaction_order(rate1, conc1, rate2, conc2)\n",
    "\n",
    "print(f\"The calculated reaction order is: {order}\")"
   ]
  },
  {
   "cell_type": "markdown",
   "id": "7b7d4ddc",
   "metadata": {},
   "source": [
    "# Original mass based on half life"
   ]
  },
  {
   "cell_type": "code",
   "execution_count": 4,
   "id": "7a52c4e4",
   "metadata": {},
   "outputs": [
    {
     "name": "stdout",
     "output_type": "stream",
     "text": [
      "The initial amount of plutonium-239 was 927 g\n"
     ]
    }
   ],
   "source": [
    "# --- Given values ---\n",
    "half_life_pu239 = 24110  # years\n",
    "amount_left = 925      # grams\n",
    "time_passed = 63.0     # years\n",
    "\n",
    "# --- Calculation ---\n",
    "initial_amount = kin.calculate_initial_amount(\n",
    "    amount_remaining=amount_left,\n",
    "    time_elapsed=time_passed,\n",
    "    half_life=half_life_pu239\n",
    ")\n",
    "\n",
    "print(f\"The initial amount of plutonium-239 was {initial_amount:.0f} g\")"
   ]
  },
  {
   "cell_type": "markdown",
   "id": "6c1cb7d3",
   "metadata": {},
   "source": [
    "# Average rate of a reaction based on time interval"
   ]
  },
  {
   "cell_type": "code",
   "execution_count": 5,
   "id": "ef75daf4",
   "metadata": {},
   "outputs": [
    {
     "name": "stdout",
     "output_type": "stream",
     "text": [
      "The average rate of reaction is 9.3e-06 M/s\n"
     ]
    }
   ],
   "source": [
    "# --- Given values from the problem ---\n",
    "conc1 = 2.56e-2  # M at t1\n",
    "t1 = 400.0       # s\n",
    "\n",
    "conc2 = 1.82e-2  # M at t2\n",
    "t2 = 800.0       # s\n",
    "\n",
    "coeff_N2O5 = 2\n",
    "\n",
    "# --- Calculation ---\n",
    "avg_rate = kin.calculate_average_reaction_rate(\n",
    "    conc_initial=conc1,\n",
    "    conc_final=conc2,\n",
    "    t_initial=t1,\n",
    "    t_final=t2,\n",
    "    coefficient=coeff_N2O5,\n",
    "    is_reactant=True\n",
    ")\n",
    "\n",
    "print(f\"The average rate of reaction is {avg_rate:.1e} M/s\")"
   ]
  },
  {
   "cell_type": "markdown",
   "id": "359bab74",
   "metadata": {},
   "source": [
    "# time (in seconds) for reaction to decrease"
   ]
  },
  {
   "cell_type": "code",
   "execution_count": 6,
   "id": "2cb1c49f",
   "metadata": {},
   "outputs": [
    {
     "name": "stdout",
     "output_type": "stream",
     "text": [
      "The time required is 341 s\n"
     ]
    }
   ],
   "source": [
    "# --- Given values ---\n",
    "rate_constant_k = 0.0120\n",
    "initial_conc = 0.200\n",
    "final_conc = 0.110\n",
    "\n",
    "# --- Calculation ---\n",
    "time_elapsed = kin.solve_second_order_time(\n",
    "    k=rate_constant_k,\n",
    "    conc_initial=initial_conc,\n",
    "    conc_final=final_conc\n",
    ")\n",
    "\n",
    "print(f\"The time required is {time_elapsed:.0f} s\")\n"
   ]
  },
  {
   "cell_type": "markdown",
   "id": "c94f77fa",
   "metadata": {},
   "source": [
    "# half-life of a first-order reaction based on rate constant"
   ]
  },
  {
   "cell_type": "code",
   "execution_count": 7,
   "id": "39d3eece",
   "metadata": {},
   "outputs": [
    {
     "name": "stdout",
     "output_type": "stream",
     "text": [
      "The half-life of the reaction is 529 h\n"
     ]
    }
   ],
   "source": [
    "# --- Given values ---\n",
    "rate_constant_k = 1.31e-3  # h⁻¹\n",
    "\n",
    "# --- Calculation ---\n",
    "half_life = kin.calculate_first_order_half_life(rate_constant_k)\n",
    "\n",
    "print(f\"The half-life of the reaction is {half_life:.0f} h\")\n"
   ]
  },
  {
   "cell_type": "markdown",
   "id": "30d67977",
   "metadata": {},
   "source": [
    "# Half life based on atoms"
   ]
  },
  {
   "cell_type": "code",
   "execution_count": 8,
   "id": "5f285de4",
   "metadata": {},
   "outputs": [
    {
     "name": "stdout",
     "output_type": "stream",
     "text": [
      "The half-life of phosphorus-32 is 14 days\n"
     ]
    }
   ],
   "source": [
    "# --- Given values ---\n",
    "n0 = 2.00e18  # initial atoms\n",
    "nt = 5.00e17  # final atoms\n",
    "t = 28        # days\n",
    "\n",
    "# --- Calculation ---\n",
    "half_life = kin.calculate_half_life(\n",
    "    initial_amount=n0,\n",
    "    final_amount=nt,\n",
    "    time_elapsed=t\n",
    ")\n",
    "\n",
    "print(f\"The half-life of phosphorus-32 is {half_life:.0f} days\")"
   ]
  },
  {
   "cell_type": "code",
   "execution_count": 9,
   "id": "faf592a8",
   "metadata": {},
   "outputs": [
    {
     "name": "stdout",
     "output_type": "stream",
     "text": [
      "The half-life of phosphorus-32 is 22 minutes\n"
     ]
    }
   ],
   "source": [
    "# --- Given values ---\n",
    "n0 = 32  # initial atoms\n",
    "nt = 4  # final atoms\n",
    "t = 66        # minutes\n",
    "\n",
    "# --- Calculation ---\n",
    "half_life = kin.calculate_half_life(\n",
    "    initial_amount=n0,\n",
    "    final_amount=nt,\n",
    "    time_elapsed=t\n",
    ")\n",
    "\n",
    "print(f\"The half-life of phosphorus-32 is {half_life:.0f} minutes\")"
   ]
  },
  {
   "cell_type": "markdown",
   "id": "134a1ea8",
   "metadata": {},
   "source": [
    "# The temperature at which you will have a specific rate constant\n",
    "\n",
    " "
   ]
  },
  {
   "cell_type": "code",
   "execution_count": 10,
   "id": "975ab0f6",
   "metadata": {},
   "outputs": [
    {
     "name": "stdout",
     "output_type": "stream",
     "text": [
      "The new temperature is 364 K\n"
     ]
    }
   ],
   "source": [
    "# --- Given values ---\n",
    "k1 = 3.25e-3\n",
    "T1 = 164  # °C\n",
    "k2 = 2.31e-4\n",
    "Ea = 48.0 # kJ/mol\n",
    "\n",
    "# --- Calculation ---\n",
    "T2 = kin.arrhenius_solve_for_temperature(k1, T1, k2, Ea)\n",
    "\n",
    "print(f\"The new temperature is {T2:.0f} K\")"
   ]
  },
  {
   "cell_type": "markdown",
   "id": "f0fc68ad",
   "metadata": {},
   "source": [
    "# Calculates second order rate constant"
   ]
  },
  {
   "cell_type": "code",
   "execution_count": 11,
   "id": "155ae6da",
   "metadata": {},
   "outputs": [
    {
     "name": "stdout",
     "output_type": "stream",
     "text": [
      "The rate constant is 0.178 M⁻¹s⁻¹\n"
     ]
    }
   ],
   "source": [
    "# --- Given values ---\n",
    "half_life_s = 22.5\n",
    "initial_conc_M = 0.250\n",
    "\n",
    "# --- Calculation ---\n",
    "rate_constant = kin.calculate_second_order_rate_constant(half_life_s, initial_conc_M)\n",
    "\n",
    "print(f\"The rate constant is {rate_constant:.3f} M⁻¹s⁻¹\")"
   ]
  },
  {
   "cell_type": "code",
   "execution_count": 12,
   "id": "d81243c7",
   "metadata": {},
   "outputs": [
    {
     "name": "stdout",
     "output_type": "stream",
     "text": [
      "The rate constant is 0.0145 M⁻¹s⁻¹\n"
     ]
    }
   ],
   "source": [
    "# --- Given values ---\n",
    "half_life_s = 550.0 \n",
    "initial_conc_M = 0.125\n",
    "\n",
    "# --- Calculation ---\n",
    "rate_constant = kin.calculate_second_order_rate_constant(half_life_s, initial_conc_M)\n",
    "\n",
    "print(f\"The rate constant is {rate_constant:.4f} M⁻¹s⁻¹\")"
   ]
  },
  {
   "cell_type": "markdown",
   "id": "5ffee8c8",
   "metadata": {},
   "source": [
    "# Calculates first order rate constant"
   ]
  },
  {
   "cell_type": "code",
   "execution_count": 13,
   "id": "a14c1d6e",
   "metadata": {},
   "outputs": [
    {
     "name": "stdout",
     "output_type": "stream",
     "text": [
      "The rate constant is 0.01925 min⁻¹\n"
     ]
    }
   ],
   "source": [
    "# --- Given values ---\n",
    "half_life_min = 36.00\n",
    "\n",
    "# --- Calculation ---\n",
    "rate_constant = kin.calculate_first_order_rate_constant(half_life_min)\n",
    "\n",
    "print(f\"The rate constant is {rate_constant:.5f} min⁻¹\")\n"
   ]
  },
  {
   "cell_type": "code",
   "execution_count": 14,
   "id": "dcab1158",
   "metadata": {},
   "outputs": [
    {
     "name": "stdout",
     "output_type": "stream",
     "text": [
      "The rate constant is: 0.0116 s⁻¹\n"
     ]
    }
   ],
   "source": [
    "# --- Given values ---\n",
    "# The half-life is 1 minute, which is 60 seconds.\n",
    "half_life_seconds = 60.0\n",
    "\n",
    "# --- Calculation ---\n",
    "# This uses your existing function for first-order reactions\n",
    "rate_constant = kin.calculate_first_order_rate_constant(half_life_seconds)\n",
    "\n",
    "# --- Display the result ---\n",
    "print(f\"The rate constant is: {rate_constant:.4f} s⁻¹\")"
   ]
  },
  {
   "cell_type": "markdown",
   "id": "8b2b323d",
   "metadata": {},
   "source": [
    "# concentration after time based on rate konstant and concentration "
   ]
  },
  {
   "cell_type": "code",
   "execution_count": 15,
   "id": "fa19482a",
   "metadata": {},
   "outputs": [
    {
     "name": "stdout",
     "output_type": "stream",
     "text": [
      "The final concentration is 5.96e-04 M\n"
     ]
    }
   ],
   "source": [
    "# --- Given values ---\n",
    "k = 3.25e-4\n",
    "conc_initial = 4.67e-3\n",
    "time = 4.50e6\n",
    "\n",
    "# --- Calculation ---\n",
    "conc_final = kin.solve_second_order_final_conc(k, conc_initial, time)\n",
    "\n",
    "print(f\"The final concentration is {conc_final:.2e} M\")"
   ]
  },
  {
   "cell_type": "markdown",
   "id": "c1521a8a",
   "metadata": {},
   "source": [
    "# Initial concentration of based on concentration"
   ]
  },
  {
   "cell_type": "code",
   "execution_count": 16,
   "id": "3da98903",
   "metadata": {},
   "outputs": [
    {
     "name": "stdout",
     "output_type": "stream",
     "text": [
      "The initial concentration was 0.549 M\n"
     ]
    }
   ],
   "source": [
    "# --- Given values ---\n",
    "k = 9.02e-4\n",
    "conc_final = 0.350\n",
    "time = 500.0\n",
    "\n",
    "# --- Calculation ---\n",
    "conc_initial = kin.solve_first_order_initial_conc(k, conc_final, time)\n",
    "\n",
    "print(f\"The initial concentration was {conc_initial:.3f} M\")\n"
   ]
  },
  {
   "cell_type": "markdown",
   "id": "98fb9c1a",
   "metadata": {},
   "source": [
    "# Calculates the rate of change of a target species given data for a known species."
   ]
  },
  {
   "cell_type": "code",
   "execution_count": 17,
   "id": "bb1123e8",
   "metadata": {},
   "outputs": [
    {
     "name": "stdout",
     "output_type": "stream",
     "text": [
      "The average rate of change of O₂ is 9.5e-06 M/s\n"
     ]
    }
   ],
   "source": [
    "# --- Given values ---\n",
    "conc1_n2o5 = 2.50e-2\n",
    "t1 = 300.0\n",
    "\n",
    "conc2_n2o5 = 1.55e-2\n",
    "t2 = 800.0\n",
    "\n",
    "coeff_n2o5 = 2\n",
    "coeff_o2 = 1\n",
    "\n",
    "# --- Calculation ---\n",
    "rate_o2 = kin.calculate_rate_of_change(\n",
    "    conc_initial_known=conc1_n2o5,\n",
    "    conc_final_known=conc2_n2o5,\n",
    "    t_initial=t1,\n",
    "    t_final=t2,\n",
    "    coeff_known=coeff_n2o5,\n",
    "    coeff_target=coeff_o2,\n",
    "    known_is_reactant=True\n",
    ")\n",
    "\n",
    "print(f\"The average rate of change of O₂ is {rate_o2:.1e} M/s\")"
   ]
  },
  {
   "cell_type": "markdown",
   "id": "c2c2e1fc",
   "metadata": {},
   "source": [
    "# activation energy of a reaction based on temperature, rate constant and frequency factor"
   ]
  },
  {
   "cell_type": "code",
   "execution_count": null,
   "id": "638702e8",
   "metadata": {},
   "outputs": [
    {
     "name": "stdout",
     "output_type": "stream",
     "text": [
      "The activation energy is: 98 kJ/mol\n"
     ]
    }
   ],
   "source": [
    "# --- Given values ---\n",
    "rate_constant = 3.18e-4\n",
    "frequency_factor = 5.11e13\n",
    "temperature = 298  # K\n",
    "\n",
    "# --- Calculation ---\n",
    "activation_energy_J = kin.calculate_activation_energy(\n",
    "    k=rate_constant,\n",
    "    A=frequency_factor,\n",
    "    T_kelvin=temperature\n",
    ")\n",
    "\n",
    "# Convert from J/mol to kJ/mol for the answer\n",
    "activation_energy_kJ = activation_energy_J / 1000\n",
    "\n",
    "# --- Display the result ---\n",
    "print(f\"The activation energy is: {activation_energy_kJ:.0f} kJ/mol\")"
   ]
  },
  {
   "cell_type": "code",
   "execution_count": null,
   "id": "c831da6d",
   "metadata": {},
   "outputs": [],
   "source": []
  }
 ],
 "metadata": {
  "kernelspec": {
   "display_name": "KEMI",
   "language": "python",
   "name": "python3"
  },
  "language_info": {
   "codemirror_mode": {
    "name": "ipython",
    "version": 3
   },
   "file_extension": ".py",
   "mimetype": "text/x-python",
   "name": "python",
   "nbconvert_exporter": "python",
   "pygments_lexer": "ipython3",
   "version": "3.13.5"
  }
 },
 "nbformat": 4,
 "nbformat_minor": 5
}
