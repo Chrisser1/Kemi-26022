{
 "cells": [
  {
   "cell_type": "code",
   "execution_count": 4,
   "id": "f996f2b8",
   "metadata": {},
   "outputs": [],
   "source": [
    "import molecular_structure as ms"
   ]
  },
  {
   "cell_type": "markdown",
   "id": "9336e02a",
   "metadata": {},
   "source": [
    "# Estimating enthaloy by average bond energy"
   ]
  },
  {
   "cell_type": "code",
   "execution_count": 5,
   "id": "c6114574",
   "metadata": {},
   "outputs": [
    {
     "name": "stdout",
     "output_type": "stream",
     "text": [
      "The estimated enthalpy of reaction is -1086 kJ/mol\n"
     ]
    }
   ],
   "source": [
    "# 1. Define the bond energies given in the problem\n",
    "energies = {\n",
    "    \"C-H\": 410,\n",
    "    \"C-O\": 350,\n",
    "    \"O=O\": 498,\n",
    "    \"H-O\": 460,\n",
    "    \"C=O\": 745\n",
    "}\n",
    "\n",
    "# 2. Define the bonds broken in the reactants\n",
    "broken = {\n",
    "    \"C-H\": 6,\n",
    "    \"C-O\": 2,\n",
    "    \"O=O\": 3\n",
    "}\n",
    "\n",
    "# 3. Define the bonds formed in the products\n",
    "formed = {\n",
    "    \"H-O\": 6,\n",
    "    \"C=O\": 4\n",
    "}\n",
    "\n",
    "# 4. Calculate the enthalpy change using the new function\n",
    "delta_h = ms.estimate_reaction_enthalpy(broken, formed, energies)\n",
    "\n",
    "print(f\"The estimated enthalpy of reaction is {delta_h:.0f} kJ/mol\")"
   ]
  },
  {
   "cell_type": "code",
   "execution_count": null,
   "id": "f81fc6f3",
   "metadata": {},
   "outputs": [],
   "source": []
  }
 ],
 "metadata": {
  "kernelspec": {
   "display_name": "KEMI",
   "language": "python",
   "name": "python3"
  },
  "language_info": {
   "codemirror_mode": {
    "name": "ipython",
    "version": 3
   },
   "file_extension": ".py",
   "mimetype": "text/x-python",
   "name": "python",
   "nbconvert_exporter": "python",
   "pygments_lexer": "ipython3",
   "version": "3.13.5"
  }
 },
 "nbformat": 4,
 "nbformat_minor": 5
}
