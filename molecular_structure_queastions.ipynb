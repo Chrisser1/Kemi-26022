{
 "cells": [
  {
   "cell_type": "code",
   "execution_count": 11,
   "id": "f996f2b8",
   "metadata": {},
   "outputs": [],
   "source": [
    "import molecular_structure as ms"
   ]
  },
  {
   "cell_type": "markdown",
   "id": "9336e02a",
   "metadata": {},
   "source": [
    "# Estimating enthaloy by average bond energy"
   ]
  },
  {
   "cell_type": "code",
   "execution_count": 12,
   "id": "c6114574",
   "metadata": {},
   "outputs": [
    {
     "name": "stdout",
     "output_type": "stream",
     "text": [
      "The estimated enthalpy of reaction is -1086 kJ/mol\n"
     ]
    }
   ],
   "source": [
    "# 1. Define the bond energies given in the problem\n",
    "energies = {\n",
    "    \"C-H\": 410,\n",
    "    \"C-O\": 350,\n",
    "    \"O=O\": 498,\n",
    "    \"H-O\": 460,\n",
    "    \"C=O\": 745\n",
    "}\n",
    "\n",
    "# 2. Define the bonds broken in the reactants\n",
    "broken = {\n",
    "    \"C-H\": 6,\n",
    "    \"C-O\": 2,\n",
    "    \"O=O\": 3\n",
    "}\n",
    "\n",
    "# 3. Define the bonds formed in the products\n",
    "formed = {\n",
    "    \"H-O\": 6,\n",
    "    \"C=O\": 4\n",
    "}\n",
    "\n",
    "# 4. Calculate the enthalpy change using the new function\n",
    "delta_h = ms.estimate_reaction_enthalpy(broken, formed, energies)\n",
    "\n",
    "print(f\"The estimated enthalpy of reaction is {delta_h:.0f} kJ/mol\")"
   ]
  },
  {
   "cell_type": "markdown",
   "id": "2adca892",
   "metadata": {},
   "source": [
    "# Molecular geometry"
   ]
  },
  {
   "cell_type": "code",
   "execution_count": 13,
   "id": "f81fc6f3",
   "metadata": {},
   "outputs": [
    {
     "name": "stdout",
     "output_type": "stream",
     "text": [
      "Analysis for SF₄:\n",
      "  - Bonding Pairs: 4\n",
      "  - Lone Pairs: 1\n",
      "  - Electron Geometry: Trigonal Bipyramidal\n",
      "  - Molecular Geometry: Seesaw\n"
     ]
    }
   ],
   "source": [
    "# --- Analysis of SF4 ---\n",
    "electron_geo, molecular_geo, bp, lp = ms.predict_molecular_geometry(\"SF4\")\n",
    "\n",
    "print(f\"Analysis for SF₄:\")\n",
    "print(f\"  - Bonding Pairs: {bp}\")\n",
    "print(f\"  - Lone Pairs: {lp}\")\n",
    "print(f\"  - Electron Geometry: {electron_geo}\")\n",
    "print(f\"  - Molecular Geometry: {molecular_geo}\")"
   ]
  },
  {
   "cell_type": "code",
   "execution_count": 14,
   "id": "90cd20b1",
   "metadata": {},
   "outputs": [
    {
     "name": "stdout",
     "output_type": "stream",
     "text": [
      "Analysis for SF₄:\n",
      "  - Bonding Pairs: 4\n",
      "  - Lone Pairs: 0\n",
      "  - Electron Geometry: Tetrahedral\n",
      "  - Molecular Geometry: Tetrahedral\n"
     ]
    }
   ],
   "source": [
    "# --- Analysis of SF4 ---\n",
    "electron_geo, molecular_geo, bp, lp = ms.predict_molecular_geometry(\"CH4\")\n",
    "\n",
    "print(f\"Analysis for SF₄:\")\n",
    "print(f\"  - Bonding Pairs: {bp}\")\n",
    "print(f\"  - Lone Pairs: {lp}\")\n",
    "print(f\"  - Electron Geometry: {electron_geo}\")\n",
    "print(f\"  - Molecular Geometry: {molecular_geo}\")"
   ]
  },
  {
   "cell_type": "markdown",
   "id": "55090359",
   "metadata": {},
   "source": [
    "# Check which molecule is nonpolar"
   ]
  },
  {
   "cell_type": "code",
   "execution_count": 15,
   "id": "2af6d18d",
   "metadata": {},
   "outputs": [
    {
     "name": "stdout",
     "output_type": "stream",
     "text": [
      "--- Analysis for CCl4 ---\n",
      "  - Central Atom: C\n",
      "  - Bonding Pairs: 4 | Lone Pairs: 0\n",
      "  - Electron Geometry: Tetrahedral\n",
      "  - Molecular Geometry: Tetrahedral\n",
      "  - Symmetry: Symmetrical\n",
      "  - Bond Polarity: Polar Covalent\n",
      "  - Polarity: Nonpolar\n",
      "  - Max Bond ΔEN: 0.61\n",
      "\n",
      "------------------------------\n",
      "\n",
      "--- Analysis for PCl3 ---\n",
      "  - Central Atom: P\n",
      "  - Bonding Pairs: 3 | Lone Pairs: 1\n",
      "  - Electron Geometry: Tetrahedral\n",
      "  - Molecular Geometry: Trigonal Pyramidal\n",
      "  - Symmetry: Asymmetrical\n",
      "  - Bond Polarity: Polar Covalent\n",
      "  - Polarity: Polar\n",
      "  - Max Bond ΔEN: 0.97\n",
      "\n",
      "------------------------------\n",
      "\n",
      "--- Analysis for CH2Cl2 ---\n",
      "  - Central Atom: C\n",
      "  - Bonding Pairs: 4 | Lone Pairs: 0\n",
      "  - Electron Geometry: Tetrahedral\n",
      "  - Molecular Geometry: Tetrahedral\n",
      "  - Symmetry: Asymmetrical\n",
      "  - Bond Polarity: Polar Covalent\n",
      "  - Polarity: Polar\n",
      "  - Max Bond ΔEN: 0.61\n",
      "\n",
      "------------------------------\n",
      "\n",
      "--- Analysis for CH2O ---\n",
      "  - Central Atom: C\n",
      "  - Bonding Pairs: 3 | Lone Pairs: 0\n",
      "  - Electron Geometry: Trigonal Planar\n",
      "  - Molecular Geometry: Trigonal Planar\n",
      "  - Symmetry: Asymmetrical\n",
      "  - Bond Polarity: Polar Covalent\n",
      "  - Polarity: Polar\n",
      "  - Max Bond ΔEN: 0.89\n"
     ]
    }
   ],
   "source": [
    "# --- Analyze all four molecules ---\n",
    "print(ms.analyze_molecular_properties(\"CCl4\"))\n",
    "print(\"\\n\" + \"-\"*30 + \"\\n\")\n",
    "print(ms.analyze_molecular_properties(\"PCl3\"))\n",
    "print(\"\\n\" + \"-\"*30 + \"\\n\")\n",
    "print(ms.analyze_molecular_properties(\"CH2Cl2\"))\n",
    "print(\"\\n\" + \"-\"*30 + \"\\n\")\n",
    "print(ms.analyze_molecular_properties(\"CH2O\"))"
   ]
  },
  {
   "cell_type": "code",
   "execution_count": 16,
   "id": "db420585",
   "metadata": {},
   "outputs": [
    {
     "name": "stdout",
     "output_type": "stream",
     "text": [
      "--- Analysis for XeF4 ---\n",
      "  - Central Atom: Xe\n",
      "  - Bonding Pairs: 4 | Lone Pairs: 2\n",
      "  - Electron Geometry: Octahedral\n",
      "  - Molecular Geometry: Square Planar\n",
      "  - Symmetry: Symmetrical\n",
      "  - Bond Polarity: Polar Covalent\n",
      "  - Polarity: Nonpolar\n",
      "  - Max Bond ΔEN: 1.38\n",
      "\n",
      "------------------------------\n",
      "\n",
      "--- Analysis for HF ---\n",
      "  - Note: This is a diatomic molecule.\n",
      "  - Molecular Geometry: Linear\n",
      "  - Bond Polarity: Polar Covalent\n",
      "  - Polarity: Polar\n",
      "  - Max Bond ΔEN: 1.78\n",
      "\n",
      "------------------------------\n",
      "\n",
      "--- Analysis for CF3Cl ---\n",
      "  - Central Atom: C\n",
      "  - Bonding Pairs: 4 | Lone Pairs: 0\n",
      "  - Electron Geometry: Tetrahedral\n",
      "  - Molecular Geometry: Tetrahedral\n",
      "  - Symmetry: Asymmetrical\n",
      "  - Bond Polarity: Polar Covalent\n",
      "  - Polarity: Polar\n",
      "  - Max Bond ΔEN: 1.43\n",
      "\n",
      "------------------------------\n",
      "\n",
      "--- Analysis for F2 ---\n",
      "  - Note: This is a diatomic molecule.\n",
      "  - Molecular Geometry: Linear\n",
      "  - Bond Polarity: Nonpolar Covalent\n",
      "  - Polarity: Nonpolar\n",
      "  - Max Bond ΔEN: 0.00\n"
     ]
    }
   ],
   "source": [
    "# --- Analyze all four molecules ---\n",
    "print(ms.analyze_molecular_properties(\"XeF4\"))\n",
    "print(\"\\n\" + \"-\"*30 + \"\\n\")\n",
    "print(ms.analyze_molecular_properties(\"HF\"))\n",
    "print(\"\\n\" + \"-\"*30 + \"\\n\")\n",
    "print(ms.analyze_molecular_properties(\"CF3Cl\"))\n",
    "print(\"\\n\" + \"-\"*30 + \"\\n\")\n",
    "print(ms.analyze_molecular_properties(\"F2\"))"
   ]
  },
  {
   "cell_type": "code",
   "execution_count": 17,
   "id": "738febff",
   "metadata": {},
   "outputs": [
    {
     "name": "stdout",
     "output_type": "stream",
     "text": [
      "--- Analysis for PCl3 ---\n",
      "  - Central Atom: P\n",
      "  - Bonding Pairs: 3 | Lone Pairs: 1\n",
      "  - Electron Geometry: Tetrahedral\n",
      "  - Molecular Geometry: Trigonal Pyramidal\n",
      "  - Symmetry: Asymmetrical\n",
      "  - Bond Polarity: Polar Covalent\n",
      "  - Polarity: Polar\n",
      "  - Max Bond ΔEN: 0.97\n",
      "\n",
      "------------------------------\n",
      "\n",
      "--- Analysis for PCl5 ---\n",
      "  - Central Atom: P\n",
      "  - Bonding Pairs: 5 | Lone Pairs: 0\n",
      "  - Electron Geometry: Trigonal Bipyramidal\n",
      "  - Molecular Geometry: Trigonal Bipyramidal\n",
      "  - Symmetry: Symmetrical\n",
      "  - Bond Polarity: Polar Covalent\n",
      "  - Polarity: Nonpolar\n",
      "  - Max Bond ΔEN: 0.97\n",
      "\n",
      "------------------------------\n",
      "\n",
      "--- Analysis for CF2Br2 ---\n",
      "  - Central Atom: C\n",
      "  - Bonding Pairs: 4 | Lone Pairs: 0\n",
      "  - Electron Geometry: Tetrahedral\n",
      "  - Molecular Geometry: Tetrahedral\n",
      "  - Symmetry: Asymmetrical\n",
      "  - Bond Polarity: Polar Covalent\n",
      "  - Polarity: Polar\n",
      "  - Max Bond ΔEN: 1.43\n",
      "\n",
      "------------------------------\n",
      "\n",
      "--- Analysis for CO2 ---\n",
      "  - Central Atom: C\n",
      "  - Bonding Pairs: 2 | Lone Pairs: 0\n",
      "  - Electron Geometry: Linear\n",
      "  - Molecular Geometry: Linear\n",
      "  - Symmetry: Symmetrical\n",
      "  - Bond Polarity: Polar Covalent\n",
      "  - Polarity: Nonpolar\n",
      "  - Max Bond ΔEN: 0.89\n",
      "\n",
      "------------------------------\n",
      "\n",
      "Could not analyze HCN: Geometry for 1 domains with -1 lone pairs is not defined.\n",
      "\n",
      "------------------------------\n",
      "\n"
     ]
    }
   ],
   "source": [
    "molecules = [\"PCl3\", \"PCl5\", \"CF2Br2\" , \"CO2\" , \"HCN\"]\n",
    "for molecule in molecules:\n",
    "    print(ms.analyze_molecular_properties(molecule))\n",
    "    print(\"\\n\" + \"-\"*30 + \"\\n\")"
   ]
  },
  {
   "cell_type": "markdown",
   "id": "a817029a",
   "metadata": {},
   "source": [
    "# Find the largest dipole"
   ]
  },
  {
   "cell_type": "code",
   "execution_count": 18,
   "id": "a5e971dc",
   "metadata": {},
   "outputs": [
    {
     "name": "stdout",
     "output_type": "stream",
     "text": [
      "--- Polarity Analysis Report ---\n",
      "\n",
      "--- Analysis for CHCl3 ---\n",
      "  - Central Atom: C\n",
      "  - Bonding Pairs: 4 | Lone Pairs: 0\n",
      "  - Electron Geometry: Tetrahedral\n",
      "  - Molecular Geometry: Tetrahedral\n",
      "  - Symmetry: Asymmetrical\n",
      "  - Bond Polarity: Polar Covalent\n",
      "  - Polarity: Polar\n",
      "  - Max Bond ΔEN: 0.61\n",
      "\n",
      "--- Analysis for CCl4 ---\n",
      "  - Central Atom: C\n",
      "  - Bonding Pairs: 4 | Lone Pairs: 0\n",
      "  - Electron Geometry: Tetrahedral\n",
      "  - Molecular Geometry: Tetrahedral\n",
      "  - Symmetry: Symmetrical\n",
      "  - Bond Polarity: Polar Covalent\n",
      "  - Polarity: Nonpolar\n",
      "  - Max Bond ΔEN: 0.61\n",
      "\n",
      "--- Analysis for CHF3 ---\n",
      "  - Central Atom: C\n",
      "  - Bonding Pairs: 4 | Lone Pairs: 0\n",
      "  - Electron Geometry: Tetrahedral\n",
      "  - Molecular Geometry: Tetrahedral\n",
      "  - Symmetry: Asymmetrical\n",
      "  - Bond Polarity: Polar Covalent\n",
      "  - Polarity: Polar\n",
      "  - Max Bond ΔEN: 1.43\n",
      "\n",
      "--- Analysis for CF4 ---\n",
      "  - Central Atom: C\n",
      "  - Bonding Pairs: 4 | Lone Pairs: 0\n",
      "  - Electron Geometry: Tetrahedral\n",
      "  - Molecular Geometry: Tetrahedral\n",
      "  - Symmetry: Symmetrical\n",
      "  - Bond Polarity: Polar Covalent\n",
      "  - Polarity: Nonpolar\n",
      "  - Max Bond ΔEN: 1.43\n",
      "\n",
      "--- Conclusion ---\n",
      "Based on the largest electronegativity difference (ΔEN = 1.43),\n",
      "the molecule with the largest net dipole moment is CHF3.\n"
     ]
    }
   ],
   "source": [
    "# --- Define the list of molecules to compare ---\n",
    "molecules_to_compare = [\"CHCl3\", \"CCl4\", \"CHF3\", \"CF4\"]\n",
    "\n",
    "# --- Run the analysis ---\n",
    "report = ms.find_most_polar_molecule(molecules_to_compare)\n",
    "\n",
    "print(report)\n"
   ]
  },
  {
   "cell_type": "code",
   "execution_count": 19,
   "id": "1b9e4495",
   "metadata": {},
   "outputs": [
    {
     "name": "stdout",
     "output_type": "stream",
     "text": [
      "--- Analysis for SiO2 ---\n",
      "  - Central Atom: Si\n",
      "  - Bonding Pairs: 2 | Lone Pairs: 0\n",
      "  - Electron Geometry: Linear\n",
      "  - Molecular Geometry: Linear\n",
      "  - Symmetry: Symmetrical\n",
      "  - Bond Polarity: Polar Covalent\n",
      "  - Polarity: Nonpolar\n",
      "  - Max Bond ΔEN: 1.54\n"
     ]
    }
   ],
   "source": [
    "print(ms.analyze_molecular_properties(\"SiO2\"))"
   ]
  },
  {
   "cell_type": "markdown",
   "id": "b498b953",
   "metadata": {},
   "source": [
    "# Rank by increasing ionic character"
   ]
  },
  {
   "cell_type": "code",
   "execution_count": 20,
   "id": "c54e16f1",
   "metadata": {},
   "outputs": [
    {
     "name": "stdout",
     "output_type": "stream",
     "text": [
      "The compounds in order of increasing ionic character are:\n",
      "CuS < HF < MgO < CaO < KF\n"
     ]
    }
   ],
   "source": [
    "# --- Compounds from the problem ---\n",
    "compounds_to_rank = [\"HF\", \"CaO\", \"CuS\", \"KF\", \"MgO\"]\n",
    "\n",
    "# --- Calculation ---\n",
    "ranked_order = ms.rank_by_ionic_character(compounds_to_rank)\n",
    "\n",
    "# --- Display the result ---\n",
    "print(\"The compounds in order of increasing ionic character are:\")\n",
    "print(ranked_order)\n"
   ]
  },
  {
   "cell_type": "code",
   "execution_count": null,
   "id": "e8916a8e",
   "metadata": {},
   "outputs": [],
   "source": []
  }
 ],
 "metadata": {
  "kernelspec": {
   "display_name": "KEMI",
   "language": "python",
   "name": "python3"
  },
  "language_info": {
   "codemirror_mode": {
    "name": "ipython",
    "version": 3
   },
   "file_extension": ".py",
   "mimetype": "text/x-python",
   "name": "python",
   "nbconvert_exporter": "python",
   "pygments_lexer": "ipython3",
   "version": "3.13.5"
  }
 },
 "nbformat": 4,
 "nbformat_minor": 5
}
