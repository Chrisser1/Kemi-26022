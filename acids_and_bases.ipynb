{
 "cells": [
  {
   "cell_type": "code",
   "execution_count": 1,
   "id": "25b6e1fb",
   "metadata": {},
   "outputs": [],
   "source": [
    "import acids_and_bases as ab\n",
    "from compound import Compound\n",
    "import math"
   ]
  },
  {
   "cell_type": "markdown",
   "id": "cc99cbf7",
   "metadata": {},
   "source": [
    "# Describe the relative acidity or basicity of a solution"
   ]
  },
  {
   "cell_type": "code",
   "execution_count": 2,
   "id": "738f1884",
   "metadata": {},
   "outputs": [
    {
     "name": "stdout",
     "output_type": "stream",
     "text": [
      "The pOH is 1.0 and the pH is 13.0. The solution is highly basic.\n"
     ]
    }
   ],
   "source": [
    "# --- Given values ---\n",
    "oh_conc = 1e-1  # M\n",
    "\n",
    "# --- Analysis ---\n",
    "solution_description = ab.describe_solution_from_oh(oh_conc)\n",
    "\n",
    "print(solution_description)"
   ]
  },
  {
   "cell_type": "markdown",
   "id": "b0ccb124",
   "metadata": {},
   "source": [
    "# Calculate pH based on ion concentration"
   ]
  },
  {
   "cell_type": "code",
   "execution_count": 3,
   "id": "d067c1a2",
   "metadata": {},
   "outputs": [
    {
     "name": "stdout",
     "output_type": "stream",
     "text": [
      "The pH of the solution is 5.10\n"
     ]
    }
   ],
   "source": [
    "# --- Given values ---\n",
    "h_ion_concentration = 7.9e-6  # M\n",
    "\n",
    "# --- Calculation ---\n",
    "pH_value = ab.calculate_pH(h_ion_concentration)\n",
    "\n",
    "print(f\"The pH of the solution is {pH_value:.2f}\")\n"
   ]
  },
  {
   "cell_type": "markdown",
   "id": "059961b2",
   "metadata": {},
   "source": [
    "# Salt is acidic"
   ]
  },
  {
   "cell_type": "code",
   "execution_count": 4,
   "id": "09dc1352",
   "metadata": {},
   "outputs": [
    {
     "name": "stdout",
     "output_type": "stream",
     "text": [
      "--- Salt Acidity Analysis ---\n",
      "Potassium Formate (KCHO2): Basic\n",
      "Potassium Bromide (KBr): Neutral\n",
      "Ammonium Bromide (NH4Br): Acidic\n"
     ]
    }
   ],
   "source": [
    "# --- Salts from the question ---\n",
    "# Note: The formulas in the image had typos. Using correct formulas.\n",
    "salts_to_test = {\n",
    "    \"Potassium Formate\": \"KCHO2\", # Corrected from KCO₂H\n",
    "    \"Potassium Bromide\": \"KBr\",\n",
    "    \"Ammonium Bromide\": \"NH4Br\"\n",
    "}\n",
    "\n",
    "# --- Analysis ---\n",
    "print(\"--- Salt Acidity Analysis ---\")\n",
    "for name, formula in salts_to_test.items():\n",
    "    acidity = ab.predict_salt_acidity(formula)\n",
    "    print(f\"{name} ({formula}): {acidity}\")\n"
   ]
  },
  {
   "cell_type": "markdown",
   "id": "7e5207fb",
   "metadata": {},
   "source": [
    "# Rank oxyacids"
   ]
  },
  {
   "cell_type": "code",
   "execution_count": 5,
   "id": "02851d6c",
   "metadata": {},
   "outputs": [
    {
     "name": "stdout",
     "output_type": "stream",
     "text": [
      "The order of oxyacids from strongest to weakest is:\n",
      "HClO > HBrO > HIO\n"
     ]
    }
   ],
   "source": [
    "# --- Acids to compare ---\n",
    "oxyacids = [\"HBrO\", \"HIO\", \"HClO\"]\n",
    "\n",
    "# --- Get the ranking ---\n",
    "ranking = ab.rank_oxyacids_by_strength(oxyacids)\n",
    "\n",
    "print(\"The order of oxyacids from strongest to weakest is:\")\n",
    "print(ranking)\n"
   ]
  },
  {
   "cell_type": "code",
   "execution_count": 6,
   "id": "d104bae5",
   "metadata": {},
   "outputs": [
    {
     "name": "stdout",
     "output_type": "stream",
     "text": [
      "Could not process HC2ClH2O2: Electronegativity for 'C2Cl22' not found.\n",
      "Could not process HC2BrH2O2: Electronegativity for 'C2Br22' not found.\n",
      "Could not process HC2FH2O2: Electronegativity for 'C2F22' not found.\n",
      "The order of oxyacids from strongest to weakest is:\n",
      "\n"
     ]
    }
   ],
   "source": [
    "# --- Acids to compare ---\n",
    "oxyacids = [\"HC2ClH2O2\", \"HC2BrH2O2\", \"HC2FH2O2\"]\n",
    "\n",
    "# --- Get the ranking ---\n",
    "ranking = ab.rank_oxyacids_by_strength(oxyacids)\n",
    "\n",
    "print(\"The order of oxyacids from strongest to weakest is:\")\n",
    "print(ranking)\n"
   ]
  },
  {
   "cell_type": "markdown",
   "id": "53dbbfa1",
   "metadata": {},
   "source": [
    "# hydroxide ion concentration based on concentration of h+"
   ]
  },
  {
   "cell_type": "code",
   "execution_count": 7,
   "id": "c5d72421",
   "metadata": {},
   "outputs": [
    {
     "name": "stdout",
     "output_type": "stream",
     "text": [
      "The hydroxide ion concentration is 1e-12 M\n"
     ]
    }
   ],
   "source": [
    "# --- Given values ---\n",
    "h_conc = 1e-2  # M\n",
    "\n",
    "# --- Calculation ---\n",
    "oh_conc = ab.calculate_hydroxide_from_hydronium(h_conc)\n",
    "\n",
    "print(f\"The hydroxide ion concentration is {oh_conc:.0e} M\")\n"
   ]
  },
  {
   "cell_type": "markdown",
   "id": "e986db02",
   "metadata": {},
   "source": [
    "# hydroxide ion concentration based on pOH"
   ]
  },
  {
   "cell_type": "code",
   "execution_count": 8,
   "id": "0f8d3b1f",
   "metadata": {},
   "outputs": [
    {
     "name": "stdout",
     "output_type": "stream",
     "text": [
      "The hydroxide ion concentration is 2.5e-06 M\n"
     ]
    }
   ],
   "source": [
    "# --- Given values ---\n",
    "pOH_value = 5.60\n",
    "\n",
    "# --- Calculation ---\n",
    "hydroxide_concentration = ab.calculate_hydroxide_from_pOH(pOH_value)\n",
    "\n",
    "print(f\"The hydroxide ion concentration is {hydroxide_concentration:.1e} M\")"
   ]
  },
  {
   "cell_type": "markdown",
   "id": "806bc9e6",
   "metadata": {},
   "source": [
    "# Weak Acid Equilibrium (ICE Table)"
   ]
  },
  {
   "cell_type": "markdown",
   "id": "cfbf1565",
   "metadata": {},
   "source": [
    "## pH"
   ]
  },
  {
   "cell_type": "code",
   "execution_count": 9,
   "id": "a67aa9ab",
   "metadata": {},
   "outputs": [
    {
     "name": "stdout",
     "output_type": "stream",
     "text": [
      "The pH of the solution is 3.8\n"
     ]
    }
   ],
   "source": [
    "# --- Given values ---\n",
    "initial_concentration = 0.0480 # M\n",
    "Ka_carbonic_acid = 4.30e-7\n",
    "\n",
    "# --- Calculation ---\n",
    "pH = ab.calculate_weak_acid_ph(initial_concentration, Ka_carbonic_acid)\n",
    "\n",
    "print(f\"The pH of the solution is {pH:.1f}\")"
   ]
  },
  {
   "cell_type": "markdown",
   "id": "b280e387",
   "metadata": {},
   "source": [
    "## pOH"
   ]
  },
  {
   "cell_type": "code",
   "execution_count": 10,
   "id": "7d7b4634",
   "metadata": {},
   "outputs": [
    {
     "name": "stdout",
     "output_type": "stream",
     "text": [
      "The pOH of the solution is 2.6\n"
     ]
    }
   ],
   "source": [
    "# --- Given values ---\n",
    "initial_concentration = 0.31 # M\n",
    "Kb_ammonia = 1.8e-5\n",
    "\n",
    "# --- Calculation ---\n",
    "pOH = ab.calculate_weak_base_pOH(initial_concentration, Kb_ammonia)\n",
    "\n",
    "print(f\"The pOH of the solution is {pOH:.1f}\")\n"
   ]
  },
  {
   "cell_type": "markdown",
   "id": "6c422abd",
   "metadata": {},
   "source": [
    "## Concentration"
   ]
  },
  {
   "cell_type": "code",
   "execution_count": 11,
   "id": "e2dae8d5",
   "metadata": {},
   "outputs": [
    {
     "name": "stdout",
     "output_type": "stream",
     "text": [
      "The equilibrium concentration of HS⁻ is 5.70e-05 M\n"
     ]
    }
   ],
   "source": [
    "# --- Given values ---\n",
    "initial_conc_h2s = 0.0250 # M\n",
    "Ka_h2s = 1.30e-7\n",
    "\n",
    "# --- Calculation ---\n",
    "eq_concentrations = ab.calculate_weak_acid_dissociation(initial_conc_h2s, Ka_h2s)\n",
    "\n",
    "# The concentration of HS⁻ is the value for the conjugate base, A⁻\n",
    "hs_concentration = eq_concentrations[\"A-\"]\n",
    "\n",
    "print(f\"The equilibrium concentration of HS⁻ is {hs_concentration:.2e} M\")"
   ]
  },
  {
   "cell_type": "markdown",
   "id": "0007002d",
   "metadata": {},
   "source": [
    "# Convert K_b to K_a"
   ]
  },
  {
   "cell_type": "code",
   "execution_count": 12,
   "id": "3a66cd89",
   "metadata": {},
   "outputs": [
    {
     "name": "stdout",
     "output_type": "stream",
     "text": [
      "The Ka for lactic acid is 1.4e-04\n"
     ]
    }
   ],
   "source": [
    "# --- Given values ---\n",
    "# This is the Kb for the lactate ion (conjugate base of lactic acid)\n",
    "kb_lactate = 7.1e-11\n",
    "\n",
    "# --- Calculation ---\n",
    "# We calculate the Ka of its conjugate acid (lactic acid)\n",
    "ka_lactic_acid = ab.convert_ka_kb(kb_lactate)\n",
    "\n",
    "print(f\"The Ka for lactic acid is {ka_lactic_acid:.1e}\")"
   ]
  },
  {
   "cell_type": "markdown",
   "id": "5fba9c5d",
   "metadata": {},
   "source": [
    "# Convert K_a to K_b"
   ]
  },
  {
   "cell_type": "code",
   "execution_count": 13,
   "id": "53715852",
   "metadata": {},
   "outputs": [
    {
     "name": "stdout",
     "output_type": "stream",
     "text": [
      "The Kb for the formate ion is 5.6e-11\n"
     ]
    }
   ],
   "source": [
    "# --- Given values ---\n",
    "ka_formic_acid = 1.8e-4\n",
    "\n",
    "# --- Calculation ---\n",
    "# We calculate the Kb of its conjugate base (formate)\n",
    "kb_formate = ab.convert_ka_kb(ka_formic_acid)\n",
    "\n",
    "print(f\"The Kb for the formate ion is {kb_formate:.1e}\")"
   ]
  },
  {
   "cell_type": "code",
   "execution_count": 14,
   "id": "a75e0445",
   "metadata": {},
   "outputs": [
    {
     "name": "stdout",
     "output_type": "stream",
     "text": [
      "The Kb for the formate ion is 1.6e-05\n"
     ]
    }
   ],
   "source": [
    "# --- Given values ---\n",
    "ka_formic_acid = 6.2e-10\n",
    "\n",
    "# --- Calculation ---\n",
    "# We calculate the Kb of its conjugate base (formate)\n",
    "kb_formate = ab.convert_ka_kb(ka_formic_acid)\n",
    "\n",
    "print(f\"The Kb for the formate ion is {kb_formate:.1e}\")"
   ]
  },
  {
   "cell_type": "code",
   "execution_count": 15,
   "id": "95e35c3d",
   "metadata": {},
   "outputs": [
    {
     "name": "stdout",
     "output_type": "stream",
     "text": [
      "The Kb for the formate ion is 1.4e-05\n"
     ]
    }
   ],
   "source": [
    "# --- Given values ---\n",
    "ka_formic_acid = 7.1e-10\n",
    "\n",
    "# --- Calculation ---\n",
    "# We calculate the Kb of its conjugate base (formate)\n",
    "kb_formate = ab.convert_ka_kb(ka_formic_acid)\n",
    "\n",
    "print(f\"The Kb for the formate ion is {kb_formate:.1e}\")"
   ]
  },
  {
   "cell_type": "markdown",
   "id": "5c17393c",
   "metadata": {},
   "source": [
    "# Molarity of a solution titration"
   ]
  },
  {
   "cell_type": "code",
   "execution_count": 16,
   "id": "c6b64821",
   "metadata": {},
   "outputs": [
    {
     "name": "stdout",
     "output_type": "stream",
     "text": [
      "The molarity of the HNO3 solution is 0.350 M\n"
     ]
    }
   ],
   "source": [
    "# --- Given values ---\n",
    "acid = \"HNO3\"\n",
    "base = \"Ca(OH)2\"\n",
    "\n",
    "# --- Calculation ---\n",
    "# We are solving for the Molarity of the Acid (Ma)\n",
    "result = ab.solve_titration(\n",
    "    Ma=None,      # The unknown value\n",
    "    Va_mL=25.0,\n",
    "    na=1,         # HNO3 donates 1 proton\n",
    "    Mb=0.175,\n",
    "    Vb_mL=25.0,\n",
    "    nb=2          # Ca(OH)2 accepts 2 protons\n",
    ")\n",
    "\n",
    "conc_acid = result['Ma'] # Extract the result from the dictionary\n",
    "print(f\"The molarity of the {acid} solution is {conc_acid:.3f} M\")"
   ]
  },
  {
   "cell_type": "code",
   "execution_count": 17,
   "id": "4fd33744",
   "metadata": {},
   "outputs": [
    {
     "name": "stdout",
     "output_type": "stream",
     "text": [
      "The concentration of the LiOH solution is 2.4 M\n"
     ]
    }
   ],
   "source": [
    "# --- Given values ---\n",
    "acid = \"H2SO4\"\n",
    "base = \"LiOH\"\n",
    "\n",
    "# --- Calculation ---\n",
    "# We are solving for the Molarity of the Base (Mb)\n",
    "result = ab.solve_titration(\n",
    "    Ma=3.2,\n",
    "    Va_mL=13.1,\n",
    "    na=2,         # H2SO4 donates 2 protons\n",
    "    Mb=None,      # The unknown value\n",
    "    Vb_mL=35,\n",
    "    nb=1          # LiOH accepts 1 proton\n",
    ")\n",
    "\n",
    "conc_base = result['Mb'] # Extract the result\n",
    "print(f\"The concentration of the {base} solution is {conc_base:.1f} M\")"
   ]
  },
  {
   "cell_type": "code",
   "execution_count": 18,
   "id": "7142a692",
   "metadata": {},
   "outputs": [
    {
     "name": "stdout",
     "output_type": "stream",
     "text": [
      "The concentration of the HCl solution is 2.63 M\n"
     ]
    }
   ],
   "source": [
    "# --- Given values ---\n",
    "acid = \"HCl\"\n",
    "base = \"KOH\"\n",
    "\n",
    "# --- Calculation ---\n",
    "# We are solving for the Molarity of the Acid (Ma)\n",
    "result = ab.solve_titration(\n",
    "    Ma=None,      # The unknown value\n",
    "    Va_mL=20.0,\n",
    "    na=1,         # HCl donates 1 proton\n",
    "    Mb=1.15,\n",
    "    Vb_mL=45.8,\n",
    "    nb=1          # KOH accepts 1 proton\n",
    ")\n",
    "\n",
    "conc_acid = result['Ma'] # Extract the result\n",
    "print(f\"The concentration of the {acid} solution is {conc_acid:.2f} M\")"
   ]
  },
  {
   "cell_type": "code",
   "execution_count": 19,
   "id": "3e25071f",
   "metadata": {},
   "outputs": [
    {
     "name": "stdout",
     "output_type": "stream",
     "text": [
      "The required volume of HCl is 17.6 mL\n"
     ]
    }
   ],
   "source": [
    "# Solve for the volume of the acid (Va_mL)\n",
    "result = ab.solve_titration(\n",
    "    Ma=1.25,      # Molarity of HCl\n",
    "    Va_mL=None,   # We want to find this value\n",
    "    na=1,         # HCl donates 1 proton\n",
    "    Mb=1.75,      # Molarity of the base\n",
    "    Vb_mL=12.58,  # Volume of the base\n",
    "    nb=1          # For the FIRST equivalence point, the base accepts 1 proton\n",
    ")\n",
    "\n",
    "acid_volume = result['Va_mL']\n",
    "print(f\"The required volume of HCl is {acid_volume:.1f} mL\")"
   ]
  },
  {
   "cell_type": "markdown",
   "id": "20bdd3f6",
   "metadata": {},
   "source": [
    "# [H3O+] of a solution"
   ]
  },
  {
   "cell_type": "code",
   "execution_count": 20,
   "id": "15c20c8b",
   "metadata": {},
   "outputs": [
    {
     "name": "stdout",
     "output_type": "stream",
     "text": [
      "The [H₃O⁺] of the solution is 4.2e-04 M\n"
     ]
    }
   ],
   "source": [
    "# --- Given values ---\n",
    "Ka_HF = 6.3e-4\n",
    "conc_HF = 0.500\n",
    "conc_NaF = 0.750\n",
    "\n",
    "# --- Calculation ---\n",
    "h3o_concentration = ab.calculate_buffer_h3o_conc(Ka_HF, conc_HF, conc_NaF)\n",
    "\n",
    "print(f\"The [H₃O⁺] of the solution is {h3o_concentration:.1e} M\")\n"
   ]
  },
  {
   "cell_type": "code",
   "execution_count": 21,
   "id": "4e41171e",
   "metadata": {},
   "outputs": [
    {
     "name": "stdout",
     "output_type": "stream",
     "text": [
      "The order of increasing acid strength is:\n",
      "HC2FH2O2 < HC2F2HO2 < HC2F3O2\n"
     ]
    }
   ],
   "source": [
    "# --- Acids to compare ---\n",
    "acids = [\"HC2F3O2\", \"HC2FH2O2\", \"HC2F2HO2\"]\n",
    "\n",
    "# --- Get the ranking ---\n",
    "ranking = ab.rank_acids_by_inductive_effect(acids)\n",
    "\n",
    "print(\"The order of increasing acid strength is:\")\n",
    "print(ranking)"
   ]
  },
  {
   "cell_type": "markdown",
   "id": "5b3ce718",
   "metadata": {},
   "source": [
    "# Moles based on volume and moles"
   ]
  },
  {
   "cell_type": "code",
   "execution_count": 22,
   "id": "65cde7bc",
   "metadata": {},
   "outputs": [
    {
     "name": "stdout",
     "output_type": "stream",
     "text": [
      "The moles of LiOH in the sample are 0.00300 mol\n"
     ]
    }
   ],
   "source": [
    "# --- Given values ---\n",
    "molarity_hcl = 0.200  # M\n",
    "volume_hcl_mL = 15.0  # mL\n",
    "\n",
    "# The mole ratio from the balanced equation (1 mol LiOH / 1 mol HCl) is 1\n",
    "mole_ratio = 1\n",
    "\n",
    "# --- Calculation ---\n",
    "# 1. Calculate moles of HCl used\n",
    "moles_hcl = molarity_hcl * (volume_hcl_mL / 1000)\n",
    "\n",
    "# 2. Use the mole ratio to find moles of LiOH\n",
    "moles_lih = moles_hcl * mole_ratio\n",
    "\n",
    "print(f\"The moles of LiOH in the sample are {moles_lih:.5f} mol\")"
   ]
  },
  {
   "cell_type": "markdown",
   "id": "37d609fe",
   "metadata": {},
   "source": [
    "# Calculate pH of a buffer"
   ]
  },
  {
   "cell_type": "code",
   "execution_count": 23,
   "id": "8877f566",
   "metadata": {},
   "outputs": [
    {
     "name": "stdout",
     "output_type": "stream",
     "text": [
      "The pH of the buffer is 6.07\n"
     ]
    }
   ],
   "source": [
    "# --- Given values ---\n",
    "pKa_carbonic_acid = 6.37\n",
    "conc_acid = 0.20   # M of H₂CO₃\n",
    "conc_base = 0.10   # M of NaHCO₃\n",
    "\n",
    "# --- Calculation ---\n",
    "pH = ab.calculate_buffer_ph_from_pka(pKa_carbonic_acid, conc_acid, conc_base)\n",
    "\n",
    "print(f\"The pH of the buffer is {pH:.2f}\")"
   ]
  },
  {
   "cell_type": "code",
   "execution_count": 24,
   "id": "3bdc971c",
   "metadata": {},
   "outputs": [
    {
     "name": "stdout",
     "output_type": "stream",
     "text": [
      "The pH of the buffer solution is 4.74\n"
     ]
    }
   ],
   "source": [
    "\n",
    "# --- Given values ---\n",
    "# Define compounds to get their molar mass\n",
    "acetic_acid = Compound(\"HC2H3O2\") # Formula for acetic acid\n",
    "sodium_acetate = Compound(\"NaC2H3O2\") # Formula for sodium acetate\n",
    "\n",
    "# Set the mass for each to calculate moles\n",
    "acetic_acid.set_mass(15.01)\n",
    "sodium_acetate.set_mass(20.51)\n",
    "\n",
    "# Set the volume to calculate concentration\n",
    "solution_volume = 1.00 # L\n",
    "acetic_acid.set_volume(solution_volume)\n",
    "sodium_acetate.set_volume(solution_volume)\n",
    "\n",
    "# Ka value\n",
    "Ka_acetic_acid = 1.80e-5\n",
    "\n",
    "# --- Calculation ---\n",
    "pH = ab.calculate_buffer_pH(\n",
    "    Ka=Ka_acetic_acid,\n",
    "    conc_acid=acetic_acid.molarity_M,\n",
    "    conc_base=sodium_acetate.molarity_M\n",
    ")\n",
    "\n",
    "print(f\"The pH of the buffer solution is {pH:.2f}\")"
   ]
  },
  {
   "cell_type": "code",
   "execution_count": 25,
   "id": "ca5e145a",
   "metadata": {},
   "outputs": [
    {
     "name": "stdout",
     "output_type": "stream",
     "text": [
      "The calculated pH of the buffer solution is 4.82\n"
     ]
    }
   ],
   "source": [
    "# --- 1. Define the components and their properties ---\n",
    "# Acetic Acid (the weak acid)\n",
    "acetic_acid = Compound(\"CH3COOH\")\n",
    "acetic_acid.set_mass(37.95)\n",
    "\n",
    "# Sodium Acetate (the conjugate base)\n",
    "sodium_acetate = Compound(\"NaC2H3O2\")\n",
    "sodium_acetate.set_mass(61.11)\n",
    "\n",
    "# Set the solution volume for both to calculate molarity\n",
    "solution_volume_L = 0.500  # 500.0 mL\n",
    "acetic_acid.set_volume(solution_volume_L)\n",
    "sodium_acetate.set_volume(solution_volume_L)\n",
    "\n",
    "# Ka value from the problem\n",
    "Ka_acetic_acid = 1.8e-5\n",
    "\n",
    "# --- 2. Use your function to calculate the buffer pH ---\n",
    "buffer_ph = ab.calculate_buffer_pH(\n",
    "    Ka=Ka_acetic_acid,\n",
    "    conc_acid=acetic_acid.molarity_M,\n",
    "    conc_base=sodium_acetate.molarity_M\n",
    ")\n",
    "\n",
    "print(f\"The calculated pH of the buffer solution is {buffer_ph:.2f}\")"
   ]
  },
  {
   "cell_type": "code",
   "execution_count": 26,
   "id": "4a94757a",
   "metadata": {},
   "outputs": [
    {
     "name": "stdout",
     "output_type": "stream",
     "text": [
      "The calculated pH of the buffer solution is 4.82\n"
     ]
    }
   ],
   "source": [
    "# --- 1. Define the components and their properties ---\n",
    "# Acetic Acid (the weak acid)\n",
    "acetic_acid = Compound(\"CH3COOH\")\n",
    "acetic_acid.set_mass(37.95)\n",
    "\n",
    "# Sodium Acetate (the conjugate base)\n",
    "sodium_acetate = Compound(\"NaC2H3O2\")\n",
    "sodium_acetate.set_mass(61.11)\n",
    "\n",
    "# Set the solution volume for both to calculate molarity\n",
    "solution_volume_L = 0.500  # 500.0 mL\n",
    "acetic_acid.set_volume(solution_volume_L)\n",
    "sodium_acetate.set_volume(solution_volume_L)\n",
    "\n",
    "# Ka value from the problem\n",
    "Ka_acetic_acid = 1.8e-5\n",
    "\n",
    "# --- 2. Use your function to calculate the buffer pH ---\n",
    "buffer_ph = ab.calculate_buffer_pH(\n",
    "    Ka=Ka_acetic_acid,\n",
    "    conc_acid=acetic_acid.molarity_M,\n",
    "    conc_base=sodium_acetate.molarity_M\n",
    ")\n",
    "\n",
    "print(f\"The calculated pH of the buffer solution is {buffer_ph:.2f}\")"
   ]
  },
  {
   "cell_type": "code",
   "execution_count": 27,
   "id": "7c19f776",
   "metadata": {},
   "outputs": [
    {
     "name": "stdout",
     "output_type": "stream",
     "text": [
      "The calculated pH of the buffer solution is 4.01\n"
     ]
    }
   ],
   "source": [
    "# --- Given values from the problem ---\n",
    "ka_lactic_acid = 1.4e-4\n",
    "mass_acid = 41.80\n",
    "fm_acid = 90.08\n",
    "mass_base = 75.30\n",
    "fm_base = 112.06\n",
    "\n",
    "# --- Use the new function to calculate the pH ---\n",
    "buffer_ph = ab.calculate_buffer_ph_from_mass(\n",
    "    Ka=ka_lactic_acid,\n",
    "    mass_acid_g=mass_acid,\n",
    "    fm_acid=fm_acid,\n",
    "    mass_base_g=mass_base,\n",
    "    fm_base=fm_base\n",
    ")\n",
    "\n",
    "print(f\"The calculated pH of the buffer solution is {buffer_ph:.2f}\")"
   ]
  },
  {
   "cell_type": "markdown",
   "id": "c00bfe3c",
   "metadata": {},
   "source": [
    "# Calculate pka from buffer, ph and moles"
   ]
  },
  {
   "cell_type": "code",
   "execution_count": 28,
   "id": "40784a64",
   "metadata": {},
   "outputs": [
    {
     "name": "stdout",
     "output_type": "stream",
     "text": [
      "The pKa of the acid is 4.77\n"
     ]
    }
   ],
   "source": [
    "# --- Given values ---\n",
    "pH_buffer = 4.41\n",
    "conc_acid = 0.32  # M\n",
    "conc_base = 0.14  # M\n",
    "\n",
    "# --- Calculation ---\n",
    "pKa_acid = ab.calculate_pka_from_buffer_ph(pH_buffer, conc_acid, conc_base)\n",
    "\n",
    "print(f\"The pKa of the acid is {pKa_acid:.2f}\")"
   ]
  },
  {
   "cell_type": "code",
   "execution_count": 29,
   "id": "9b133604",
   "metadata": {},
   "outputs": [
    {
     "name": "stdout",
     "output_type": "stream",
     "text": [
      "The pKa of the acid is 4.25\n"
     ]
    }
   ],
   "source": [
    "# --- Given values ---\n",
    "pH_buffer = 3.95\n",
    "conc_acid = 0.50  # M\n",
    "conc_base = 0.25  # M\n",
    "\n",
    "# --- Calculation ---\n",
    "pKa_acid = ab.calculate_pka_from_buffer_ph(pH_buffer, conc_acid, conc_base)\n",
    "\n",
    "print(f\"The pKa of the acid is {pKa_acid:.2f}\")"
   ]
  },
  {
   "cell_type": "markdown",
   "id": "650e4c90",
   "metadata": {},
   "source": [
    "# FiRE table and concentration of weak acid and conjugate base after acid addition"
   ]
  },
  {
   "cell_type": "code",
   "execution_count": 30,
   "id": "983ee3aa",
   "metadata": {},
   "outputs": [
    {
     "name": "stdout",
     "output_type": "stream",
     "text": [
      "--- Initial Moles for FIRE Table ---\n",
      "Initial Moles of HClO (Acid): 1.275 mol\n",
      "Initial Moles of ClO⁻ (Base): 1.402 mol\n",
      "Initial Moles of OH⁻ (Added): 0.125 mol\n",
      "-----------------------------------\n"
     ]
    }
   ],
   "source": [
    "import acids_and_bases as ab\n",
    "\n",
    "# --- Part 1: Directly Answer the Question (Calculate Initial Moles) ---\n",
    "# This is what you need to solve the problem in the image.\n",
    "\n",
    "# Given values from the image\n",
    "vol_buffer_L = 0.850  # 850. mL\n",
    "conc_acid_M = 1.50   # M of HClO\n",
    "conc_base_M = 1.65   # M of ClO-\n",
    "\n",
    "vol_added_L = 0.050  # 50.0 mL\n",
    "conc_added_M = 2.50   # M of KOH\n",
    "\n",
    "# Calculate the initial moles of each component\n",
    "initial_moles_acid = vol_buffer_L * conc_acid_M\n",
    "initial_moles_base = vol_buffer_L * conc_base_M\n",
    "initial_moles_added = vol_added_L * conc_added_M\n",
    "\n",
    "print(\"--- Initial Moles for FIRE Table ---\")\n",
    "print(f\"Initial Moles of HClO (Acid): {initial_moles_acid:.3f} mol\")\n",
    "print(f\"Initial Moles of ClO⁻ (Base): {initial_moles_base:.3f} mol\")\n",
    "print(f\"Initial Moles of OH⁻ (Added): {initial_moles_added:.3f} mol\")\n",
    "print(\"-\" * 35)"
   ]
  },
  {
   "cell_type": "markdown",
   "id": "7168d1cc",
   "metadata": {},
   "source": [
    "# Compare buffer capacity"
   ]
  },
  {
   "cell_type": "code",
   "execution_count": null,
   "id": "fc9717df",
   "metadata": {},
   "outputs": [
    {
     "name": "stdout",
     "output_type": "stream",
     "text": [
      "--- Buffer Capacity Analysis ---\n",
      "\n",
      "| Buffer | Total Conc. (M) | Ratio [Base]/[Acid] |\n",
      "|:-------|:---------------:|:--------------------:|\n",
      "|   #1   |      0.138      |        1.06         |\n",
      "|   #2   |      1.025      |        0.18         |\n",
      "|   #3   |      0.497      |        0.53         |\n",
      "|   #4   |      1.260      |        1.02         |\n",
      "\n",
      "--- Conclusion ---\n",
      "Buffer #4 (0.625 M Acid / 0.635 M Base) has the greatest buffering capacity.\n",
      "This is because it has the highest concentration of buffer components while maintaining a ratio close to 1.\n"
     ]
    }
   ],
   "source": [
    "# Define the buffers from the question\n",
    "buffer_options = [\n",
    "    {'conc_acid': 0.067, 'conc_base': 0.071},\n",
    "    {'conc_acid': 0.867, 'conc_base': 0.158},\n",
    "    {'conc_acid': 0.324, 'conc_base': 0.173},\n",
    "    {'conc_acid': 0.625, 'conc_base': 0.635}\n",
    "]\n",
    "\n",
    "# Get the analysis\n",
    "analysis_report = ab.compare_buffer_capacities(buffer_options)\n",
    "print(analysis_report)"
   ]
  },
  {
   "cell_type": "code",
   "execution_count": 37,
   "id": "7540b98e",
   "metadata": {},
   "outputs": [
    {
     "name": "stdout",
     "output_type": "stream",
     "text": [
      "--- Buffer Capacity Analysis ---\n",
      "\n",
      "| Buffer | Total Conc. (M) | Ratio [Base]/[Acid] |\n",
      "|:-------|:---------------:|:--------------------:|\n",
      "|   #1   |      1.027      |        2.73         |\n",
      "|   #2   |      1.177      |        0.38         |\n",
      "|   #3   |      1.482      |        0.95         |\n",
      "|   #4   |      0.567      |        1.31         |\n",
      "\n",
      "--- Conclusion ---\n",
      "Buffer #3 (0.76 M Acid / 0.722 M Base) has the greatest buffering capacity.\n",
      "This is because it has the highest concentration of buffer components while maintaining a ratio close to 1.\n"
     ]
    }
   ],
   "source": [
    "# Define the buffers from the question\n",
    "buffer_options = [\n",
    "    {'conc_acid': 0.275, 'conc_base': 0.752},\n",
    "    {'conc_acid': 0.855, 'conc_base': 0.322},\n",
    "    {'conc_acid': 0.760, 'conc_base': 0.722},\n",
    "    {'conc_acid': 0.245, 'conc_base': 0.322}\n",
    "]\n",
    "\n",
    "# Get the analysis\n",
    "analysis_report = ab.compare_buffer_capacities(buffer_options)\n",
    "print(analysis_report)"
   ]
  },
  {
   "cell_type": "markdown",
   "id": "4119d30e",
   "metadata": {},
   "source": [
    "# pH at halfway to the first equivalence point"
   ]
  },
  {
   "cell_type": "code",
   "execution_count": 32,
   "id": "798f77cd",
   "metadata": {},
   "outputs": [
    {
     "name": "stdout",
     "output_type": "stream",
     "text": [
      "The pH at the halfway point to the first equivalence point is: 6.37\n"
     ]
    }
   ],
   "source": [
    "# Ka values for carbonic acid from the problem\n",
    "ka_values_h2co3 = [4.30e-7, 5.60e-11]\n",
    "\n",
    "# Calculate the pH at the first half-equivalence point\n",
    "ph_at_halfway = ab.titration_ph_at_half_equivalence(\n",
    "    Ka_values=ka_values_h2co3,\n",
    "    point_number=1\n",
    ")\n",
    "\n",
    "print(f\"The pH at the halfway point to the first equivalence point is: {ph_at_halfway:.2f}\")"
   ]
  },
  {
   "cell_type": "markdown",
   "id": "1227da7a",
   "metadata": {},
   "source": [
    "# Conjugate base is most suitable to prepare a buffer "
   ]
  },
  {
   "cell_type": "code",
   "execution_count": 33,
   "id": "5b383911",
   "metadata": {},
   "outputs": [
    {
     "name": "stdout",
     "output_type": "stream",
     "text": [
      "Finding the best acid for a buffer with pH = 4.5\n",
      "\n",
      "- acetic acid          | pKa = 4.74 | Difference = 0.24\n",
      "- tris                 | pKa = 8.07 | Difference = 3.57\n",
      "- ammonium chloride    | pKa = 9.25 | Difference = 4.75\n",
      "- boric acid           | pKa = 9.24 | Difference = 4.74\n",
      "\n",
      "Conclusion: Acetic acid is the most suitable choice.\n"
     ]
    }
   ],
   "source": [
    "# --- Given values from the question ---\n",
    "target_ph = 4.50\n",
    "acids = {\n",
    "    \"acetic acid\": 1.8e-5,\n",
    "    \"tris\": 8.5e-9,\n",
    "    \"ammonium chloride\": 5.6e-10,\n",
    "    \"boric acid\": 5.8e-10\n",
    "}\n",
    "\n",
    "best_acid = None\n",
    "smallest_difference = float('inf')\n",
    "\n",
    "print(f\"Finding the best acid for a buffer with pH = {target_ph}\\n\")\n",
    "\n",
    "for name, ka in acids.items():\n",
    "    pka = -math.log10(ka)\n",
    "    difference = abs(target_ph - pka)\n",
    "    \n",
    "    print(f\"- {name:<20} | pKa = {pka:.2f} | Difference = {difference:.2f}\")\n",
    "\n",
    "    if difference < smallest_difference:\n",
    "        smallest_difference = difference\n",
    "        best_acid = name\n",
    "\n",
    "print(f\"\\nConclusion: {best_acid.capitalize()} is the most suitable choice.\")"
   ]
  },
  {
   "cell_type": "markdown",
   "id": "3b40e61c",
   "metadata": {},
   "source": [
    "# Lewis Acid/Base Classification"
   ]
  },
  {
   "cell_type": "code",
   "execution_count": 34,
   "id": "d88c14a0",
   "metadata": {},
   "outputs": [
    {
     "name": "stdout",
     "output_type": "stream",
     "text": [
      "--- Lewis Acid/Base Classification ---\n",
      "Au1+  -> Lewis Acid (cation)\n",
      "CO2   -> Lewis Acid (central atom can accept e- pair)\n",
      "BF3   -> Lewis Acid (incomplete octet on B)\n",
      "H2O   -> Lewis Base (has lone pair(s) to donate)\n",
      "Au    -> Neither (neutral atom)\n"
     ]
    }
   ],
   "source": [
    "# List of formulas\n",
    "species_list = [\"Au\", \"CO2\", \"BF3\", \"H2O\", \"Au\"]\n",
    "\n",
    "# Create Compound objects from the formulas\n",
    "compound_list = [Compound(s) for s in species_list]\n",
    "# Manually set the charge on the first Au to make it Au+\n",
    "compound_list[0].charge = 1\n",
    "\n",
    "print(\"--- Lewis Acid/Base Classification ---\")\n",
    "for compound_obj in compound_list:\n",
    "    # Get the formula string for printing\n",
    "    name_to_print = compound_obj.input_formula\n",
    "    if compound_obj.charge is not None:\n",
    "        sign = \"+\" if compound_obj.charge > 0 else \"-\"\n",
    "        name_to_print += str(abs(compound_obj.charge)) + sign\n",
    "\n",
    "\n",
    "    classification = ab.classify_lewis_acid_base(compound_obj)\n",
    "    print(f\"{name_to_print:<5} -> {classification}\")"
   ]
  },
  {
   "cell_type": "code",
   "execution_count": 35,
   "id": "da074445",
   "metadata": {},
   "outputs": [
    {
     "name": "stdout",
     "output_type": "stream",
     "text": [
      "BF3 -> Lewis Acid (incomplete octet on B)\n"
     ]
    }
   ],
   "source": [
    "compound = Compound(\"BF3\")\n",
    "classification = ab.classify_lewis_acid_base(compound)\n",
    "print(f\"{compound.input_formula} -> {classification}\")"
   ]
  },
  {
   "cell_type": "markdown",
   "id": "59fe255b",
   "metadata": {},
   "source": [
    "# Calculate buffer ph after addition from moles"
   ]
  },
  {
   "cell_type": "code",
   "execution_count": 36,
   "id": "5dec4b5a",
   "metadata": {},
   "outputs": [
    {
     "name": "stdout",
     "output_type": "stream",
     "text": [
      "The final pH of the buffer is: 10.69\n"
     ]
    }
   ],
   "source": [
    "# --- Given values from the problem ---\n",
    "moles_HIO = 0.680\n",
    "moles_KIO = 0.500\n",
    "moles_KOH = 0.200\n",
    "Ka_HIO = 3e-11\n",
    "\n",
    "# --- Use the new function to calculate the final pH ---\n",
    "final_ph = ab.calculate_buffer_ph_after_addition_from_moles(\n",
    "    initial_moles_acid=moles_HIO,\n",
    "    initial_moles_base=moles_KIO,\n",
    "    added_moles=moles_KOH,\n",
    "    added_is_acid=False,  # We added a base (KOH)\n",
    "    Ka=Ka_HIO\n",
    ")\n",
    "\n",
    "print(f\"The final pH of the buffer is: {final_ph:.2f}\")"
   ]
  },
  {
   "cell_type": "code",
   "execution_count": 38,
   "id": "64947a4b",
   "metadata": {},
   "outputs": [
    {
     "name": "stdout",
     "output_type": "stream",
     "text": [
      "The final pH of the buffer is: 8.97\n"
     ]
    }
   ],
   "source": [
    "# --- Given values from the problem ---\n",
    "moles_HCN = 0.375\n",
    "moles_NaCN = 0.375\n",
    "moles_HNO3 = 0.100\n",
    "Ka_HCN = 6.2e-10\n",
    "\n",
    "# --- Use your function to calculate the final pH ---\n",
    "final_ph = ab.calculate_buffer_ph_after_addition_from_moles(\n",
    "    initial_moles_acid=moles_HCN,\n",
    "    initial_moles_base=moles_NaCN,\n",
    "    added_moles=moles_HNO3,\n",
    "    added_is_acid=True,  # We added an acid (HNO3)\n",
    "    Ka=Ka_HCN\n",
    ")\n",
    "\n",
    "print(f\"The final pH of the buffer is: {final_ph:.2f}\")"
   ]
  },
  {
   "cell_type": "markdown",
   "id": "c0aa1c22",
   "metadata": {},
   "source": [
    "## The Principle of Buffer Selection\n",
    "![image.png](images/buffer-1.png)\n",
    "\n",
    "A buffer solution is most effective at resisting pH changes when the concentrations of the weak acid and its conjugate base are equal. According to the Henderson-Hasselbalch equation, when these concentrations are equal, the pH of the buffer is equal to the pKₐ of the weak acid.\n",
    "\n",
    "pH=pKa​ (when [Acid] = [Base])\n",
    "\n",
    "Therefore, to create an effective buffer at a specific pH, you should choose a conjugate acid-base pair where the acid's pKₐ is as close as possible to the target pH.\n",
    "\n",
    "### Analysis of the Options\n",
    "\n",
    "We need to find the buffer system whose pKₐ is closest to the target pH of 6.8.\n",
    "\n",
    "    Sodium hydrogen carbonate (pKₐ = 10.3): Too far from 6.8.\n",
    "\n",
    "    Acetic acid (pKₐ = 4.8): Too far from 6.8.\n",
    "\n",
    "    Hypochlorous acid (pKₐ = 7.5): This is the closest pKₐ to the target pH of 6.8.\n",
    "\n",
    "    Hydrocyanic acid (pKₐ = 9.3): Too far from 6.8.\n",
    "\n",
    "By choosing the hypochlorous acid system, a chemist can create an effective buffer at pH 6.8 by adjusting the ratio of the conjugate base to the acid."
   ]
  }
 ],
 "metadata": {
  "kernelspec": {
   "display_name": "KEMI",
   "language": "python",
   "name": "python3"
  },
  "language_info": {
   "codemirror_mode": {
    "name": "ipython",
    "version": 3
   },
   "file_extension": ".py",
   "mimetype": "text/x-python",
   "name": "python",
   "nbconvert_exporter": "python",
   "pygments_lexer": "ipython3",
   "version": "3.13.5"
  }
 },
 "nbformat": 4,
 "nbformat_minor": 5
}
