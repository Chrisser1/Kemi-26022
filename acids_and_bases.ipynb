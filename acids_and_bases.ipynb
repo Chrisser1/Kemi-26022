{
 "cells": [
  {
   "cell_type": "code",
   "execution_count": 2,
   "id": "25b6e1fb",
   "metadata": {},
   "outputs": [],
   "source": [
    "import acids_and_bases as ab\n",
    "from compound import Compound"
   ]
  },
  {
   "cell_type": "markdown",
   "id": "cc99cbf7",
   "metadata": {},
   "source": [
    "# Describe the relative acidity or basicity of a solution"
   ]
  },
  {
   "cell_type": "code",
   "execution_count": 3,
   "id": "738f1884",
   "metadata": {},
   "outputs": [
    {
     "name": "stdout",
     "output_type": "stream",
     "text": [
      "The pOH is 1.0 and the pH is 13.0. The solution is highly basic.\n"
     ]
    }
   ],
   "source": [
    "# --- Given values ---\n",
    "oh_conc = 1e-1  # M\n",
    "\n",
    "# --- Analysis ---\n",
    "solution_description = ab.describe_solution_from_oh(oh_conc)\n",
    "\n",
    "print(solution_description)"
   ]
  },
  {
   "cell_type": "markdown",
   "id": "b0ccb124",
   "metadata": {},
   "source": [
    "# Calculate pH based on ion concentration"
   ]
  },
  {
   "cell_type": "code",
   "execution_count": 4,
   "id": "d067c1a2",
   "metadata": {},
   "outputs": [
    {
     "name": "stdout",
     "output_type": "stream",
     "text": [
      "The pH of the solution is 5.10\n"
     ]
    }
   ],
   "source": [
    "# --- Given values ---\n",
    "h_ion_concentration = 7.9e-6  # M\n",
    "\n",
    "# --- Calculation ---\n",
    "pH_value = ab.calculate_pH(h_ion_concentration)\n",
    "\n",
    "print(f\"The pH of the solution is {pH_value:.2f}\")\n"
   ]
  },
  {
   "cell_type": "markdown",
   "id": "059961b2",
   "metadata": {},
   "source": [
    "# Salt is acidic"
   ]
  },
  {
   "cell_type": "code",
   "execution_count": 5,
   "id": "09dc1352",
   "metadata": {},
   "outputs": [
    {
     "name": "stdout",
     "output_type": "stream",
     "text": [
      "--- Salt Acidity Analysis ---\n",
      "Potassium Formate (KCHO2): Basic\n",
      "Potassium Bromide (KBr): Neutral\n",
      "Ammonium Bromide (NH4Br): Acidic\n"
     ]
    }
   ],
   "source": [
    "# --- Salts from the question ---\n",
    "# Note: The formulas in the image had typos. Using correct formulas.\n",
    "salts_to_test = {\n",
    "    \"Potassium Formate\": \"KCHO2\", # Corrected from KCO₂H\n",
    "    \"Potassium Bromide\": \"KBr\",\n",
    "    \"Ammonium Bromide\": \"NH4Br\"\n",
    "}\n",
    "\n",
    "# --- Analysis ---\n",
    "print(\"--- Salt Acidity Analysis ---\")\n",
    "for name, formula in salts_to_test.items():\n",
    "    acidity = ab.predict_salt_acidity(formula)\n",
    "    print(f\"{name} ({formula}): {acidity}\")\n"
   ]
  },
  {
   "cell_type": "markdown",
   "id": "7e5207fb",
   "metadata": {},
   "source": [
    "# Rank oxyacids"
   ]
  },
  {
   "cell_type": "code",
   "execution_count": 6,
   "id": "02851d6c",
   "metadata": {},
   "outputs": [
    {
     "name": "stdout",
     "output_type": "stream",
     "text": [
      "The order of oxyacids from strongest to weakest is:\n",
      "HClO > HBrO > HIO\n"
     ]
    }
   ],
   "source": [
    "# --- Acids to compare ---\n",
    "oxyacids = [\"HBrO\", \"HIO\", \"HClO\"]\n",
    "\n",
    "# --- Get the ranking ---\n",
    "ranking = ab.rank_oxyacids_by_strength(oxyacids)\n",
    "\n",
    "print(\"The order of oxyacids from strongest to weakest is:\")\n",
    "print(ranking)\n"
   ]
  },
  {
   "cell_type": "code",
   "execution_count": 7,
   "id": "d104bae5",
   "metadata": {},
   "outputs": [
    {
     "name": "stdout",
     "output_type": "stream",
     "text": [
      "Could not process HC2ClH2O2: Electronegativity for 'C2Cl22' not found.\n",
      "Could not process HC2BrH2O2: Electronegativity for 'C2Br22' not found.\n",
      "Could not process HC2FH2O2: Electronegativity for 'C2F22' not found.\n",
      "The order of oxyacids from strongest to weakest is:\n",
      "\n"
     ]
    }
   ],
   "source": [
    "# --- Acids to compare ---\n",
    "oxyacids = [\"HC2ClH2O2\", \"HC2BrH2O2\", \"HC2FH2O2\"]\n",
    "\n",
    "# --- Get the ranking ---\n",
    "ranking = ab.rank_oxyacids_by_strength(oxyacids)\n",
    "\n",
    "print(\"The order of oxyacids from strongest to weakest is:\")\n",
    "print(ranking)\n"
   ]
  },
  {
   "cell_type": "markdown",
   "id": "53dbbfa1",
   "metadata": {},
   "source": [
    "# hydroxide ion concentration based on concentration of h+"
   ]
  },
  {
   "cell_type": "code",
   "execution_count": 8,
   "id": "c5d72421",
   "metadata": {},
   "outputs": [
    {
     "name": "stdout",
     "output_type": "stream",
     "text": [
      "The hydroxide ion concentration is 1e-12 M\n"
     ]
    }
   ],
   "source": [
    "# --- Given values ---\n",
    "h_conc = 1e-2  # M\n",
    "\n",
    "# --- Calculation ---\n",
    "oh_conc = ab.calculate_hydroxide_from_hydronium(h_conc)\n",
    "\n",
    "print(f\"The hydroxide ion concentration is {oh_conc:.0e} M\")\n"
   ]
  },
  {
   "cell_type": "markdown",
   "id": "e986db02",
   "metadata": {},
   "source": [
    "# hydroxide ion concentration based on pOH"
   ]
  },
  {
   "cell_type": "code",
   "execution_count": 9,
   "id": "0f8d3b1f",
   "metadata": {},
   "outputs": [
    {
     "name": "stdout",
     "output_type": "stream",
     "text": [
      "The hydroxide ion concentration is 2.5e-06 M\n"
     ]
    }
   ],
   "source": [
    "# --- Given values ---\n",
    "pOH_value = 5.60\n",
    "\n",
    "# --- Calculation ---\n",
    "hydroxide_concentration = ab.calculate_hydroxide_from_pOH(pOH_value)\n",
    "\n",
    "print(f\"The hydroxide ion concentration is {hydroxide_concentration:.1e} M\")"
   ]
  },
  {
   "cell_type": "markdown",
   "id": "806bc9e6",
   "metadata": {},
   "source": [
    "# Weak Acid Equilibrium (ICE Table)"
   ]
  },
  {
   "cell_type": "markdown",
   "id": "cfbf1565",
   "metadata": {},
   "source": [
    "## pH"
   ]
  },
  {
   "cell_type": "code",
   "execution_count": 10,
   "id": "a67aa9ab",
   "metadata": {},
   "outputs": [
    {
     "name": "stdout",
     "output_type": "stream",
     "text": [
      "The pH of the solution is 3.8\n"
     ]
    }
   ],
   "source": [
    "# --- Given values ---\n",
    "initial_concentration = 0.0480 # M\n",
    "Ka_carbonic_acid = 4.30e-7\n",
    "\n",
    "# --- Calculation ---\n",
    "pH = ab.calculate_weak_acid_ph(initial_concentration, Ka_carbonic_acid)\n",
    "\n",
    "print(f\"The pH of the solution is {pH:.1f}\")"
   ]
  },
  {
   "cell_type": "markdown",
   "id": "b280e387",
   "metadata": {},
   "source": [
    "## pOH"
   ]
  },
  {
   "cell_type": "code",
   "execution_count": 11,
   "id": "7d7b4634",
   "metadata": {},
   "outputs": [
    {
     "name": "stdout",
     "output_type": "stream",
     "text": [
      "The pOH of the solution is 2.6\n"
     ]
    }
   ],
   "source": [
    "# --- Given values ---\n",
    "initial_concentration = 0.31 # M\n",
    "Kb_ammonia = 1.8e-5\n",
    "\n",
    "# --- Calculation ---\n",
    "pOH = ab.calculate_weak_base_pOH(initial_concentration, Kb_ammonia)\n",
    "\n",
    "print(f\"The pOH of the solution is {pOH:.1f}\")\n"
   ]
  },
  {
   "cell_type": "markdown",
   "id": "6c422abd",
   "metadata": {},
   "source": [
    "## Concentration"
   ]
  },
  {
   "cell_type": "code",
   "execution_count": 12,
   "id": "e2dae8d5",
   "metadata": {},
   "outputs": [
    {
     "name": "stdout",
     "output_type": "stream",
     "text": [
      "The equilibrium concentration of HS⁻ is 5.70e-05 M\n"
     ]
    }
   ],
   "source": [
    "# --- Given values ---\n",
    "initial_conc_h2s = 0.0250 # M\n",
    "Ka_h2s = 1.30e-7\n",
    "\n",
    "# --- Calculation ---\n",
    "eq_concentrations = ab.calculate_weak_acid_dissociation(initial_conc_h2s, Ka_h2s)\n",
    "\n",
    "# The concentration of HS⁻ is the value for the conjugate base, A⁻\n",
    "hs_concentration = eq_concentrations[\"A-\"]\n",
    "\n",
    "print(f\"The equilibrium concentration of HS⁻ is {hs_concentration:.2e} M\")"
   ]
  },
  {
   "cell_type": "markdown",
   "id": "0007002d",
   "metadata": {},
   "source": [
    "# Convert K_b to K_a"
   ]
  },
  {
   "cell_type": "code",
   "execution_count": 13,
   "id": "3a66cd89",
   "metadata": {},
   "outputs": [
    {
     "name": "stdout",
     "output_type": "stream",
     "text": [
      "The Ka for lactic acid is 1.4e-04\n"
     ]
    }
   ],
   "source": [
    "# --- Given values ---\n",
    "# This is the Kb for the lactate ion (conjugate base of lactic acid)\n",
    "kb_lactate = 7.1e-11\n",
    "\n",
    "# --- Calculation ---\n",
    "# We calculate the Ka of its conjugate acid (lactic acid)\n",
    "ka_lactic_acid = ab.convert_ka_kb(kb_lactate)\n",
    "\n",
    "print(f\"The Ka for lactic acid is {ka_lactic_acid:.1e}\")"
   ]
  },
  {
   "cell_type": "markdown",
   "id": "5fba9c5d",
   "metadata": {},
   "source": [
    "# Convert K_a to K_b"
   ]
  },
  {
   "cell_type": "code",
   "execution_count": 14,
   "id": "53715852",
   "metadata": {},
   "outputs": [
    {
     "name": "stdout",
     "output_type": "stream",
     "text": [
      "The Kb for the formate ion is 5.6e-11\n"
     ]
    }
   ],
   "source": [
    "# --- Given values ---\n",
    "ka_formic_acid = 1.8e-4\n",
    "\n",
    "# --- Calculation ---\n",
    "# We calculate the Kb of its conjugate base (formate)\n",
    "kb_formate = ab.convert_ka_kb(ka_formic_acid)\n",
    "\n",
    "print(f\"The Kb for the formate ion is {kb_formate:.1e}\")"
   ]
  },
  {
   "cell_type": "code",
   "execution_count": 15,
   "id": "a75e0445",
   "metadata": {},
   "outputs": [
    {
     "name": "stdout",
     "output_type": "stream",
     "text": [
      "The Kb for the formate ion is 1.6e-05\n"
     ]
    }
   ],
   "source": [
    "# --- Given values ---\n",
    "ka_formic_acid = 6.2e-10\n",
    "\n",
    "# --- Calculation ---\n",
    "# We calculate the Kb of its conjugate base (formate)\n",
    "kb_formate = ab.convert_ka_kb(ka_formic_acid)\n",
    "\n",
    "print(f\"The Kb for the formate ion is {kb_formate:.1e}\")"
   ]
  },
  {
   "cell_type": "code",
   "execution_count": 16,
   "id": "95e35c3d",
   "metadata": {},
   "outputs": [
    {
     "name": "stdout",
     "output_type": "stream",
     "text": [
      "The Kb for the formate ion is 1.4e-05\n"
     ]
    }
   ],
   "source": [
    "# --- Given values ---\n",
    "ka_formic_acid = 7.1e-10\n",
    "\n",
    "# --- Calculation ---\n",
    "# We calculate the Kb of its conjugate base (formate)\n",
    "kb_formate = ab.convert_ka_kb(ka_formic_acid)\n",
    "\n",
    "print(f\"The Kb for the formate ion is {kb_formate:.1e}\")"
   ]
  },
  {
   "cell_type": "markdown",
   "id": "5c17393c",
   "metadata": {},
   "source": [
    "# Molarity of a solution titration"
   ]
  },
  {
   "cell_type": "code",
   "execution_count": 17,
   "id": "c6b64821",
   "metadata": {},
   "outputs": [
    {
     "name": "stdout",
     "output_type": "stream",
     "text": [
      "The molarity of the HNO3 solution is 0.350 M\n"
     ]
    }
   ],
   "source": [
    "# --- Given values ---\n",
    "acid = \"HNO3\"\n",
    "base = \"Ca(OH)2\"\n",
    "\n",
    "conc_base = 0.175  # M\n",
    "vol_base = 25.0    # mL\n",
    "vol_acid = 25.0    # mL\n",
    "\n",
    "# --- Calculation ---\n",
    "conc_acid = ab.solve_titration(\n",
    "    acid_formula=acid, Va_mL=vol_acid,\n",
    "    base_formula=base, Vb_mL=vol_base,\n",
    "    known_conc=conc_base, known_is_base=True\n",
    ")\n",
    "\n",
    "print(f\"The molarity of the {acid} solution is {conc_acid:.3f} M\")\n"
   ]
  },
  {
   "cell_type": "code",
   "execution_count": 18,
   "id": "4fd33744",
   "metadata": {},
   "outputs": [
    {
     "name": "stdout",
     "output_type": "stream",
     "text": [
      "The concentration of the LiOH solution is 2.4 M\n"
     ]
    }
   ],
   "source": [
    "# --- Given values ---\n",
    "acid = \"H2SO4\"\n",
    "base = \"LiOH\"\n",
    "\n",
    "conc_acid = 3.2      # M\n",
    "vol_acid = 13.1      # mL\n",
    "vol_base = 35        # mL\n",
    "\n",
    "# --- Calculation ---\n",
    "conc_base = ab.solve_titration(\n",
    "    acid_formula=acid, Va_mL=vol_acid,\n",
    "    base_formula=base, Vb_mL=vol_base,\n",
    "    known_conc=conc_acid, known_is_base=False\n",
    ")\n",
    "\n",
    "print(f\"The concentration of the {base} solution is {conc_base:.1f} M\")"
   ]
  },
  {
   "cell_type": "code",
   "execution_count": 19,
   "id": "7142a692",
   "metadata": {},
   "outputs": [
    {
     "name": "stdout",
     "output_type": "stream",
     "text": [
      "The concentration of the HCl solution is 2.63 M\n"
     ]
    }
   ],
   "source": [
    "# --- Given values ---\n",
    "acid = \"HCl\"\n",
    "base = \"KOH\"\n",
    "\n",
    "conc_base = 1.15     # M\n",
    "vol_base = 45.8      # mL\n",
    "vol_acid = 20.0      # mL\n",
    "\n",
    "# --- Calculation ---\n",
    "conc_acid = ab.solve_titration(\n",
    "    acid_formula=acid, Va_mL=vol_acid,\n",
    "    base_formula=base, Vb_mL=vol_base,\n",
    "    known_conc=conc_base, known_is_base=True\n",
    ")\n",
    "\n",
    "print(f\"The concentration of the {acid} solution is {conc_acid:.2f} M\")\n"
   ]
  },
  {
   "cell_type": "markdown",
   "id": "20bdd3f6",
   "metadata": {},
   "source": [
    "# [H3O+] of a solution"
   ]
  },
  {
   "cell_type": "code",
   "execution_count": 20,
   "id": "15c20c8b",
   "metadata": {},
   "outputs": [
    {
     "name": "stdout",
     "output_type": "stream",
     "text": [
      "The [H₃O⁺] of the solution is 4.2e-04 M\n"
     ]
    }
   ],
   "source": [
    "# --- Given values ---\n",
    "Ka_HF = 6.3e-4\n",
    "conc_HF = 0.500\n",
    "conc_NaF = 0.750\n",
    "\n",
    "# --- Calculation ---\n",
    "h3o_concentration = ab.calculate_buffer_h3o_conc(Ka_HF, conc_HF, conc_NaF)\n",
    "\n",
    "print(f\"The [H₃O⁺] of the solution is {h3o_concentration:.1e} M\")\n"
   ]
  },
  {
   "cell_type": "code",
   "execution_count": 21,
   "id": "4e41171e",
   "metadata": {},
   "outputs": [
    {
     "name": "stdout",
     "output_type": "stream",
     "text": [
      "The order of increasing acid strength is:\n",
      "HC2FH2O2 < HC2F2HO2 < HC2F3O2\n"
     ]
    }
   ],
   "source": [
    "# --- Acids to compare ---\n",
    "acids = [\"HC2F3O2\", \"HC2FH2O2\", \"HC2F2HO2\"]\n",
    "\n",
    "# --- Get the ranking ---\n",
    "ranking = ab.rank_acids_by_inductive_effect(acids)\n",
    "\n",
    "print(\"The order of increasing acid strength is:\")\n",
    "print(ranking)"
   ]
  },
  {
   "cell_type": "markdown",
   "id": "5b3ce718",
   "metadata": {},
   "source": [
    "# Moles based on volume and moles"
   ]
  },
  {
   "cell_type": "code",
   "execution_count": 22,
   "id": "65cde7bc",
   "metadata": {},
   "outputs": [
    {
     "name": "stdout",
     "output_type": "stream",
     "text": [
      "The moles of LiOH in the sample are 0.00300 mol\n"
     ]
    }
   ],
   "source": [
    "# --- Given values ---\n",
    "molarity_hcl = 0.200  # M\n",
    "volume_hcl_mL = 15.0  # mL\n",
    "\n",
    "# The mole ratio from the balanced equation (1 mol LiOH / 1 mol HCl) is 1\n",
    "mole_ratio = 1\n",
    "\n",
    "# --- Calculation ---\n",
    "# 1. Calculate moles of HCl used\n",
    "moles_hcl = molarity_hcl * (volume_hcl_mL / 1000)\n",
    "\n",
    "# 2. Use the mole ratio to find moles of LiOH\n",
    "moles_lih = moles_hcl * mole_ratio\n",
    "\n",
    "print(f\"The moles of LiOH in the sample are {moles_lih:.5f} mol\")"
   ]
  },
  {
   "cell_type": "markdown",
   "id": "37d609fe",
   "metadata": {},
   "source": [
    "# Calculate pH of a buffer"
   ]
  },
  {
   "cell_type": "code",
   "execution_count": 23,
   "id": "8877f566",
   "metadata": {},
   "outputs": [
    {
     "name": "stdout",
     "output_type": "stream",
     "text": [
      "The pH of the buffer is 6.07\n"
     ]
    }
   ],
   "source": [
    "# --- Given values ---\n",
    "pKa_carbonic_acid = 6.37\n",
    "conc_acid = 0.20   # M of H₂CO₃\n",
    "conc_base = 0.10   # M of NaHCO₃\n",
    "\n",
    "# --- Calculation ---\n",
    "pH = ab.calculate_buffer_ph_from_pka(pKa_carbonic_acid, conc_acid, conc_base)\n",
    "\n",
    "print(f\"The pH of the buffer is {pH:.2f}\")"
   ]
  },
  {
   "cell_type": "code",
   "execution_count": 24,
   "id": "3bdc971c",
   "metadata": {},
   "outputs": [
    {
     "name": "stdout",
     "output_type": "stream",
     "text": [
      "The pH of the buffer solution is 4.74\n"
     ]
    }
   ],
   "source": [
    "\n",
    "# --- Given values ---\n",
    "# Define compounds to get their molar mass\n",
    "acetic_acid = Compound(\"HC2H3O2\") # Formula for acetic acid\n",
    "sodium_acetate = Compound(\"NaC2H3O2\") # Formula for sodium acetate\n",
    "\n",
    "# Set the mass for each to calculate moles\n",
    "acetic_acid.set_mass(15.01)\n",
    "sodium_acetate.set_mass(20.51)\n",
    "\n",
    "# Set the volume to calculate concentration\n",
    "solution_volume = 1.00 # L\n",
    "acetic_acid.set_volume(solution_volume)\n",
    "sodium_acetate.set_volume(solution_volume)\n",
    "\n",
    "# Ka value\n",
    "Ka_acetic_acid = 1.80e-5\n",
    "\n",
    "# --- Calculation ---\n",
    "pH = ab.calculate_buffer_pH(\n",
    "    Ka=Ka_acetic_acid,\n",
    "    conc_acid=acetic_acid.molarity_M,\n",
    "    conc_base=sodium_acetate.molarity_M\n",
    ")\n",
    "\n",
    "print(f\"The pH of the buffer solution is {pH:.2f}\")"
   ]
  },
  {
   "cell_type": "markdown",
   "id": "c00bfe3c",
   "metadata": {},
   "source": [
    "# Calculate pka from buffer, ph and moles"
   ]
  },
  {
   "cell_type": "code",
   "execution_count": 25,
   "id": "40784a64",
   "metadata": {},
   "outputs": [
    {
     "name": "stdout",
     "output_type": "stream",
     "text": [
      "The pKa of the acid is 4.77\n"
     ]
    }
   ],
   "source": [
    "# --- Given values ---\n",
    "pH_buffer = 4.41\n",
    "conc_acid = 0.32  # M\n",
    "conc_base = 0.14  # M\n",
    "\n",
    "# --- Calculation ---\n",
    "pKa_acid = ab.calculate_pka_from_buffer_ph(pH_buffer, conc_acid, conc_base)\n",
    "\n",
    "print(f\"The pKa of the acid is {pKa_acid:.2f}\")"
   ]
  },
  {
   "cell_type": "markdown",
   "id": "c0aa1c22",
   "metadata": {},
   "source": [
    "## The Principle of Buffer Selection\n",
    "![image.png](images/buffer-1.png)\n",
    "\n",
    "A buffer solution is most effective at resisting pH changes when the concentrations of the weak acid and its conjugate base are equal. According to the Henderson-Hasselbalch equation, when these concentrations are equal, the pH of the buffer is equal to the pKₐ of the weak acid.\n",
    "\n",
    "pH=pKa​ (when [Acid] = [Base])\n",
    "\n",
    "Therefore, to create an effective buffer at a specific pH, you should choose a conjugate acid-base pair where the acid's pKₐ is as close as possible to the target pH.\n",
    "\n",
    "### Analysis of the Options\n",
    "\n",
    "We need to find the buffer system whose pKₐ is closest to the target pH of 6.8.\n",
    "\n",
    "    Sodium hydrogen carbonate (pKₐ = 10.3): Too far from 6.8.\n",
    "\n",
    "    Acetic acid (pKₐ = 4.8): Too far from 6.8.\n",
    "\n",
    "    Hypochlorous acid (pKₐ = 7.5): This is the closest pKₐ to the target pH of 6.8.\n",
    "\n",
    "    Hydrocyanic acid (pKₐ = 9.3): Too far from 6.8.\n",
    "\n",
    "By choosing the hypochlorous acid system, a chemist can create an effective buffer at pH 6.8 by adjusting the ratio of the conjugate base to the acid."
   ]
  },
  {
   "cell_type": "markdown",
   "id": "9b219f72",
   "metadata": {},
   "source": []
  }
 ],
 "metadata": {
  "kernelspec": {
   "display_name": "KEMI",
   "language": "python",
   "name": "python3"
  },
  "language_info": {
   "codemirror_mode": {
    "name": "ipython",
    "version": 3
   },
   "file_extension": ".py",
   "mimetype": "text/x-python",
   "name": "python",
   "nbconvert_exporter": "python",
   "pygments_lexer": "ipython3",
   "version": "3.13.5"
  }
 },
 "nbformat": 4,
 "nbformat_minor": 5
}
