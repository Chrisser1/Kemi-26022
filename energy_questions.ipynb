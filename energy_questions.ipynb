{
 "cells": [
  {
   "cell_type": "code",
   "execution_count": 1,
   "id": "4034c596",
   "metadata": {},
   "outputs": [],
   "source": [
    "from energy import *\n",
    "from compound import *\n",
    "from equations import *\n",
    "Hf = get_Hf_map()\n",
    "Gf = get_Gf_map()\n",
    "S  = get_S_map()"
   ]
  },
  {
   "cell_type": "markdown",
   "id": "9662addb",
   "metadata": {},
   "source": [
    "# standard dannelsesentalpien"
   ]
  },
  {
   "cell_type": "code",
   "execution_count": 2,
   "id": "e793ddda",
   "metadata": {},
   "outputs": [
    {
     "data": {
      "text/plain": [
       "105.6"
      ]
     },
     "execution_count": 2,
     "metadata": {},
     "output_type": "execute_result"
    }
   ],
   "source": [
    "ag = Compound('Ag'); ag.charge = 1; ag.phase = 'aq'\n",
    "Hf[ag]"
   ]
  },
  {
   "cell_type": "code",
   "execution_count": 3,
   "id": "9b4d517a",
   "metadata": {},
   "outputs": [
    {
     "name": "stdout",
     "output_type": "stream",
     "text": [
      "Delta H is 44.0 kJ/mol\n"
     ]
    }
   ],
   "source": [
    "h2o_liquid = Compound('H2O'); h2o_liquid.phase = 'l'\n",
    "h2o_gas = Compound('H2O'); h2o_gas.phase = 'g'\n",
    "\n",
    "eq = ChemicalEquation([h2o_liquid], [h2o_gas])\n",
    "\n",
    "print(f\"Delta H is {reaction_enthalpy(eq, Hf)} kJ/mol\")"
   ]
  },
  {
   "cell_type": "code",
   "execution_count": 4,
   "id": "ac095f2b",
   "metadata": {},
   "outputs": [
    {
     "name": "stdout",
     "output_type": "stream",
     "text": [
      "Delta H is -55.80000000000001 kJ/mol\n"
     ]
    }
   ],
   "source": [
    "h = Compound('H'); h.charge = 1; h.phase = 'aq'\n",
    "oh = Compound('OH'); oh.charge = -1; oh.phase = 'aq'\n",
    "h20 = Compound('H2O'); h20.phase = 'l'\n",
    "\n",
    "eq = ChemicalEquation([h, oh], [h20])\n",
    "print(f\"Delta H is {reaction_enthalpy(eq, Hf)} kJ/mol\")"
   ]
  },
  {
   "cell_type": "code",
   "execution_count": 5,
   "id": "2aa56ede",
   "metadata": {},
   "outputs": [
    {
     "name": "stdout",
     "output_type": "stream",
     "text": [
      "Delta H is -5.009999999999991 kJ/mol\n"
     ]
    }
   ],
   "source": [
    "na2so4 = Compound('Na2SO4'); na2so4.phase = 's'\n",
    "na = Compound('Na'); na.charge = 1; na.phase = 'aq'\n",
    "so4 = Compound('SO4'); so4.charge = -2; so4.phase = 'aq'\n",
    "\n",
    "eq = ChemicalEquation([na2so4], [na, so4])\n",
    "print(f\"Delta H is {reaction_enthalpy(eq, Hf)} kJ/mol\")"
   ]
  },
  {
   "cell_type": "markdown",
   "id": "8a1c6288",
   "metadata": {},
   "source": [
    "![image.png](images/energy-question-10.png)"
   ]
  },
  {
   "cell_type": "code",
   "execution_count": 6,
   "id": "c5b558cd",
   "metadata": {},
   "outputs": [
    {
     "name": "stdout",
     "output_type": "stream",
     "text": [
      "We release 155.49405289229043 kJ of energy when burning 10 g of glucose.\n"
     ]
    }
   ],
   "source": [
    "c6h12o6 = Compound('C6H12O6'); c6h12o6.phase = 's'\n",
    "o2 = Compound('O2'); o2.phase = 'g'\n",
    "co2 = Compound('CO2'); co2.phase = 'g'\n",
    "h2o = Compound('H2O'); h2o.phase = 'l'\n",
    "\n",
    "eq = ChemicalEquation([c6h12o6, o2], [co2, h2o])\n",
    "\n",
    "c6h12o6.set_mass(10)\n",
    "\n",
    "delta_h = reaction_enthalpy(eq, Hf)\n",
    "print(f\"We release {-delta_h * c6h12o6.amount_mol} kJ of energy when burning {c6h12o6.mass_g} g of glucose.\")"
   ]
  },
  {
   "cell_type": "code",
   "execution_count": 7,
   "id": "b6a3bb2f",
   "metadata": {},
   "outputs": [
    {
     "name": "stdout",
     "output_type": "stream",
     "text": [
      "ΔH°rxn = -5.009999999999991 kJ/mol\n",
      "ΔS°rxn = 24.5 J/(mol·K)\n",
      "ΔG°rxn = -1.5 kJ/mol\n"
     ]
    }
   ],
   "source": [
    "na2so4 = Compound('Na2SO4'); na2so4.phase = 's'\n",
    "na = Compound('Na'); na.charge = 1; na.phase = 'aq'\n",
    "so4 = Compound('SO4'); so4.charge = -2; so4.phase = 'aq'\n",
    "\n",
    "eq = ChemicalEquation([na2so4], [na, so4])\n",
    "\n",
    "\n",
    "print(\"ΔH°rxn =\", reaction_enthalpy(eq, Hf), \"kJ/mol\")\n",
    "print(\"ΔS°rxn =\", reaction_entropy(eq, S),  \"J/(mol·K)\")\n",
    "print(\"ΔG°rxn =\", reaction_free_energy(eq, Gf), \"kJ/mol\")"
   ]
  },
  {
   "cell_type": "markdown",
   "id": "a603df52",
   "metadata": {},
   "source": [
    "![image.png](images/energy-question-example.png)"
   ]
  },
  {
   "cell_type": "code",
   "execution_count": 8,
   "id": "e5b17dea",
   "metadata": {},
   "outputs": [
    {
     "name": "stdout",
     "output_type": "stream",
     "text": [
      "The enthalpy of vaporization for water is 17.0 kJ\n"
     ]
    }
   ],
   "source": [
    "# 1. Define the reactant and product compounds with their phases\n",
    "h2o_liquid = Compound(\"H2O\"); h2o_liquid.phase = 'l'\n",
    "h2o_gas = Compound(\"H2O\"); h2o_gas.phase = 'g'\n",
    "\n",
    "# 2. Create the chemical equation for vaporization\n",
    "vaporization_eq = ChemicalEquation(\n",
    "    reactants=[h2o_liquid],\n",
    "    products=[h2o_gas]\n",
    ")\n",
    "\n",
    "# 3. Create a dictionary of the given formation energies\n",
    "#    Note: We map the Compound objects to their formation enthalpies.\n",
    "formation_energies = {\n",
    "    h2o_liquid: -258.8,  # From Reaction I\n",
    "    h2o_gas: -241.8      # From Reaction II\n",
    "}\n",
    "\n",
    "# 4. Calculate the enthalpy of reaction using your function\n",
    "#    This function is already in your energy.py file.\n",
    "delta_h_vap = reaction_enthalpy(vaporization_eq, formation_energies)\n",
    "\n",
    "print(f\"The enthalpy of vaporization for water is {delta_h_vap:.1f} kJ\")"
   ]
  },
  {
   "cell_type": "markdown",
   "id": "7bd1a894",
   "metadata": {},
   "source": [
    "# Convert energy"
   ]
  },
  {
   "cell_type": "code",
   "execution_count": 9,
   "id": "4147c9d4",
   "metadata": {},
   "outputs": [
    {
     "name": "stdout",
     "output_type": "stream",
     "text": [
      "6388 BTU is equal to 1.610833e+06 calories.\n"
     ]
    }
   ],
   "source": [
    "btu_val = 6388\n",
    "calories_released = convert_energy(btu_val, from_unit=\"BTU\", to_unit=\"cal\")\n",
    "\n",
    "print(f\"{btu_val} BTU is equal to {calories_released:e} calories.\")"
   ]
  },
  {
   "cell_type": "markdown",
   "id": "91e0125a",
   "metadata": {},
   "source": [
    "# Release of heat based on mass, temperature and specific heat"
   ]
  },
  {
   "cell_type": "code",
   "execution_count": 10,
   "id": "3dd77a10",
   "metadata": {},
   "outputs": [
    {
     "name": "stdout",
     "output_type": "stream",
     "text": [
      "The heat released by the sample is -107 J\n"
     ]
    }
   ],
   "source": [
    "# --- Given values ---\n",
    "mass = 9.8  # in grams\n",
    "specific_heat_steel = 0.50  # in J/(g*C)\n",
    "t_initial = 87.1\n",
    "t_final = 65.2\n",
    "\n",
    "# --- Calculation ---\n",
    "delta_t = t_final - t_initial\n",
    "heat_released = heat_mass(mass, specific_heat_steel, delta_t)\n",
    "\n",
    "print(f\"The heat released by the sample is {heat_released:.0f} J\")"
   ]
  },
  {
   "cell_type": "markdown",
   "id": "c8527387",
   "metadata": {},
   "source": [
    "# Release of heat based on mass and $\\Delta H_{rxn}$"
   ]
  },
  {
   "cell_type": "code",
   "execution_count": 11,
   "id": "233fce52",
   "metadata": {},
   "outputs": [
    {
     "name": "stdout",
     "output_type": "stream",
     "text": [
      "The heat released is -3.6e+04 kJ\n"
     ]
    }
   ],
   "source": [
    "# 1. Define the compound\n",
    "methane = Compound(\"CH4\")\n",
    "\n",
    "# 2. Define the given values\n",
    "mass_of_methane = 653  # grams\n",
    "delta_h_combustion = -890 # kJ/mol\n",
    "\n",
    "# 3. Call the new function to get the result\n",
    "total_heat = heat_of_combustion(\n",
    "    compound=methane,\n",
    "    mass_g=mass_of_methane,\n",
    "    delta_h_rxn_per_mole=delta_h_combustion\n",
    ")\n",
    "\n",
    "print(f\"The heat released is {total_heat:.1e} kJ\")"
   ]
  },
  {
   "cell_type": "markdown",
   "id": "5c13f250",
   "metadata": {},
   "source": [
    "# Energy work based on pressure and volume "
   ]
  },
  {
   "cell_type": "code",
   "execution_count": 12,
   "id": "6f9de819",
   "metadata": {},
   "outputs": [
    {
     "name": "stdout",
     "output_type": "stream",
     "text": [
      "The work performed by the reaction is -1723 J\n"
     ]
    }
   ],
   "source": [
    "# --- Given values ---\n",
    "v_initial = 15.0  # L\n",
    "v_final = 32.0    # L\n",
    "pressure = 1.00   # atm\n",
    "\n",
    "# --- Calculation ---\n",
    "delta_v = v_final - v_initial\n",
    "work_done = pressure_volume_work(delta_v, pressure)\n",
    "\n",
    "print(f\"The work performed by the reaction is {work_done:.0f} J\")"
   ]
  },
  {
   "cell_type": "code",
   "execution_count": 13,
   "id": "1e82b36e",
   "metadata": {},
   "outputs": [
    {
     "name": "stdout",
     "output_type": "stream",
     "text": [
      "The work performed by the reaction is -153 J\n"
     ]
    }
   ],
   "source": [
    "# --- Given values ---\n",
    "v_initial = 1.22  # L\n",
    "v_final = 2.76    # L\n",
    "pressure = 0.98   # atm\n",
    "\n",
    "# --- Calculation ---\n",
    "delta_v = v_final - v_initial\n",
    "work_done = pressure_volume_work(delta_v, pressure)\n",
    "\n",
    "print(f\"The work performed by the reaction is {work_done:.0f} J\")"
   ]
  },
  {
   "cell_type": "markdown",
   "id": "f73a8e1f",
   "metadata": {},
   "source": [
    "# Find substance based on its specific heat capacity"
   ]
  },
  {
   "cell_type": "code",
   "execution_count": 14,
   "id": "7d28a66a",
   "metadata": {},
   "outputs": [
    {
     "name": "stdout",
     "output_type": "stream",
     "text": [
      "The calculated specific heat is 0.796 J/(g*C)\n"
     ]
    }
   ],
   "source": [
    "# --- Given values ---\n",
    "q = 103      # Joules\n",
    "mass = 12.2  # grams\n",
    "delta_t = 10.6 # °C\n",
    "\n",
    "# --- Calculation ---\n",
    "specific_heat = specific_heat_from_mass(q, mass, delta_t)\n",
    "\n",
    "print(f\"The calculated specific heat is {specific_heat:.3f} J/(g*C)\")\n"
   ]
  },
  {
   "cell_type": "code",
   "execution_count": 15,
   "id": "26e5f826",
   "metadata": {},
   "outputs": [
    {
     "name": "stdout",
     "output_type": "stream",
     "text": [
      "Heat gained by water (q_water): 1148.5 J\n",
      "Heat lost by metal (q_metal): -1148.5 J\n",
      "The specific heat of the unknown metal is 0.498 J/(g*C)\n"
     ]
    }
   ],
   "source": [
    "# --- Given values from the problem ---\n",
    "# Metal properties\n",
    "mass_metal = 35.4\n",
    "t_initial_metal = 100.0\n",
    "\n",
    "# Water properties\n",
    "mass_water = 45.0\n",
    "t_initial_water = 28.8\n",
    "specific_heat_water = 4.184\n",
    "\n",
    "# Final temperature for both\n",
    "t_final = 34.9\n",
    "\n",
    "# --- Step 1: Calculate the heat gained by the water ---\n",
    "delta_t_water = t_final - t_initial_water\n",
    "q_water = heat_mass(mass_water, specific_heat_water, delta_t_water)\n",
    "\n",
    "# --- Step 2: The heat lost by the metal is the negative of the heat gained by the water ---\n",
    "q_metal = -q_water\n",
    "\n",
    "# --- Step 3: Calculate the specific heat of the metal ---\n",
    "delta_t_metal = t_final - t_initial_metal\n",
    "specific_heat_metal = specific_heat_from_mass(q_metal, mass_metal, delta_t_metal)\n",
    "\n",
    "# --- Display the results ---\n",
    "print(f\"Heat gained by water (q_water): {q_water:.1f} J\")\n",
    "print(f\"Heat lost by metal (q_metal): {q_metal:.1f} J\")\n",
    "print(f\"The specific heat of the unknown metal is {specific_heat_metal:.3f} J/(g*C)\")"
   ]
  },
  {
   "cell_type": "markdown",
   "id": "9610f017",
   "metadata": {},
   "source": [
    "# Find the enthalpi of reaction $\\Delta H_{reaction}$\n",
    "![image.png](images/enthalpy-example.png)"
   ]
  },
  {
   "cell_type": "markdown",
   "id": "804462cc",
   "metadata": {},
   "source": [
    "Of course. Here is a step-by-step explanation of how to solve the problem using Hess's Law, formatted in markdown.\n",
    "\n",
    "***\n",
    "\n",
    "The final enthalpy of reaction is **-394 kJ**.\n",
    "\n",
    "### Understanding the Goal\n",
    "\n",
    "The objective is to find the total enthalpy change ($\\Delta H^\\circ$) for the **target reaction**:\n",
    "\n",
    "$A(s) + B_2(g) \\rightarrow AB_2(g)$\n",
    "\n",
    "To do this, we'll use **Hess's Law**, which states that if you can add up a series of reactions to get your target reaction, you can also add up their enthalpy changes to get the target enthalpy. We need to manipulate the two given reactions so they sum to our target.\n",
    "\n",
    "---\n",
    "\n",
    "### Step-by-Step Solution\n",
    "\n",
    "#### **Given Reactions:**\n",
    "\n",
    "* **Reaction I:** $A(s) + B_2(g) \\rightarrow AB(g) + \\frac{1}{2} B_2(g)$\n",
    "    * $\\Delta H^\\circ = -111 \\text{ kJ}$\n",
    "* **Reaction II:** $AB_2(g) \\rightarrow AB(g) + \\frac{1}{2} B_2(g)$\n",
    "    * $\\Delta H^\\circ = 283 \\text{ kJ}$\n",
    "\n",
    "---\n",
    "\n",
    "#### **1. Manipulate Reaction I**\n",
    "\n",
    "First, we can simplify Reaction I by canceling out the species that appear on both sides. There is $1 B_2(g)$ on the left and $\\frac{1}{2} B_2(g)$ on the right. Canceling these leaves $\\frac{1}{2} B_2(g)$ on the left.\n",
    "\n",
    "* **Original:** $A(s) + B_2(g) \\rightarrow AB(g) + \\frac{1}{2} B_2(g)$\n",
    "* **Simplified Reaction I:** $A(s) + \\frac{1}{2} B_2(g) \\rightarrow AB(g)$\n",
    "    * The enthalpy remains the same: **-111 kJ**\n",
    "\n",
    "This is useful because it gives us the reactant $A(s)$ on the correct side of the equation.\n",
    "\n",
    "---\n",
    "\n",
    "#### **2. Manipulate Reaction II**\n",
    "\n",
    "In our target reaction, $AB_2(g)$ is a **product**. In the given Reaction II, it is a **reactant**. To fix this, we must reverse Reaction II. When we reverse a reaction, we also **flip the sign** of its $\\Delta H^\\circ$.\n",
    "\n",
    "* **Original:** $AB_2(g) \\rightarrow AB(g) + \\frac{1}{2} B_2(g)$ | $\\Delta H^\\circ = 283 \\text{ kJ}$\n",
    "* **Reversed Reaction II:** $AB(g) + \\frac{1}{2} B_2(g) \\rightarrow AB_2(g)$\n",
    "    * The new enthalpy is **-283 kJ**.\n",
    "\n",
    "---\n",
    "\n",
    "#### **3. Combine and Sum the Reactions**\n",
    "\n",
    "Now, we add our two manipulated reactions together.\n",
    "\n",
    "| Reaction                                             | Enthalpy (kJ) |\n",
    "| :--------------------------------------------------- | :-----------: |\n",
    "| $A(s) + \\frac{1}{2} B_2(g) \\rightarrow \\cancel{AB(g)}$ |     -111      |\n",
    "| $\\cancel{AB(g)} + \\frac{1}{2} B_2(g) \\rightarrow AB_2(g)$ |     -283      |\n",
    "| **Total Reaction:** |               |\n",
    "| $A(s) + B_2(g) \\rightarrow AB_2(g)$                      |     **-394** |\n",
    "\n",
    "The intermediate species $AB(g)$ cancels out because it appears on both the product and reactant sides. The two $\\frac{1}{2} B_2(g)$ terms on the reactant side combine to form $1 B_2(g)$.\n",
    "\n",
    "The resulting equation is exactly our target reaction. The final enthalpy is the sum of the enthalpies of the modified reactions:\n",
    "$\\Delta H^\\circ_{reaction} = (-111 \\text{ kJ}) + (-283 \\text{ kJ}) = -394 \\text{ kJ}$"
   ]
  },
  {
   "cell_type": "markdown",
   "id": "b61fcac7",
   "metadata": {},
   "source": [
    "# Mass based on heat, temperature and specific heat capacity"
   ]
  },
  {
   "cell_type": "code",
   "execution_count": 16,
   "id": "f553496b",
   "metadata": {},
   "outputs": [
    {
     "name": "stdout",
     "output_type": "stream",
     "text": [
      "The mass of the piece of chromium is 12.4 g\n"
     ]
    }
   ],
   "source": [
    "# --- Given values ---\n",
    "q_absorbed = 99.7\n",
    "c_chromium = 0.449\n",
    "t_initial = 27.1\n",
    "t_final = 45.0\n",
    "\n",
    "# --- Calculation ---\n",
    "delta_t = t_final - t_initial\n",
    "mass_cr = mass_from_specific_heat(q_absorbed, c_chromium, delta_t)\n",
    "\n",
    "print(f\"The mass of the piece of chromium is {mass_cr:.1f} g\")"
   ]
  },
  {
   "cell_type": "markdown",
   "id": "1abe2c9b",
   "metadata": {},
   "source": [
    "# Temperature based on mass, initial temperature and release of heat"
   ]
  },
  {
   "cell_type": "code",
   "execution_count": 17,
   "id": "30fcba00",
   "metadata": {},
   "outputs": [
    {
     "name": "stdout",
     "output_type": "stream",
     "text": [
      "The temperature changed by -31.3 °C\n",
      "The final temperature of the iron is 3.3 °C\n"
     ]
    }
   ],
   "source": [
    "# --- Given values ---\n",
    "q_released = -242  # Negative because heat is released\n",
    "mass_iron = 17.2\n",
    "c_iron = 0.449\n",
    "t_initial = 34.6\n",
    "\n",
    "# --- Step 1: Calculate the temperature change ---\n",
    "delta_t = delta_T_from_heat_mass(q_released, mass_iron, c_iron)\n",
    "\n",
    "# --- Step 2: Calculate the final temperature ---\n",
    "t_final = t_initial + delta_t\n",
    "\n",
    "# --- Display the results ---\n",
    "print(f\"The temperature changed by {delta_t:.1f} °C\")\n",
    "print(f\"The final temperature of the iron is {t_final:.1f} °C\")"
   ]
  },
  {
   "cell_type": "markdown",
   "id": "a885a737",
   "metadata": {},
   "source": [
    "# $\\Delta G$ based on reaction, $\\Delta H$, $\\Delta S$ and temperature"
   ]
  },
  {
   "cell_type": "code",
   "execution_count": 18,
   "id": "e65c733d",
   "metadata": {},
   "outputs": [
    {
     "name": "stdout",
     "output_type": "stream",
     "text": [
      "Calculated ΔG: -33.0 kJ/mol\n",
      "ΔG is negative, so the reaction is spontaneous in the forward direction.\n"
     ]
    }
   ],
   "source": [
    "# --- Given values ---\n",
    "delta_h = -91.8  # kJ/mol\n",
    "delta_s = -197.3 # J/mol*K\n",
    "temp = 25      # °C\n",
    "\n",
    "# --- Calculation ---\n",
    "delta_g, result_statement = gibbs_free_energy(delta_h, delta_s, temp)\n",
    "\n",
    "print(f\"Calculated ΔG: {delta_g:.1f} kJ/mol\")\n",
    "print(result_statement)"
   ]
  },
  {
   "cell_type": "code",
   "execution_count": 19,
   "id": "44a036ff",
   "metadata": {},
   "outputs": [
    {
     "name": "stdout",
     "output_type": "stream",
     "text": [
      "The standard free-energy change is -474.4 kJ\n"
     ]
    }
   ],
   "source": [
    "delta_h = -571.6  # kJ\n",
    "delta_s = -326.3 # J/K\n",
    "temp_k = 298     # K\n",
    "\n",
    "# --- Calculation ---\n",
    "delta_g, _ = gibbs_free_energy(\n",
    "    delta_H=delta_h,\n",
    "    delta_S=delta_s,\n",
    "    T=temp_k,\n",
    "    S_unit='J/K', # Adapting unit for this problem\n",
    "    T_unit='K'\n",
    ")\n",
    "\n",
    "print(f\"The standard free-energy change is {delta_g:.1f} kJ\")"
   ]
  },
  {
   "cell_type": "markdown",
   "id": "8f0ef1de",
   "metadata": {},
   "source": [
    "# Info on System Entropy and Surroundings Entropy\n",
    "![image.png](images/entropy-example.png)\n",
    "## System Entropy ($\\Delta S_{sys}$)\n",
    "\n",
    "The entropy of the system ($\\Delta S_{sys}$) relates to the change in disorder of the molecules within the chemical reaction itself. A simple way to estimate this for reactions involving gases is to count the moles of gas on each side.\n",
    "\n",
    "* **Reactants:** $N_2(g) + 3H_2(g)$ = **4 moles of gas**\n",
    "* **Products:** $2NH_3(g)$ = **2 moles of gas**\n",
    "\n",
    "Since the reaction goes from 4 moles of gas to 2 moles, the number of gas particles decreases. This results in a less disordered, more ordered state. Therefore, the entropy of the system **decreases**, making **$\\Delta S_{sys}$ negative**.\n",
    "\n",
    "***\n",
    "\n",
    "## Surroundings Entropy ($\\Delta S_{surr}$)\n",
    "\n",
    "The entropy of the surroundings ($\\Delta S_{surr}$) depends on the heat exchanged with the system. The problem states that the enthalpy of reaction ($\\Delta H_{rxn}$) is **-91.8 kJ/mol**.\n",
    "\n",
    "* A **negative** $\\Delta H$ means the reaction is **exothermic**.\n",
    "* An exothermic reaction **releases heat** from the system into the surroundings.\n",
    "* When the surroundings absorb this heat, their particles gain energy and move more randomly, leading to an increase in disorder.\n",
    "\n",
    "Therefore, the entropy of the surroundings **increases**, making **$\\Delta S_{surr}$ positive**."
   ]
  },
  {
   "cell_type": "markdown",
   "id": "40e70657",
   "metadata": {},
   "source": [
    "# Identify reaction $\\Delta H$ and $\\Delta S$"
   ]
  },
  {
   "cell_type": "code",
   "execution_count": 20,
   "id": "bcc6f1ad",
   "metadata": {},
   "outputs": [
    {
     "name": "stdout",
     "output_type": "stream",
     "text": [
      "3O2(g) -> 2O3(g)\n",
      "  - Enthalpy: Endothermic (ΔH° = 285.4 kJ/mol)\n",
      "  - Entropy:  Entropy Decreases (ΔS° = -137.8 J/mol·K)\n"
     ]
    }
   ],
   "source": [
    "# Define the compounds and the reaction for ozone formation\n",
    "# Ignore heat if in the formula\n",
    "o2 = Compound(\"O2\"); o2.phase = 'g'\n",
    "o3 = Compound(\"O3\"); o3.phase = 'g'\n",
    "reaction = ChemicalEquation(reactants=[o2], products=[o3])\n",
    "\n",
    "# Get the thermodynamic summary with one function call\n",
    "summary = analyze_reaction_thermodynamics(reaction, Hf, S)\n",
    "print(summary)"
   ]
  },
  {
   "cell_type": "markdown",
   "id": "c9f2505e",
   "metadata": {},
   "source": [
    "# Entropy based on temperature and enthalpy of fusion"
   ]
  },
  {
   "cell_type": "code",
   "execution_count": 21,
   "id": "a8a3c747",
   "metadata": {},
   "outputs": [
    {
     "name": "stdout",
     "output_type": "stream",
     "text": [
      "The entropy of fusion is 9.28 J/(K*mol)\n"
     ]
    }
   ],
   "source": [
    "# --- Given values ---\n",
    "delta_h_fusion = 8.66  # kJ/mol\n",
    "melting_point_c = 660  # °C\n",
    "\n",
    "# --- Calculation ---\n",
    "delta_s_fusion = entropy_of_phase_change(delta_h_fusion, melting_point_c)\n",
    "\n",
    "print(f\"The entropy of fusion is {delta_s_fusion:.2f} J/(K*mol)\")\n"
   ]
  },
  {
   "cell_type": "markdown",
   "id": "cffd2825",
   "metadata": {},
   "source": [
    "# Calculate change in entropy at 25 degree celsius"
   ]
  },
  {
   "cell_type": "code",
   "execution_count": 23,
   "id": "faf483b1",
   "metadata": {},
   "outputs": [
    {
     "name": "stdout",
     "output_type": "stream",
     "text": [
      "The change in entropy for the reaction is -5.0 J/(mol*K)\n"
     ]
    }
   ],
   "source": [
    "\n",
    "# --- 1. Define the compounds involved ---\n",
    "ch4 = Compound(\"CH4\"); ch4.phase = 'g'\n",
    "o2 = Compound(\"O2\"); o2.phase = 'g'\n",
    "h2o = Compound(\"H2O\"); h2o.phase = 'g'\n",
    "co2 = Compound(\"CO2\"); co2.phase = 'g'\n",
    "\n",
    "# --- 2. Define the chemical equation ---\n",
    "combustion_rxn = ChemicalEquation(\n",
    "    reactants=[ch4, o2],\n",
    "    products=[h2o, co2]\n",
    ")\n",
    "\n",
    "# --- 3. Create a dictionary of the given standard entropy values ---\n",
    "s_values = {\n",
    "    ch4: 186.1,\n",
    "    o2: 205.0,\n",
    "    h2o: 188.7,\n",
    "    co2: 213.7\n",
    "}\n",
    "\n",
    "# --- 4. Calculate the reaction entropy ---\n",
    "delta_s = reaction_entropy(combustion_rxn, s_values)\n",
    "\n",
    "print(f\"The change in entropy for the reaction is {delta_s:.1f} J/(mol*K)\")"
   ]
  },
  {
   "cell_type": "code",
   "execution_count": null,
   "id": "b0b3a1db",
   "metadata": {},
   "outputs": [],
   "source": []
  }
 ],
 "metadata": {
  "kernelspec": {
   "display_name": "KEMI",
   "language": "python",
   "name": "python3"
  },
  "language_info": {
   "codemirror_mode": {
    "name": "ipython",
    "version": 3
   },
   "file_extension": ".py",
   "mimetype": "text/x-python",
   "name": "python",
   "nbconvert_exporter": "python",
   "pygments_lexer": "ipython3",
   "version": "3.13.5"
  }
 },
 "nbformat": 4,
 "nbformat_minor": 5
}
