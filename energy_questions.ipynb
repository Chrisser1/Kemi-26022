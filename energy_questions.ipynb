{
 "cells": [
  {
   "cell_type": "code",
   "execution_count": 1,
   "id": "4034c596",
   "metadata": {},
   "outputs": [],
   "source": [
    "from energy import *\n",
    "from compound import *\n",
    "from equations import *\n",
    "Hf = get_Hf_map()\n",
    "Gf = get_Gf_map()\n",
    "S  = get_S_map()"
   ]
  },
  {
   "cell_type": "markdown",
   "id": "9662addb",
   "metadata": {},
   "source": [
    "# standard dannelsesentalpien"
   ]
  },
  {
   "cell_type": "code",
   "execution_count": 2,
   "id": "e793ddda",
   "metadata": {},
   "outputs": [
    {
     "data": {
      "text/plain": [
       "105.6"
      ]
     },
     "execution_count": 2,
     "metadata": {},
     "output_type": "execute_result"
    }
   ],
   "source": [
    "ag = Compound('Ag'); ag.charge = 1; ag.phase = 'aq'\n",
    "Hf[ag]"
   ]
  },
  {
   "cell_type": "code",
   "execution_count": 3,
   "id": "9b4d517a",
   "metadata": {},
   "outputs": [
    {
     "name": "stdout",
     "output_type": "stream",
     "text": [
      "Delta H is 44.0 kJ/mol\n"
     ]
    }
   ],
   "source": [
    "h2o_liquid = Compound('H2O'); h2o_liquid.phase = 'l'\n",
    "h2o_gas = Compound('H2O'); h2o_gas.phase = 'g'\n",
    "\n",
    "eq = ChemicalEquation([h2o_liquid], [h2o_gas])\n",
    "\n",
    "print(f\"Delta H is {reaction_enthalpy(eq, Hf)} kJ/mol\")"
   ]
  },
  {
   "cell_type": "code",
   "execution_count": 4,
   "id": "ac095f2b",
   "metadata": {},
   "outputs": [
    {
     "name": "stdout",
     "output_type": "stream",
     "text": [
      "Delta H is -55.80000000000001 kJ/mol\n"
     ]
    }
   ],
   "source": [
    "h = Compound('H'); h.charge = 1; h.phase = 'aq'\n",
    "oh = Compound('OH'); oh.charge = -1; oh.phase = 'aq'\n",
    "h20 = Compound('H2O'); h20.phase = 'l'\n",
    "\n",
    "eq = ChemicalEquation([h, oh], [h20])\n",
    "print(f\"Delta H is {reaction_enthalpy(eq, Hf)} kJ/mol\")"
   ]
  },
  {
   "cell_type": "markdown",
   "id": "75031692",
   "metadata": {},
   "source": []
  },
  {
   "cell_type": "code",
   "execution_count": 5,
   "id": "2aa56ede",
   "metadata": {},
   "outputs": [
    {
     "name": "stdout",
     "output_type": "stream",
     "text": [
      "Delta H is -5.009999999999991 kJ/mol\n"
     ]
    }
   ],
   "source": [
    "na2so4 = Compound('Na2SO4'); na2so4.phase = 's'\n",
    "na = Compound('Na'); na.charge = 1; na.phase = 'aq'\n",
    "so4 = Compound('SO4'); so4.charge = -2; so4.phase = 'aq'\n",
    "\n",
    "eq = ChemicalEquation([na2so4], [na, so4])\n",
    "print(f\"Delta H is {reaction_enthalpy(eq, Hf)} kJ/mol\")"
   ]
  },
  {
   "cell_type": "markdown",
   "id": "8a1c6288",
   "metadata": {},
   "source": [
    "![image.png](images/energy-question-10.png)"
   ]
  },
  {
   "cell_type": "code",
   "execution_count": 6,
   "id": "c5b558cd",
   "metadata": {},
   "outputs": [
    {
     "name": "stdout",
     "output_type": "stream",
     "text": [
      "We release 155.49405289229043 kJ of energy when burning 10 g of glucose.\n"
     ]
    }
   ],
   "source": [
    "c6h12o6 = Compound('C6H12O6'); c6h12o6.phase = 's'\n",
    "o2 = Compound('O2'); o2.phase = 'g'\n",
    "co2 = Compound('CO2'); co2.phase = 'g'\n",
    "h2o = Compound('H2O'); h2o.phase = 'l'\n",
    "\n",
    "eq = ChemicalEquation([c6h12o6, o2], [co2, h2o])\n",
    "\n",
    "c6h12o6.set_mass(10)\n",
    "\n",
    "delta_h = reaction_enthalpy(eq, Hf)\n",
    "print(f\"We release {-delta_h * c6h12o6.amount_mol} kJ of energy when burning {c6h12o6.mass_g} g of glucose.\")"
   ]
  },
  {
   "cell_type": "code",
   "execution_count": 7,
   "id": "b6a3bb2f",
   "metadata": {},
   "outputs": [
    {
     "name": "stdout",
     "output_type": "stream",
     "text": [
      "ΔH°rxn = -5.009999999999991 kJ/mol\n",
      "ΔS°rxn = 24.5 J/(mol·K)\n",
      "ΔG°rxn = -1.5 kJ/mol\n"
     ]
    }
   ],
   "source": [
    "na2so4 = Compound('Na2SO4'); na2so4.phase = 's'\n",
    "na = Compound('Na'); na.charge = 1; na.phase = 'aq'\n",
    "so4 = Compound('SO4'); so4.charge = -2; so4.phase = 'aq'\n",
    "\n",
    "eq = ChemicalEquation([na2so4], [na, so4])\n",
    "\n",
    "\n",
    "print(\"ΔH°rxn =\", reaction_enthalpy(eq, Hf), \"kJ/mol\")\n",
    "print(\"ΔS°rxn =\", reaction_entropy(eq, S),  \"J/(mol·K)\")\n",
    "print(\"ΔG°rxn =\", reaction_free_energy(eq, Gf), \"kJ/mol\")"
   ]
  },
  {
   "cell_type": "code",
   "execution_count": null,
   "id": "f561685c",
   "metadata": {},
   "outputs": [],
   "source": []
  }
 ],
 "metadata": {
  "kernelspec": {
   "display_name": "KEMI",
   "language": "python",
   "name": "python3"
  },
  "language_info": {
   "codemirror_mode": {
    "name": "ipython",
    "version": 3
   },
   "file_extension": ".py",
   "mimetype": "text/x-python",
   "name": "python",
   "nbconvert_exporter": "python",
   "pygments_lexer": "ipython3",
   "version": "3.13.5"
  }
 },
 "nbformat": 4,
 "nbformat_minor": 5
}
