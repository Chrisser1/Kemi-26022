{
 "cells": [
  {
   "cell_type": "code",
   "execution_count": 1,
   "id": "897a6d47",
   "metadata": {},
   "outputs": [],
   "source": [
    "from compound import *"
   ]
  },
  {
   "cell_type": "markdown",
   "id": "277b3082",
   "metadata": {},
   "source": [
    "# Calculations for a single molecule or compound"
   ]
  },
  {
   "cell_type": "code",
   "execution_count": 2,
   "id": "ab98e105",
   "metadata": {},
   "outputs": [
    {
     "name": "stdout",
     "output_type": "stream",
     "text": [
      "Name:         Carbon dioxide\n",
      "Bond type(s): Polar covalent\n",
      "Formula:      CO2\n",
      "Molar mass:   44.0090 g/mol\n",
      "Atom count:   3 atoms/unit\n",
      "Total units:  5.42e+25 formula units (1.63e+26 atoms in total)\n",
      "Mass:         3960.8100 g\n",
      "Amount:       90.000000 mol\n"
     ]
    }
   ],
   "source": [
    "c = Compound(\"CO2\")\n",
    "c.set_moles(90)\n",
    "c.phase = \"g\"\n",
    "c.display()"
   ]
  },
  {
   "cell_type": "code",
   "execution_count": 3,
   "id": "dab976a2",
   "metadata": {},
   "outputs": [
    {
     "data": {
      "text/plain": [
       "{'C': 33.333333333333336, 'O': 66.66666666666667}"
      ]
     },
     "execution_count": 3,
     "metadata": {},
     "output_type": "execute_result"
    }
   ],
   "source": [
    "c.element_mole_percent()\n"
   ]
  },
  {
   "cell_type": "code",
   "execution_count": 4,
   "id": "b0e4efd3",
   "metadata": {},
   "outputs": [
    {
     "data": {
      "text/plain": [
       "{'C': 12.011, 'O': 31.998, 'total': 44.009}"
      ]
     },
     "execution_count": 4,
     "metadata": {},
     "output_type": "execute_result"
    }
   ],
   "source": [
    "c.element_molar_contributions()"
   ]
  },
  {
   "cell_type": "code",
   "execution_count": 5,
   "id": "6205205b",
   "metadata": {},
   "outputs": [
    {
     "data": {
      "text/plain": [
       "{'C': 27.292144788565974, 'O': 72.70785521143402}"
      ]
     },
     "execution_count": 5,
     "metadata": {},
     "output_type": "execute_result"
    }
   ],
   "source": [
    "c.element_mass_percent()"
   ]
  },
  {
   "cell_type": "code",
   "execution_count": 6,
   "id": "12e2df6d",
   "metadata": {},
   "outputs": [
    {
     "data": {
      "text/plain": [
       "{'C': 1080.99, 'O': 2879.82}"
      ]
     },
     "execution_count": 6,
     "metadata": {},
     "output_type": "execute_result"
    }
   ],
   "source": [
    "c.element_mass_contributions()"
   ]
  },
  {
   "cell_type": "code",
   "execution_count": 7,
   "id": "3e1c1542",
   "metadata": {},
   "outputs": [
    {
     "data": {
      "text/plain": [
       "{'N': 2, 'O': 4}"
      ]
     },
     "execution_count": 7,
     "metadata": {},
     "output_type": "execute_result"
    }
   ],
   "source": [
    "c = Compound(\"NO2\")\n",
    "c.set_moles(2)\n",
    "# How many oxygen atoms are in 2 moles of NO2?\n",
    "elem_mols = c.element_moles()\n",
    "elem_mols"
   ]
  },
  {
   "cell_type": "code",
   "execution_count": 8,
   "id": "da06c835",
   "metadata": {},
   "outputs": [
    {
     "name": "stdout",
     "output_type": "stream",
     "text": [
      "Name:         Oxygen (nonmetal)\n",
      "Bond type(s): Nonpolar covalent\n",
      "Formula:      O2\n",
      "Molar mass:   31.9980 g/mol\n",
      "Atom count:   2 atoms/unit\n",
      "Total units:  2.41e+24 formula units (4.82e+24 atoms in total)\n",
      "Mass:         127.9920 g\n",
      "Amount:       4.000000 mol\n"
     ]
    }
   ],
   "source": [
    "# We can no\n",
    "o = Compound(\"O2\")\n",
    "o.set_moles(elem_mols[\"O\"])\n",
    "o.display()"
   ]
  },
  {
   "cell_type": "markdown",
   "id": "46e5ce9f",
   "metadata": {},
   "source": [
    "From this we can see that the answer is 2.41e+24 oxygen atoms."
   ]
  },
  {
   "cell_type": "code",
   "execution_count": 9,
   "id": "86b3c8cc",
   "metadata": {},
   "outputs": [
    {
     "name": "stdout",
     "output_type": "stream",
     "text": [
      "Name:         Carbon dioxide\n",
      "Bond type(s): Polar covalent\n",
      "Formula:      CO2\n",
      "Molar mass:   44.0090 g/mol\n",
      "Atom count:   3 atoms/unit\n",
      "Total units:  6.14e+22 formula units (1.84e+23 atoms in total)\n",
      "Mass:         4.4870 g\n",
      "Amount:       0.101957 mol\n"
     ]
    }
   ],
   "source": [
    "co2 = Compound(\"CO2\")\n",
    "co2.set_molecules(6.14e+22)\n",
    "co2.display()"
   ]
  }
 ],
 "metadata": {
  "kernelspec": {
   "display_name": "KEMI",
   "language": "python",
   "name": "python3"
  },
  "language_info": {
   "codemirror_mode": {
    "name": "ipython",
    "version": 3
   },
   "file_extension": ".py",
   "mimetype": "text/x-python",
   "name": "python",
   "nbconvert_exporter": "python",
   "pygments_lexer": "ipython3",
   "version": "3.13.5"
  }
 },
 "nbformat": 4,
 "nbformat_minor": 5
}
