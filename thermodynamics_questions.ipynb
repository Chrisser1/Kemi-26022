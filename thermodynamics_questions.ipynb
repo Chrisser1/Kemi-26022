{
 "cells": [
  {
   "cell_type": "code",
   "execution_count": 1,
   "id": "8db146c7",
   "metadata": {},
   "outputs": [],
   "source": [
    "import thermodynamics as thermo"
   ]
  },
  {
   "cell_type": "markdown",
   "id": "837d4e19",
   "metadata": {},
   "source": [
    "# enthalpy from surroundings entropy and temperature"
   ]
  },
  {
   "cell_type": "code",
   "execution_count": 2,
   "id": "3f6834ae",
   "metadata": {},
   "outputs": [
    {
     "name": "stdout",
     "output_type": "stream",
     "text": [
      "The enthalpy change for the reaction is: -23.4 kJ/mol\n"
     ]
    }
   ],
   "source": [
    "# --- Given values from the problem ---\n",
    "delta_s_surroundings = 78.5  # J/(mol·K)\n",
    "temperature_K = 298          # K\n",
    "\n",
    "# --- Use the new function to calculate the enthalpy change ---\n",
    "delta_h_reaction = thermo.enthalpy_from_surroundings_entropy(\n",
    "    delta_s_surr=delta_s_surroundings,\n",
    "    T_kelvin=temperature_K\n",
    ")\n",
    "\n",
    "print(f\"The enthalpy change for the reaction is: {delta_h_reaction:.1f} kJ/mol\")"
   ]
  },
  {
   "cell_type": "markdown",
   "id": "7d03959d",
   "metadata": {},
   "source": [
    "# Calculate ΔS_univ"
   ]
  },
  {
   "cell_type": "code",
   "execution_count": 3,
   "id": "d3629e19",
   "metadata": {},
   "outputs": [
    {
     "name": "stdout",
     "output_type": "stream",
     "text": [
      "The change in entropy for the universe is: 124.0 J/(mol·K)\n"
     ]
    }
   ],
   "source": [
    "# --- Given values from the problem ---\n",
    "delta_s_system = 45.5       # J/(mol·K)\n",
    "delta_h_reaction = -25.5    # kJ/mol\n",
    "temperature = 325           # K\n",
    "\n",
    "# --- Use the function to calculate the result ---\n",
    "thermo_results = thermo.entropy_of_universe(\n",
    "    delta_s_sys=delta_s_system,\n",
    "    delta_h_rxn_kj=delta_h_reaction,\n",
    "    T_kelvin=temperature\n",
    ")\n",
    "\n",
    "# --- Display the results ---\n",
    "s_univ = thermo_results[\"delta_s_univ\"]\n",
    "print(f\"The change in entropy for the universe is: {s_univ:.1f} J/(mol·K)\")"
   ]
  },
  {
   "cell_type": "code",
   "execution_count": 7,
   "id": "b38bde08",
   "metadata": {},
   "outputs": [
    {
     "name": "stdout",
     "output_type": "stream",
     "text": [
      "The change in entropy for the universe is: 154.8 J/K\n"
     ]
    }
   ],
   "source": [
    "# --- Given values from the problem ---\n",
    "delta_s_system = -5.2      # J/K\n",
    "delta_h_reaction = -32     # kJ\n",
    "temperature = 200          # K\n",
    "\n",
    "# --- Use the function to calculate the result ---\n",
    "thermo_results = thermo.entropy_of_universe(\n",
    "    delta_s_sys=delta_s_system,\n",
    "    delta_h_rxn_kj=delta_h_reaction,\n",
    "    T_kelvin=temperature\n",
    ")\n",
    "\n",
    "# --- Display the results ---\n",
    "s_univ = thermo_results[\"delta_s_univ\"]\n",
    "print(f\"The change in entropy for the universe is: {s_univ:.1f} J/K\")\n"
   ]
  },
  {
   "cell_type": "markdown",
   "id": "61664b1c",
   "metadata": {},
   "source": [
    "# ΔS_surr entropy of surroundings based on temperature and ΔH"
   ]
  },
  {
   "cell_type": "code",
   "execution_count": 4,
   "id": "324813eb",
   "metadata": {},
   "outputs": [
    {
     "name": "stdout",
     "output_type": "stream",
     "text": [
      "The change in entropy for the surroundings is: 621 J/mol·K\n"
     ]
    }
   ],
   "source": [
    "# --- Given values from the problem ---\n",
    "delta_h_reaction = -185  # kJ/mol\n",
    "temperature = 298        # K\n",
    "\n",
    "# --- Use the new function to calculate the result ---\n",
    "s_surroundings = thermo.entropy_of_surroundings(\n",
    "    delta_h_rxn_kj=delta_h_reaction,\n",
    "    T_kelvin=temperature\n",
    ")\n",
    "\n",
    "# --- Display the results ---\n",
    "print(f\"The change in entropy for the surroundings is: {s_surroundings:.0f} J/mol·K\")"
   ]
  },
  {
   "cell_type": "markdown",
   "id": "76bfc5f4",
   "metadata": {},
   "source": [
    "# ΔG gibs energy based on temperature with given ΔH∘ and ΔS∘"
   ]
  },
  {
   "cell_type": "code",
   "execution_count": 5,
   "id": "f444b12b",
   "metadata": {},
   "outputs": [
    {
     "name": "stdout",
     "output_type": "stream",
     "text": [
      "The Gibbs free energy (ΔG) is: 7.25 kJ\n",
      "Conclusion: ΔG is positive, so the reaction is non-spontaneous.\n"
     ]
    }
   ],
   "source": [
    "# --- Given values from the problem ---\n",
    "delta_h = -91.8      # kJ\n",
    "delta_s = -198.1     # J/K\n",
    "temperature = 500    # K\n",
    "\n",
    "# --- Use the function to calculate the result ---\n",
    "# The function returns the calculated ΔG and a statement about spontaneity\n",
    "delta_g, spontaneity = thermo.gibbs_free_energy(\n",
    "    delta_H=delta_h,\n",
    "    delta_S=delta_s,\n",
    "    T=temperature,\n",
    "    S_unit='J/K',    # Specify the unit for automatic conversion\n",
    "    T_unit='K'       # Specify the temperature unit\n",
    ")\n",
    "\n",
    "# --- Display the results ---\n",
    "print(f\"The Gibbs free energy (ΔG) is: {delta_g:.2f} kJ\")\n",
    "print(f\"Conclusion: {spontaneity}\")"
   ]
  },
  {
   "cell_type": "code",
   "execution_count": 6,
   "id": "f86fdef8",
   "metadata": {},
   "outputs": [
    {
     "name": "stdout",
     "output_type": "stream",
     "text": [
      "The Gibbs free energy (ΔG) is: -113.10 kJ\n",
      "Conclusion: ΔG is negative, so the reaction is spontaneous.\n"
     ]
    }
   ],
   "source": [
    "# --- Given values from the problem ---\n",
    "delta_h = -187.78    # kJ\n",
    "delta_s = -226.3     # J/K\n",
    "temperature = 330    # K\n",
    "\n",
    "# --- Use the function to calculate the result ---\n",
    "# The function returns the calculated ΔG and a statement about spontaneity\n",
    "delta_g, spontaneity = thermo.gibbs_free_energy(\n",
    "    delta_H=delta_h,\n",
    "    delta_S=delta_s,\n",
    "    T=temperature,\n",
    "    S_unit='J/K',    # Specify the unit for automatic conversion\n",
    "    T_unit='K'       # Specify the temperature unit\n",
    ")\n",
    "\n",
    "# --- Display the results ---\n",
    "print(f\"The Gibbs free energy (ΔG) is: {delta_g:.2f} kJ\")\n",
    "print(f\"Conclusion: {spontaneity}\")"
   ]
  },
  {
   "cell_type": "code",
   "execution_count": 8,
   "id": "2873df91",
   "metadata": {},
   "outputs": [
    {
     "name": "stdout",
     "output_type": "stream",
     "text": [
      "The Gibbs free energy (ΔG) is: -821.4 kJ\n",
      "Conclusion: ΔG is negative, so the reaction is spontaneous.\n"
     ]
    }
   ],
   "source": [
    "# --- Given values from the problem ---\n",
    "delta_h = -786.1     # kJ\n",
    "delta_s = 235.0      # J/K\n",
    "temperature = 150    # K\n",
    "\n",
    "# --- Use the function to calculate the result ---\n",
    "delta_g, spontaneity = thermo.gibbs_free_energy(\n",
    "    delta_H=delta_h,\n",
    "    delta_S=delta_s,\n",
    "    T=temperature,\n",
    "    S_unit='J/K',    # Specify the unit for automatic conversion\n",
    "    T_unit='K'       # Specify the temperature unit\n",
    ")\n",
    "\n",
    "# --- Display the results ---\n",
    "print(f\"The Gibbs free energy (ΔG) is: {delta_g:.1f} kJ\")\n",
    "print(f\"Conclusion: {spontaneity}\")"
   ]
  },
  {
   "cell_type": "code",
   "execution_count": null,
   "id": "94fa8108",
   "metadata": {},
   "outputs": [],
   "source": []
  }
 ],
 "metadata": {
  "kernelspec": {
   "display_name": "KEMI",
   "language": "python",
   "name": "python3"
  },
  "language_info": {
   "codemirror_mode": {
    "name": "ipython",
    "version": 3
   },
   "file_extension": ".py",
   "mimetype": "text/x-python",
   "name": "python",
   "nbconvert_exporter": "python",
   "pygments_lexer": "ipython3",
   "version": "3.13.5"
  }
 },
 "nbformat": 4,
 "nbformat_minor": 5
}
